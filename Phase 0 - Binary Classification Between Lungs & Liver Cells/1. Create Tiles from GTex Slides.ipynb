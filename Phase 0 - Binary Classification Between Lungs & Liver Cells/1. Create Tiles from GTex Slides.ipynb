{
 "cells": [
  {
   "cell_type": "code",
   "execution_count": 8,
   "metadata": {},
   "outputs": [],
   "source": [
    "from glob import glob\n",
    "\n",
    "import matplotlib.pyplot as plt  \n",
    "import matplotlib as mpl  \n",
    "import numpy as np  \n",
    "import openslide  \n",
    "from openslide import open_slide  \n",
    "from openslide.deepzoom import DeepZoomGenerator  \n",
    "import pandas as pd\n",
    "\n",
    "from scipy.ndimage.morphology import binary_fill_holes, binary_closing, binary_dilation  \n",
    "\n",
    "plt.rcParams['figure.figsize'] = (10, 6)  "
   ]
  },
  {
   "cell_type": "code",
   "execution_count": 3,
   "metadata": {},
   "outputs": [
    {
     "name": "stdout",
     "output_type": "stream",
     "text": [
      "Slides: ['slides/validation/lungs/GTEX-111VG-0726.svs', 'slides/validation/lungs/GTEX-1122O-0126.svs']\n",
      "\n",
      "num_slides: 2\n"
     ]
    }
   ],
   "source": [
    "#Get .svs images from slides folder\n",
    "data_type = \"validation\" # change to train or validation\n",
    "slide_type = \"lung\" # change to lung or liver\n",
    "\n",
    "read_slides_path = \"slides/\" + data_type + \"/\" + slide_type + \"s/\"\n",
    "write_slides_path = \"data/\" + data_type + \"/\" + slide_type + \"s/\"\n",
    "\n",
    "slides = glob(read_slides_path + \"*.svs\")  \n",
    "print(\"Slides: \" + str(slides) + \"\\n\")\n",
    "\n",
    "num_slides = len(slides)\n",
    "print(\"num_slides: \" + str(num_slides))"
   ]
  },
  {
   "cell_type": "code",
   "execution_count": null,
   "metadata": {
    "collapsed": true
   },
   "outputs": [],
   "source": [
    "tile_size = 128\n",
    "default_slide_level = 12 # set to 12 by default"
   ]
  },
  {
   "cell_type": "code",
   "execution_count": null,
   "metadata": {
    "collapsed": true
   },
   "outputs": [],
   "source": [
    "def not_mostly_white(tile):\n",
    "    ''' \n",
    "    Returns true if more than X% of slide pixels are not white\n",
    "    '''\n",
    "    threshold_x = 0.5\n",
    "    pixels = tile.getdata()\n",
    "    white_thresh = (240,240,240)\n",
    "    not_white = 0\n",
    "    for pixel in pixels:        \n",
    "        if pixel < white_thresh:\n",
    "            not_white += 1\n",
    "    return (not_white /len(pixels)) > threshold_x"
   ]
  },
  {
   "cell_type": "code",
   "execution_count": null,
   "metadata": {
    "collapsed": true
   },
   "outputs": [],
   "source": [
    "num_saved = 0\n",
    "\n",
    "for slide_num in range(num_slides):\n",
    "    print(\"######### Opening Slide:\" + slides[slide_num] + \"\\n\")\n",
    "    slide = open_slide(slides[slide_num])  \n",
    "    \n",
    "    \n",
    "    tiles = DeepZoomGenerator(slide, tile_size=tile_size, overlap=0, limit_bounds=False)  \n",
    "    # overlap: adds pixels to each side\n",
    "    \n",
    "    print(\"Level tiles for default level: \" + str(tiles.level_tiles[default_slide_level])) \n",
    "    # See how many tiles there are for default slide level of magnification.\n",
    "    \n",
    "    tiles_x = tiles.level_tiles[default_slide_level][0]\n",
    "    tiles_y = tiles.level_tiles[default_slide_level][1] \n",
    "    \n",
    "    # iterate through slide level rows and columns\n",
    "    for i in range(tiles_x):\n",
    "        for j in range(tiles_y):\n",
    "            tile = tiles.get_tile(default_slide_level, (i,j))\n",
    "            if tile.size == (tile_size, tile_size) and not_mostly_white(tile):\n",
    "                num_saved += 1\n",
    "                tile_name = write_slides_path + slide_type + str(num_saved) + \".png\"\n",
    "                tile.save(tile_name, \"PNG\")\n",
    "                print(tile_name + \" saved!\")\n",
    "                \n",
    "    print(\"######### Closing Slide:\" + slides[slide_num] + \"\\n\")\n",
    "    slide.close()"
   ]
  },
  {
   "cell_type": "code",
   "execution_count": null,
   "metadata": {
    "collapsed": true
   },
   "outputs": [],
   "source": []
  },
  {
   "cell_type": "code",
   "execution_count": null,
   "metadata": {
    "collapsed": true
   },
   "outputs": [],
   "source": []
  }
 ],
 "metadata": {
  "anaconda-cloud": {},
  "kernelspec": {
   "display_name": "Python3 Tensorflow Keras",
   "language": "python",
   "name": "keras"
  },
  "language_info": {
   "codemirror_mode": {
    "name": "ipython",
    "version": 3
   },
   "file_extension": ".py",
   "mimetype": "text/x-python",
   "name": "python",
   "nbconvert_exporter": "python",
   "pygments_lexer": "ipython3",
   "version": "3.5.2"
  }
 },
 "nbformat": 4,
 "nbformat_minor": 1
}
