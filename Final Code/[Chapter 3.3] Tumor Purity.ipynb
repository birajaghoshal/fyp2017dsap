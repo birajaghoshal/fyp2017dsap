{
 "cells": [
  {
   "cell_type": "code",
   "execution_count": 71,
   "metadata": {
    "collapsed": true
   },
   "outputs": [],
   "source": [
    "from glob import glob\n",
    "import os as os\n",
    "import matplotlib.pyplot as plt  \n",
    "import matplotlib as mpl  \n",
    "import numpy as np  \n",
    "import pandas as pd\n",
    "import scipy as scipy\n",
    "import InfiniumPurifyPurity\n",
    "\n",
    "\n",
    "%matplotlib inline"
   ]
  },
  {
   "cell_type": "code",
   "execution_count": 72,
   "metadata": {
    "collapsed": false
   },
   "outputs": [
    {
     "name": "stderr",
     "output_type": "stream",
     "text": [
      "/home/a0121533/.virtualenvs/keras/lib/python3.5/site-packages/IPython/core/interactiveshell.py:2698: DtypeWarning: Columns (2) have mixed types. Specify dtype option on import or set low_memory=False.\n",
      "  interactivity=interactivity, compiler=compiler, result=result)\n"
     ]
    }
   ],
   "source": [
    "methy = pd.read_table('COAD__methylation_450__tissueTypeAll__20171112221611.txt')"
   ]
  },
  {
   "cell_type": "code",
   "execution_count": 73,
   "metadata": {
    "collapsed": true
   },
   "outputs": [],
   "source": [
    "gene_exp_data = pd.read_table('/home/a0121533/fyp2017dsap/Phase_2/COAD__geneExp.txt')\n",
    "gene_exp_slides = [g[:16] for g in gene_exp_data.columns[2:]]"
   ]
  },
  {
   "cell_type": "code",
   "execution_count": 74,
   "metadata": {
    "collapsed": true
   },
   "outputs": [],
   "source": [
    "genes = methy.columns[4:]\n",
    "genes_id = []\n",
    "for g in genes:\n",
    "    if g[:16] in gene_exp_slides:\n",
    "        genes_id.append(g)"
   ]
  },
  {
   "cell_type": "code",
   "execution_count": 75,
   "metadata": {
    "collapsed": false
   },
   "outputs": [
    {
     "name": "stderr",
     "output_type": "stream",
     "text": [
      "/home/a0121533/.virtualenvs/keras/lib/python3.5/site-packages/ipykernel_launcher.py:13: SettingWithCopyWarning: \n",
      "A value is trying to be set on a copy of a slice from a DataFrame.\n",
      "Try using .loc[row_indexer,col_indexer] = value instead\n",
      "\n",
      "See the caveats in the documentation: http://pandas.pydata.org/pandas-docs/stable/indexing.html#indexing-view-versus-copy\n",
      "  del sys.path[0]\n",
      "INFO  @ Thu, 14 Dec 2017 00:10:55: Input filename is: /home/a0121533/InfiniumPurify/purity_data/red_methy_TCGA-3L-AA1B-01A-11D-A36Y-05.txt \n",
      "INFO  @ Thu, 14 Dec 2017 00:10:55: Cancer Type is: COAD \n",
      "INFO  @ Thu, 14 Dec 2017 00:10:55: Loading hyper and hypo iDMCs for: COAD \n",
      "INFO  @ Thu, 14 Dec 2017 00:10:55: Computating peak mode of iDMCs ... \n"
     ]
    },
    {
     "name": "stdout",
     "output_type": "stream",
     "text": [
      "TCGA-3L-AA1B-01A-11D-A36Y-05 0.58\n"
     ]
    },
    {
     "name": "stderr",
     "output_type": "stream",
     "text": [
      "INFO  @ Thu, 14 Dec 2017 00:11:16: Input filename is: /home/a0121533/InfiniumPurify/purity_data/red_methy_TCGA-4N-A93T-01A-11D-A36Y-05.txt \n",
      "INFO  @ Thu, 14 Dec 2017 00:11:16: Cancer Type is: COAD \n",
      "INFO  @ Thu, 14 Dec 2017 00:11:16: Loading hyper and hypo iDMCs for: COAD \n",
      "INFO  @ Thu, 14 Dec 2017 00:11:16: Computating peak mode of iDMCs ... \n"
     ]
    },
    {
     "name": "stdout",
     "output_type": "stream",
     "text": [
      "TCGA-4N-A93T-01A-11D-A36Y-05 0.84\n"
     ]
    },
    {
     "name": "stderr",
     "output_type": "stream",
     "text": [
      "INFO  @ Thu, 14 Dec 2017 00:11:38: Input filename is: /home/a0121533/InfiniumPurify/purity_data/red_methy_TCGA-4T-AA8H-01A-11D-A40X-05.txt \n",
      "INFO  @ Thu, 14 Dec 2017 00:11:38: Cancer Type is: COAD \n",
      "INFO  @ Thu, 14 Dec 2017 00:11:38: Loading hyper and hypo iDMCs for: COAD \n",
      "INFO  @ Thu, 14 Dec 2017 00:11:38: Computating peak mode of iDMCs ... \n"
     ]
    },
    {
     "name": "stdout",
     "output_type": "stream",
     "text": [
      "TCGA-4T-AA8H-01A-11D-A40X-05 0.85\n"
     ]
    },
    {
     "name": "stderr",
     "output_type": "stream",
     "text": [
      "INFO  @ Thu, 14 Dec 2017 00:11:59: Input filename is: /home/a0121533/InfiniumPurify/purity_data/red_methy_TCGA-5M-AAT4-01A-11D-A40X-05.txt \n",
      "INFO  @ Thu, 14 Dec 2017 00:11:59: Cancer Type is: COAD \n",
      "INFO  @ Thu, 14 Dec 2017 00:11:59: Loading hyper and hypo iDMCs for: COAD \n",
      "INFO  @ Thu, 14 Dec 2017 00:11:59: Computating peak mode of iDMCs ... \n"
     ]
    },
    {
     "name": "stdout",
     "output_type": "stream",
     "text": [
      "TCGA-5M-AAT4-01A-11D-A40X-05 0.74\n"
     ]
    },
    {
     "name": "stderr",
     "output_type": "stream",
     "text": [
      "INFO  @ Thu, 14 Dec 2017 00:12:21: Input filename is: /home/a0121533/InfiniumPurify/purity_data/red_methy_TCGA-5M-AAT5-01A-21D-A40X-05.txt \n",
      "INFO  @ Thu, 14 Dec 2017 00:12:21: Cancer Type is: COAD \n",
      "INFO  @ Thu, 14 Dec 2017 00:12:21: Loading hyper and hypo iDMCs for: COAD \n",
      "INFO  @ Thu, 14 Dec 2017 00:12:21: Computating peak mode of iDMCs ... \n"
     ]
    },
    {
     "name": "stdout",
     "output_type": "stream",
     "text": [
      "TCGA-5M-AAT5-01A-21D-A40X-05 0.81\n"
     ]
    },
    {
     "name": "stderr",
     "output_type": "stream",
     "text": [
      "INFO  @ Thu, 14 Dec 2017 00:12:42: Input filename is: /home/a0121533/InfiniumPurify/purity_data/red_methy_TCGA-5M-AAT6-01A-11D-A40X-05.txt \n",
      "INFO  @ Thu, 14 Dec 2017 00:12:42: Cancer Type is: COAD \n",
      "INFO  @ Thu, 14 Dec 2017 00:12:42: Loading hyper and hypo iDMCs for: COAD \n",
      "INFO  @ Thu, 14 Dec 2017 00:12:42: Computating peak mode of iDMCs ... \n"
     ]
    },
    {
     "name": "stdout",
     "output_type": "stream",
     "text": [
      "TCGA-5M-AAT6-01A-11D-A40X-05 0.46\n"
     ]
    },
    {
     "name": "stderr",
     "output_type": "stream",
     "text": [
      "INFO  @ Thu, 14 Dec 2017 00:13:03: Input filename is: /home/a0121533/InfiniumPurify/purity_data/red_methy_TCGA-5M-AATA-01A-31D-A40X-05.txt \n",
      "INFO  @ Thu, 14 Dec 2017 00:13:03: Cancer Type is: COAD \n",
      "INFO  @ Thu, 14 Dec 2017 00:13:03: Loading hyper and hypo iDMCs for: COAD \n",
      "INFO  @ Thu, 14 Dec 2017 00:13:03: Computating peak mode of iDMCs ... \n"
     ]
    },
    {
     "name": "stdout",
     "output_type": "stream",
     "text": [
      "TCGA-5M-AATA-01A-31D-A40X-05 0.61\n"
     ]
    },
    {
     "name": "stderr",
     "output_type": "stream",
     "text": [
      "INFO  @ Thu, 14 Dec 2017 00:13:24: Input filename is: /home/a0121533/InfiniumPurify/purity_data/red_methy_TCGA-5M-AATE-01A-11D-A40X-05.txt \n",
      "INFO  @ Thu, 14 Dec 2017 00:13:24: Cancer Type is: COAD \n",
      "INFO  @ Thu, 14 Dec 2017 00:13:24: Loading hyper and hypo iDMCs for: COAD \n",
      "INFO  @ Thu, 14 Dec 2017 00:13:24: Computating peak mode of iDMCs ... \n"
     ]
    },
    {
     "name": "stdout",
     "output_type": "stream",
     "text": [
      "TCGA-5M-AATE-01A-11D-A40X-05 0.84\n"
     ]
    },
    {
     "name": "stderr",
     "output_type": "stream",
     "text": [
      "INFO  @ Thu, 14 Dec 2017 00:13:46: Input filename is: /home/a0121533/InfiniumPurify/purity_data/red_methy_TCGA-A6-2671-11A-01D-1551-05.txt \n",
      "INFO  @ Thu, 14 Dec 2017 00:13:46: Cancer Type is: COAD \n",
      "INFO  @ Thu, 14 Dec 2017 00:13:46: Loading hyper and hypo iDMCs for: COAD \n",
      "INFO  @ Thu, 14 Dec 2017 00:13:46: Computating peak mode of iDMCs ... \n"
     ]
    },
    {
     "name": "stdout",
     "output_type": "stream",
     "text": [
      "TCGA-A6-2671-11A-01D-1551-05 0.24\n"
     ]
    },
    {
     "name": "stderr",
     "output_type": "stream",
     "text": [
      "INFO  @ Thu, 14 Dec 2017 00:14:07: Input filename is: /home/a0121533/InfiniumPurify/purity_data/red_methy_TCGA-A6-2675-01A-02D-1721-05.txt \n",
      "INFO  @ Thu, 14 Dec 2017 00:14:07: Cancer Type is: COAD \n",
      "INFO  @ Thu, 14 Dec 2017 00:14:07: Loading hyper and hypo iDMCs for: COAD \n",
      "INFO  @ Thu, 14 Dec 2017 00:14:07: Computating peak mode of iDMCs ... \n"
     ]
    },
    {
     "name": "stdout",
     "output_type": "stream",
     "text": [
      "TCGA-A6-2675-01A-02D-1721-05 0.5700000000000001\n"
     ]
    },
    {
     "name": "stderr",
     "output_type": "stream",
     "text": [
      "INFO  @ Thu, 14 Dec 2017 00:14:28: Input filename is: /home/a0121533/InfiniumPurify/purity_data/red_methy_TCGA-A6-2675-11A-01D-1721-05.txt \n",
      "INFO  @ Thu, 14 Dec 2017 00:14:28: Cancer Type is: COAD \n",
      "INFO  @ Thu, 14 Dec 2017 00:14:28: Loading hyper and hypo iDMCs for: COAD \n",
      "INFO  @ Thu, 14 Dec 2017 00:14:28: Computating peak mode of iDMCs ... \n"
     ]
    },
    {
     "name": "stdout",
     "output_type": "stream",
     "text": [
      "TCGA-A6-2675-11A-01D-1721-05 0.14\n"
     ]
    },
    {
     "name": "stderr",
     "output_type": "stream",
     "text": [
      "INFO  @ Thu, 14 Dec 2017 00:14:50: Input filename is: /home/a0121533/InfiniumPurify/purity_data/red_methy_TCGA-A6-2679-11A-01D-1551-05.txt \n",
      "INFO  @ Thu, 14 Dec 2017 00:14:50: Cancer Type is: COAD \n",
      "INFO  @ Thu, 14 Dec 2017 00:14:50: Loading hyper and hypo iDMCs for: COAD \n",
      "INFO  @ Thu, 14 Dec 2017 00:14:50: Computating peak mode of iDMCs ... \n"
     ]
    },
    {
     "name": "stdout",
     "output_type": "stream",
     "text": [
      "TCGA-A6-2679-11A-01D-1551-05 0.29\n"
     ]
    },
    {
     "name": "stderr",
     "output_type": "stream",
     "text": [
      "INFO  @ Thu, 14 Dec 2017 00:15:11: Input filename is: /home/a0121533/InfiniumPurify/purity_data/red_methy_TCGA-A6-2680-11A-01D-1551-05.txt \n",
      "INFO  @ Thu, 14 Dec 2017 00:15:11: Cancer Type is: COAD \n",
      "INFO  @ Thu, 14 Dec 2017 00:15:11: Loading hyper and hypo iDMCs for: COAD \n",
      "INFO  @ Thu, 14 Dec 2017 00:15:11: Computating peak mode of iDMCs ... \n"
     ]
    },
    {
     "name": "stdout",
     "output_type": "stream",
     "text": [
      "TCGA-A6-2680-11A-01D-1551-05 0.19\n"
     ]
    },
    {
     "name": "stderr",
     "output_type": "stream",
     "text": [
      "INFO  @ Thu, 14 Dec 2017 00:15:33: Input filename is: /home/a0121533/InfiniumPurify/purity_data/red_methy_TCGA-A6-2682-01A-01D-1407-05.txt \n",
      "INFO  @ Thu, 14 Dec 2017 00:15:33: Cancer Type is: COAD \n",
      "INFO  @ Thu, 14 Dec 2017 00:15:33: Loading hyper and hypo iDMCs for: COAD \n",
      "INFO  @ Thu, 14 Dec 2017 00:15:33: Computating peak mode of iDMCs ... \n"
     ]
    },
    {
     "name": "stdout",
     "output_type": "stream",
     "text": [
      "TCGA-A6-2682-01A-01D-1407-05 0.59\n"
     ]
    },
    {
     "name": "stderr",
     "output_type": "stream",
     "text": [
      "INFO  @ Thu, 14 Dec 2017 00:15:54: Input filename is: /home/a0121533/InfiniumPurify/purity_data/red_methy_TCGA-A6-2682-11A-01D-1551-05.txt \n",
      "INFO  @ Thu, 14 Dec 2017 00:15:54: Cancer Type is: COAD \n",
      "INFO  @ Thu, 14 Dec 2017 00:15:54: Loading hyper and hypo iDMCs for: COAD \n",
      "INFO  @ Thu, 14 Dec 2017 00:15:54: Computating peak mode of iDMCs ... \n"
     ]
    },
    {
     "name": "stdout",
     "output_type": "stream",
     "text": [
      "TCGA-A6-2682-11A-01D-1551-05 0.2\n"
     ]
    },
    {
     "name": "stderr",
     "output_type": "stream",
     "text": [
      "INFO  @ Thu, 14 Dec 2017 00:16:15: Input filename is: /home/a0121533/InfiniumPurify/purity_data/red_methy_TCGA-A6-2684-01A-01D-1407-05.txt \n",
      "INFO  @ Thu, 14 Dec 2017 00:16:15: Cancer Type is: COAD \n",
      "INFO  @ Thu, 14 Dec 2017 00:16:15: Loading hyper and hypo iDMCs for: COAD \n",
      "INFO  @ Thu, 14 Dec 2017 00:16:15: Computating peak mode of iDMCs ... \n"
     ]
    },
    {
     "name": "stdout",
     "output_type": "stream",
     "text": [
      "TCGA-A6-2684-01A-01D-1407-05 0.66\n"
     ]
    },
    {
     "name": "stderr",
     "output_type": "stream",
     "text": [
      "INFO  @ Thu, 14 Dec 2017 00:16:37: Input filename is: /home/a0121533/InfiniumPurify/purity_data/red_methy_TCGA-A6-2684-01A-01D-A27A-05.txt \n",
      "INFO  @ Thu, 14 Dec 2017 00:16:37: Cancer Type is: COAD \n",
      "INFO  @ Thu, 14 Dec 2017 00:16:37: Loading hyper and hypo iDMCs for: COAD \n",
      "INFO  @ Thu, 14 Dec 2017 00:16:37: Computating peak mode of iDMCs ... \n"
     ]
    },
    {
     "name": "stdout",
     "output_type": "stream",
     "text": [
      "TCGA-A6-2684-01A-01D-A27A-05 0.66\n"
     ]
    },
    {
     "name": "stderr",
     "output_type": "stream",
     "text": [
      "INFO  @ Thu, 14 Dec 2017 00:16:59: Input filename is: /home/a0121533/InfiniumPurify/purity_data/red_methy_TCGA-A6-2684-11A-01D-1551-05.txt \n",
      "INFO  @ Thu, 14 Dec 2017 00:16:59: Cancer Type is: COAD \n",
      "INFO  @ Thu, 14 Dec 2017 00:16:59: Loading hyper and hypo iDMCs for: COAD \n",
      "INFO  @ Thu, 14 Dec 2017 00:16:59: Computating peak mode of iDMCs ... \n"
     ]
    },
    {
     "name": "stdout",
     "output_type": "stream",
     "text": [
      "TCGA-A6-2684-11A-01D-1551-05 0.17\n"
     ]
    },
    {
     "name": "stderr",
     "output_type": "stream",
     "text": [
      "INFO  @ Thu, 14 Dec 2017 00:17:20: Input filename is: /home/a0121533/InfiniumPurify/purity_data/red_methy_TCGA-A6-2685-01A-01D-1407-05.txt \n",
      "INFO  @ Thu, 14 Dec 2017 00:17:20: Cancer Type is: COAD \n",
      "INFO  @ Thu, 14 Dec 2017 00:17:20: Loading hyper and hypo iDMCs for: COAD \n",
      "INFO  @ Thu, 14 Dec 2017 00:17:20: Computating peak mode of iDMCs ... \n"
     ]
    },
    {
     "name": "stdout",
     "output_type": "stream",
     "text": [
      "TCGA-A6-2685-01A-01D-1407-05 0.49\n"
     ]
    },
    {
     "name": "stderr",
     "output_type": "stream",
     "text": [
      "INFO  @ Thu, 14 Dec 2017 00:17:41: Input filename is: /home/a0121533/InfiniumPurify/purity_data/red_methy_TCGA-A6-2685-11A-01D-1551-05.txt \n",
      "INFO  @ Thu, 14 Dec 2017 00:17:41: Cancer Type is: COAD \n",
      "INFO  @ Thu, 14 Dec 2017 00:17:41: Loading hyper and hypo iDMCs for: COAD \n",
      "INFO  @ Thu, 14 Dec 2017 00:17:41: Computating peak mode of iDMCs ... \n"
     ]
    },
    {
     "name": "stdout",
     "output_type": "stream",
     "text": [
      "TCGA-A6-2685-11A-01D-1551-05 0.18\n"
     ]
    },
    {
     "name": "stderr",
     "output_type": "stream",
     "text": [
      "INFO  @ Thu, 14 Dec 2017 00:18:03: Input filename is: /home/a0121533/InfiniumPurify/purity_data/red_methy_TCGA-A6-2686-01A-01D-1407-05.txt \n",
      "INFO  @ Thu, 14 Dec 2017 00:18:03: Cancer Type is: COAD \n",
      "INFO  @ Thu, 14 Dec 2017 00:18:03: Loading hyper and hypo iDMCs for: COAD \n",
      "INFO  @ Thu, 14 Dec 2017 00:18:03: Computating peak mode of iDMCs ... \n"
     ]
    },
    {
     "name": "stdout",
     "output_type": "stream",
     "text": [
      "TCGA-A6-2686-01A-01D-1407-05 0.7000000000000001\n"
     ]
    },
    {
     "name": "stderr",
     "output_type": "stream",
     "text": [
      "INFO  @ Thu, 14 Dec 2017 00:18:24: Input filename is: /home/a0121533/InfiniumPurify/purity_data/red_methy_TCGA-A6-2686-11A-01D-1551-05.txt \n",
      "INFO  @ Thu, 14 Dec 2017 00:18:24: Cancer Type is: COAD \n",
      "INFO  @ Thu, 14 Dec 2017 00:18:24: Loading hyper and hypo iDMCs for: COAD \n",
      "INFO  @ Thu, 14 Dec 2017 00:18:24: Computating peak mode of iDMCs ... \n"
     ]
    },
    {
     "name": "stdout",
     "output_type": "stream",
     "text": [
      "TCGA-A6-2686-11A-01D-1551-05 0.23\n"
     ]
    },
    {
     "name": "stderr",
     "output_type": "stream",
     "text": [
      "INFO  @ Thu, 14 Dec 2017 00:18:45: Input filename is: /home/a0121533/InfiniumPurify/purity_data/red_methy_TCGA-A6-4105-01A-02D-1772-05.txt \n",
      "INFO  @ Thu, 14 Dec 2017 00:18:45: Cancer Type is: COAD \n",
      "INFO  @ Thu, 14 Dec 2017 00:18:45: Loading hyper and hypo iDMCs for: COAD \n",
      "INFO  @ Thu, 14 Dec 2017 00:18:45: Computating peak mode of iDMCs ... \n"
     ]
    },
    {
     "name": "stdout",
     "output_type": "stream",
     "text": [
      "TCGA-A6-4105-01A-02D-1772-05 0.65\n"
     ]
    },
    {
     "name": "stderr",
     "output_type": "stream",
     "text": [
      "INFO  @ Thu, 14 Dec 2017 00:19:07: Input filename is: /home/a0121533/InfiniumPurify/purity_data/red_methy_TCGA-A6-5656-01A-21D-1837-05.txt \n",
      "INFO  @ Thu, 14 Dec 2017 00:19:07: Cancer Type is: COAD \n",
      "INFO  @ Thu, 14 Dec 2017 00:19:07: Loading hyper and hypo iDMCs for: COAD \n",
      "INFO  @ Thu, 14 Dec 2017 00:19:07: Computating peak mode of iDMCs ... \n"
     ]
    },
    {
     "name": "stdout",
     "output_type": "stream",
     "text": [
      "TCGA-A6-5656-01A-21D-1837-05 0.78\n"
     ]
    },
    {
     "name": "stderr",
     "output_type": "stream",
     "text": [
      "INFO  @ Thu, 14 Dec 2017 00:19:28: Input filename is: /home/a0121533/InfiniumPurify/purity_data/red_methy_TCGA-A6-5656-01A-21D-A27A-05.txt \n",
      "INFO  @ Thu, 14 Dec 2017 00:19:28: Cancer Type is: COAD \n",
      "INFO  @ Thu, 14 Dec 2017 00:19:28: Loading hyper and hypo iDMCs for: COAD \n",
      "INFO  @ Thu, 14 Dec 2017 00:19:28: Computating peak mode of iDMCs ... \n"
     ]
    },
    {
     "name": "stdout",
     "output_type": "stream",
     "text": [
      "TCGA-A6-5656-01A-21D-A27A-05 0.81\n"
     ]
    },
    {
     "name": "stderr",
     "output_type": "stream",
     "text": [
      "INFO  @ Thu, 14 Dec 2017 00:19:49: Input filename is: /home/a0121533/InfiniumPurify/purity_data/red_methy_TCGA-A6-5657-01A-01D-1651-05.txt \n",
      "INFO  @ Thu, 14 Dec 2017 00:19:49: Cancer Type is: COAD \n",
      "INFO  @ Thu, 14 Dec 2017 00:19:49: Loading hyper and hypo iDMCs for: COAD \n",
      "INFO  @ Thu, 14 Dec 2017 00:19:49: Computating peak mode of iDMCs ... \n"
     ]
    },
    {
     "name": "stdout",
     "output_type": "stream",
     "text": [
      "TCGA-A6-5657-01A-01D-1651-05 0.48\n"
     ]
    },
    {
     "name": "stderr",
     "output_type": "stream",
     "text": [
      "INFO  @ Thu, 14 Dec 2017 00:20:11: Input filename is: /home/a0121533/InfiniumPurify/purity_data/red_methy_TCGA-A6-5659-01A-01D-1651-05.txt \n",
      "INFO  @ Thu, 14 Dec 2017 00:20:11: Cancer Type is: COAD \n",
      "INFO  @ Thu, 14 Dec 2017 00:20:11: Loading hyper and hypo iDMCs for: COAD \n",
      "INFO  @ Thu, 14 Dec 2017 00:20:11: Computating peak mode of iDMCs ... \n"
     ]
    },
    {
     "name": "stdout",
     "output_type": "stream",
     "text": [
      "TCGA-A6-5659-01A-01D-1651-05 0.81\n"
     ]
    },
    {
     "name": "stderr",
     "output_type": "stream",
     "text": [
      "INFO  @ Thu, 14 Dec 2017 00:20:32: Input filename is: /home/a0121533/InfiniumPurify/purity_data/red_methy_TCGA-A6-5659-01A-01D-A27A-05.txt \n",
      "INFO  @ Thu, 14 Dec 2017 00:20:32: Cancer Type is: COAD \n",
      "INFO  @ Thu, 14 Dec 2017 00:20:32: Loading hyper and hypo iDMCs for: COAD \n",
      "INFO  @ Thu, 14 Dec 2017 00:20:32: Computating peak mode of iDMCs ... \n"
     ]
    },
    {
     "name": "stdout",
     "output_type": "stream",
     "text": [
      "TCGA-A6-5659-01A-01D-A27A-05 0.85\n"
     ]
    },
    {
     "name": "stderr",
     "output_type": "stream",
     "text": [
      "INFO  @ Thu, 14 Dec 2017 00:20:53: Input filename is: /home/a0121533/InfiniumPurify/purity_data/red_methy_TCGA-A6-5660-01A-01D-1651-05.txt \n",
      "INFO  @ Thu, 14 Dec 2017 00:20:53: Cancer Type is: COAD \n",
      "INFO  @ Thu, 14 Dec 2017 00:20:53: Loading hyper and hypo iDMCs for: COAD \n",
      "INFO  @ Thu, 14 Dec 2017 00:20:53: Computating peak mode of iDMCs ... \n"
     ]
    },
    {
     "name": "stdout",
     "output_type": "stream",
     "text": [
      "TCGA-A6-5660-01A-01D-1651-05 0.76\n"
     ]
    },
    {
     "name": "stderr",
     "output_type": "stream",
     "text": [
      "INFO  @ Thu, 14 Dec 2017 00:21:15: Input filename is: /home/a0121533/InfiniumPurify/purity_data/red_methy_TCGA-A6-5661-01A-01D-1651-05.txt \n",
      "INFO  @ Thu, 14 Dec 2017 00:21:15: Cancer Type is: COAD \n",
      "INFO  @ Thu, 14 Dec 2017 00:21:15: Loading hyper and hypo iDMCs for: COAD \n",
      "INFO  @ Thu, 14 Dec 2017 00:21:15: Computating peak mode of iDMCs ... \n"
     ]
    },
    {
     "name": "stdout",
     "output_type": "stream",
     "text": [
      "TCGA-A6-5661-01A-01D-1651-05 0.66\n"
     ]
    },
    {
     "name": "stderr",
     "output_type": "stream",
     "text": [
      "INFO  @ Thu, 14 Dec 2017 00:21:36: Input filename is: /home/a0121533/InfiniumPurify/purity_data/red_methy_TCGA-A6-5662-01A-01D-1651-05.txt \n",
      "INFO  @ Thu, 14 Dec 2017 00:21:36: Cancer Type is: COAD \n",
      "INFO  @ Thu, 14 Dec 2017 00:21:36: Loading hyper and hypo iDMCs for: COAD \n",
      "INFO  @ Thu, 14 Dec 2017 00:21:36: Computating peak mode of iDMCs ... \n"
     ]
    },
    {
     "name": "stdout",
     "output_type": "stream",
     "text": [
      "TCGA-A6-5662-01A-01D-1651-05 0.8300000000000001\n"
     ]
    },
    {
     "name": "stderr",
     "output_type": "stream",
     "text": [
      "INFO  @ Thu, 14 Dec 2017 00:21:57: Input filename is: /home/a0121533/InfiniumPurify/purity_data/red_methy_TCGA-A6-5664-01A-21D-1837-05.txt \n",
      "INFO  @ Thu, 14 Dec 2017 00:21:57: Cancer Type is: COAD \n",
      "INFO  @ Thu, 14 Dec 2017 00:21:57: Loading hyper and hypo iDMCs for: COAD \n",
      "INFO  @ Thu, 14 Dec 2017 00:21:57: Computating peak mode of iDMCs ... \n"
     ]
    },
    {
     "name": "stdout",
     "output_type": "stream",
     "text": [
      "TCGA-A6-5664-01A-21D-1837-05 0.47000000000000003\n"
     ]
    },
    {
     "name": "stderr",
     "output_type": "stream",
     "text": [
      "INFO  @ Thu, 14 Dec 2017 00:22:18: Input filename is: /home/a0121533/InfiniumPurify/purity_data/red_methy_TCGA-A6-5665-01A-01D-1651-05.txt \n",
      "INFO  @ Thu, 14 Dec 2017 00:22:18: Cancer Type is: COAD \n",
      "INFO  @ Thu, 14 Dec 2017 00:22:18: Loading hyper and hypo iDMCs for: COAD \n",
      "INFO  @ Thu, 14 Dec 2017 00:22:18: Computating peak mode of iDMCs ... \n"
     ]
    },
    {
     "name": "stdout",
     "output_type": "stream",
     "text": [
      "TCGA-A6-5665-01A-01D-1651-05 0.6900000000000001\n"
     ]
    },
    {
     "name": "stderr",
     "output_type": "stream",
     "text": [
      "INFO  @ Thu, 14 Dec 2017 00:22:40: Input filename is: /home/a0121533/InfiniumPurify/purity_data/red_methy_TCGA-A6-5666-01A-01D-1651-05.txt \n",
      "INFO  @ Thu, 14 Dec 2017 00:22:40: Cancer Type is: COAD \n",
      "INFO  @ Thu, 14 Dec 2017 00:22:40: Loading hyper and hypo iDMCs for: COAD \n",
      "INFO  @ Thu, 14 Dec 2017 00:22:40: Computating peak mode of iDMCs ... \n"
     ]
    },
    {
     "name": "stdout",
     "output_type": "stream",
     "text": [
      "TCGA-A6-5666-01A-01D-1651-05 0.84\n"
     ]
    },
    {
     "name": "stderr",
     "output_type": "stream",
     "text": [
      "INFO  @ Thu, 14 Dec 2017 00:23:01: Input filename is: /home/a0121533/InfiniumPurify/purity_data/red_methy_TCGA-A6-5667-01A-21D-1721-05.txt \n",
      "INFO  @ Thu, 14 Dec 2017 00:23:01: Cancer Type is: COAD \n",
      "INFO  @ Thu, 14 Dec 2017 00:23:01: Loading hyper and hypo iDMCs for: COAD \n",
      "INFO  @ Thu, 14 Dec 2017 00:23:01: Computating peak mode of iDMCs ... \n"
     ]
    },
    {
     "name": "stdout",
     "output_type": "stream",
     "text": [
      "TCGA-A6-5667-01A-21D-1721-05 0.73\n"
     ]
    },
    {
     "name": "stderr",
     "output_type": "stream",
     "text": [
      "INFO  @ Thu, 14 Dec 2017 00:23:22: Input filename is: /home/a0121533/InfiniumPurify/purity_data/red_methy_TCGA-A6-5667-11A-01D-1721-05.txt \n",
      "INFO  @ Thu, 14 Dec 2017 00:23:22: Cancer Type is: COAD \n",
      "INFO  @ Thu, 14 Dec 2017 00:23:22: Loading hyper and hypo iDMCs for: COAD \n",
      "INFO  @ Thu, 14 Dec 2017 00:23:22: Computating peak mode of iDMCs ... \n"
     ]
    },
    {
     "name": "stdout",
     "output_type": "stream",
     "text": [
      "TCGA-A6-5667-11A-01D-1721-05 0.17\n"
     ]
    },
    {
     "name": "stderr",
     "output_type": "stream",
     "text": [
      "INFO  @ Thu, 14 Dec 2017 00:23:43: Input filename is: /home/a0121533/InfiniumPurify/purity_data/red_methy_TCGA-A6-6137-01A-11D-1772-05.txt \n",
      "INFO  @ Thu, 14 Dec 2017 00:23:43: Cancer Type is: COAD \n",
      "INFO  @ Thu, 14 Dec 2017 00:23:43: Loading hyper and hypo iDMCs for: COAD \n",
      "INFO  @ Thu, 14 Dec 2017 00:23:43: Computating peak mode of iDMCs ... \n"
     ]
    },
    {
     "name": "stdout",
     "output_type": "stream",
     "text": [
      "TCGA-A6-6137-01A-11D-1772-05 0.6900000000000001\n"
     ]
    },
    {
     "name": "stderr",
     "output_type": "stream",
     "text": [
      "INFO  @ Thu, 14 Dec 2017 00:24:05: Input filename is: /home/a0121533/InfiniumPurify/purity_data/red_methy_TCGA-A6-6138-01A-11D-1772-05.txt \n",
      "INFO  @ Thu, 14 Dec 2017 00:24:05: Cancer Type is: COAD \n",
      "INFO  @ Thu, 14 Dec 2017 00:24:05: Loading hyper and hypo iDMCs for: COAD \n",
      "INFO  @ Thu, 14 Dec 2017 00:24:05: Computating peak mode of iDMCs ... \n"
     ]
    },
    {
     "name": "stdout",
     "output_type": "stream",
     "text": [
      "TCGA-A6-6138-01A-11D-1772-05 0.66\n"
     ]
    },
    {
     "name": "stderr",
     "output_type": "stream",
     "text": [
      "INFO  @ Thu, 14 Dec 2017 00:24:26: Input filename is: /home/a0121533/InfiniumPurify/purity_data/red_methy_TCGA-A6-6140-01A-11D-1772-05.txt \n",
      "INFO  @ Thu, 14 Dec 2017 00:24:26: Cancer Type is: COAD \n",
      "INFO  @ Thu, 14 Dec 2017 00:24:26: Loading hyper and hypo iDMCs for: COAD \n",
      "INFO  @ Thu, 14 Dec 2017 00:24:26: Computating peak mode of iDMCs ... \n"
     ]
    },
    {
     "name": "stdout",
     "output_type": "stream",
     "text": [
      "TCGA-A6-6140-01A-11D-1772-05 0.77\n"
     ]
    },
    {
     "name": "stderr",
     "output_type": "stream",
     "text": [
      "INFO  @ Thu, 14 Dec 2017 00:24:47: Input filename is: /home/a0121533/InfiniumPurify/purity_data/red_methy_TCGA-A6-6141-01A-11D-1772-05.txt \n",
      "INFO  @ Thu, 14 Dec 2017 00:24:47: Cancer Type is: COAD \n",
      "INFO  @ Thu, 14 Dec 2017 00:24:47: Loading hyper and hypo iDMCs for: COAD \n",
      "INFO  @ Thu, 14 Dec 2017 00:24:47: Computating peak mode of iDMCs ... \n"
     ]
    },
    {
     "name": "stdout",
     "output_type": "stream",
     "text": [
      "TCGA-A6-6141-01A-11D-1772-05 0.58\n"
     ]
    },
    {
     "name": "stderr",
     "output_type": "stream",
     "text": [
      "INFO  @ Thu, 14 Dec 2017 00:25:09: Input filename is: /home/a0121533/InfiniumPurify/purity_data/red_methy_TCGA-A6-6142-01A-11D-1772-05.txt \n",
      "INFO  @ Thu, 14 Dec 2017 00:25:09: Cancer Type is: COAD \n",
      "INFO  @ Thu, 14 Dec 2017 00:25:09: Loading hyper and hypo iDMCs for: COAD \n",
      "INFO  @ Thu, 14 Dec 2017 00:25:09: Computating peak mode of iDMCs ... \n"
     ]
    },
    {
     "name": "stdout",
     "output_type": "stream",
     "text": [
      "TCGA-A6-6142-01A-11D-1772-05 0.63\n"
     ]
    },
    {
     "name": "stderr",
     "output_type": "stream",
     "text": [
      "INFO  @ Thu, 14 Dec 2017 00:25:30: Input filename is: /home/a0121533/InfiniumPurify/purity_data/red_methy_TCGA-A6-6648-01A-11D-1772-05.txt \n",
      "INFO  @ Thu, 14 Dec 2017 00:25:30: Cancer Type is: COAD \n",
      "INFO  @ Thu, 14 Dec 2017 00:25:30: Loading hyper and hypo iDMCs for: COAD \n",
      "INFO  @ Thu, 14 Dec 2017 00:25:30: Computating peak mode of iDMCs ... \n"
     ]
    },
    {
     "name": "stdout",
     "output_type": "stream",
     "text": [
      "TCGA-A6-6648-01A-11D-1772-05 0.59\n"
     ]
    },
    {
     "name": "stderr",
     "output_type": "stream",
     "text": [
      "INFO  @ Thu, 14 Dec 2017 00:25:51: Input filename is: /home/a0121533/InfiniumPurify/purity_data/red_methy_TCGA-A6-6649-01A-11D-1772-05.txt \n",
      "INFO  @ Thu, 14 Dec 2017 00:25:51: Cancer Type is: COAD \n",
      "INFO  @ Thu, 14 Dec 2017 00:25:51: Loading hyper and hypo iDMCs for: COAD \n",
      "INFO  @ Thu, 14 Dec 2017 00:25:51: Computating peak mode of iDMCs ... \n"
     ]
    },
    {
     "name": "stdout",
     "output_type": "stream",
     "text": [
      "TCGA-A6-6649-01A-11D-1772-05 0.59\n"
     ]
    },
    {
     "name": "stderr",
     "output_type": "stream",
     "text": [
      "INFO  @ Thu, 14 Dec 2017 00:26:12: Input filename is: /home/a0121533/InfiniumPurify/purity_data/red_methy_TCGA-A6-6650-01A-11D-1772-05.txt \n",
      "INFO  @ Thu, 14 Dec 2017 00:26:12: Cancer Type is: COAD \n",
      "INFO  @ Thu, 14 Dec 2017 00:26:12: Loading hyper and hypo iDMCs for: COAD \n",
      "INFO  @ Thu, 14 Dec 2017 00:26:12: Computating peak mode of iDMCs ... \n"
     ]
    },
    {
     "name": "stdout",
     "output_type": "stream",
     "text": [
      "TCGA-A6-6650-01A-11D-1772-05 0.85\n"
     ]
    },
    {
     "name": "stderr",
     "output_type": "stream",
     "text": [
      "INFO  @ Thu, 14 Dec 2017 00:26:34: Input filename is: /home/a0121533/InfiniumPurify/purity_data/red_methy_TCGA-A6-6650-01A-11D-A27A-05.txt \n",
      "INFO  @ Thu, 14 Dec 2017 00:26:34: Cancer Type is: COAD \n",
      "INFO  @ Thu, 14 Dec 2017 00:26:34: Loading hyper and hypo iDMCs for: COAD \n",
      "INFO  @ Thu, 14 Dec 2017 00:26:34: Computating peak mode of iDMCs ... \n"
     ]
    },
    {
     "name": "stdout",
     "output_type": "stream",
     "text": [
      "TCGA-A6-6650-01A-11D-A27A-05 0.87\n"
     ]
    },
    {
     "name": "stderr",
     "output_type": "stream",
     "text": [
      "INFO  @ Thu, 14 Dec 2017 00:26:55: Input filename is: /home/a0121533/InfiniumPurify/purity_data/red_methy_TCGA-A6-6651-01A-21D-1837-05.txt \n",
      "INFO  @ Thu, 14 Dec 2017 00:26:55: Cancer Type is: COAD \n",
      "INFO  @ Thu, 14 Dec 2017 00:26:55: Loading hyper and hypo iDMCs for: COAD \n",
      "INFO  @ Thu, 14 Dec 2017 00:26:55: Computating peak mode of iDMCs ... \n"
     ]
    },
    {
     "name": "stdout",
     "output_type": "stream",
     "text": [
      "TCGA-A6-6651-01A-21D-1837-05 0.5\n"
     ]
    },
    {
     "name": "stderr",
     "output_type": "stream",
     "text": [
      "INFO  @ Thu, 14 Dec 2017 00:27:16: Input filename is: /home/a0121533/InfiniumPurify/purity_data/red_methy_TCGA-A6-6652-01A-11D-1772-05.txt \n",
      "INFO  @ Thu, 14 Dec 2017 00:27:16: Cancer Type is: COAD \n",
      "INFO  @ Thu, 14 Dec 2017 00:27:16: Loading hyper and hypo iDMCs for: COAD \n",
      "INFO  @ Thu, 14 Dec 2017 00:27:16: Computating peak mode of iDMCs ... \n"
     ]
    },
    {
     "name": "stdout",
     "output_type": "stream",
     "text": [
      "TCGA-A6-6652-01A-11D-1772-05 0.8300000000000001\n"
     ]
    },
    {
     "name": "stderr",
     "output_type": "stream",
     "text": [
      "INFO  @ Thu, 14 Dec 2017 00:27:38: Input filename is: /home/a0121533/InfiniumPurify/purity_data/red_methy_TCGA-A6-6653-01A-11D-1772-05.txt \n",
      "INFO  @ Thu, 14 Dec 2017 00:27:38: Cancer Type is: COAD \n",
      "INFO  @ Thu, 14 Dec 2017 00:27:38: Loading hyper and hypo iDMCs for: COAD \n",
      "INFO  @ Thu, 14 Dec 2017 00:27:38: Computating peak mode of iDMCs ... \n"
     ]
    },
    {
     "name": "stdout",
     "output_type": "stream",
     "text": [
      "TCGA-A6-6653-01A-11D-1772-05 0.77\n"
     ]
    },
    {
     "name": "stderr",
     "output_type": "stream",
     "text": [
      "INFO  @ Thu, 14 Dec 2017 00:27:59: Input filename is: /home/a0121533/InfiniumPurify/purity_data/red_methy_TCGA-A6-6654-01A-21D-1837-05.txt \n",
      "INFO  @ Thu, 14 Dec 2017 00:27:59: Cancer Type is: COAD \n",
      "INFO  @ Thu, 14 Dec 2017 00:27:59: Loading hyper and hypo iDMCs for: COAD \n",
      "INFO  @ Thu, 14 Dec 2017 00:27:59: Computating peak mode of iDMCs ... \n"
     ]
    },
    {
     "name": "stdout",
     "output_type": "stream",
     "text": [
      "TCGA-A6-6654-01A-21D-1837-05 0.48\n"
     ]
    },
    {
     "name": "stderr",
     "output_type": "stream",
     "text": [
      "INFO  @ Thu, 14 Dec 2017 00:28:20: Input filename is: /home/a0121533/InfiniumPurify/purity_data/red_methy_TCGA-A6-6780-01A-11D-1837-05.txt \n",
      "INFO  @ Thu, 14 Dec 2017 00:28:20: Cancer Type is: COAD \n",
      "INFO  @ Thu, 14 Dec 2017 00:28:20: Loading hyper and hypo iDMCs for: COAD \n",
      "INFO  @ Thu, 14 Dec 2017 00:28:20: Computating peak mode of iDMCs ... \n"
     ]
    },
    {
     "name": "stdout",
     "output_type": "stream",
     "text": [
      "TCGA-A6-6780-01A-11D-1837-05 0.66\n"
     ]
    },
    {
     "name": "stderr",
     "output_type": "stream",
     "text": [
      "INFO  @ Thu, 14 Dec 2017 00:28:41: Input filename is: /home/a0121533/InfiniumPurify/purity_data/red_methy_TCGA-A6-6780-01A-11D-A27A-05.txt \n",
      "INFO  @ Thu, 14 Dec 2017 00:28:41: Cancer Type is: COAD \n",
      "INFO  @ Thu, 14 Dec 2017 00:28:41: Loading hyper and hypo iDMCs for: COAD \n",
      "INFO  @ Thu, 14 Dec 2017 00:28:41: Computating peak mode of iDMCs ... \n"
     ]
    },
    {
     "name": "stdout",
     "output_type": "stream",
     "text": [
      "TCGA-A6-6780-01A-11D-A27A-05 0.7000000000000001\n"
     ]
    },
    {
     "name": "stderr",
     "output_type": "stream",
     "text": [
      "INFO  @ Thu, 14 Dec 2017 00:29:03: Input filename is: /home/a0121533/InfiniumPurify/purity_data/red_methy_TCGA-A6-6781-01A-22D-1926-05.txt \n",
      "INFO  @ Thu, 14 Dec 2017 00:29:03: Cancer Type is: COAD \n",
      "INFO  @ Thu, 14 Dec 2017 00:29:03: Loading hyper and hypo iDMCs for: COAD \n",
      "INFO  @ Thu, 14 Dec 2017 00:29:03: Computating peak mode of iDMCs ... \n"
     ]
    },
    {
     "name": "stdout",
     "output_type": "stream",
     "text": [
      "TCGA-A6-6781-01A-22D-1926-05 0.52\n"
     ]
    },
    {
     "name": "stderr",
     "output_type": "stream",
     "text": [
      "INFO  @ Thu, 14 Dec 2017 00:29:24: Input filename is: /home/a0121533/InfiniumPurify/purity_data/red_methy_TCGA-A6-6781-01A-22D-A27A-05.txt \n",
      "INFO  @ Thu, 14 Dec 2017 00:29:24: Cancer Type is: COAD \n",
      "INFO  @ Thu, 14 Dec 2017 00:29:24: Loading hyper and hypo iDMCs for: COAD \n",
      "INFO  @ Thu, 14 Dec 2017 00:29:24: Computating peak mode of iDMCs ... \n"
     ]
    },
    {
     "name": "stdout",
     "output_type": "stream",
     "text": [
      "TCGA-A6-6781-01A-22D-A27A-05 0.53\n"
     ]
    },
    {
     "name": "stderr",
     "output_type": "stream",
     "text": [
      "INFO  @ Thu, 14 Dec 2017 00:29:45: Input filename is: /home/a0121533/InfiniumPurify/purity_data/red_methy_TCGA-A6-6782-01A-11D-1837-05.txt \n",
      "INFO  @ Thu, 14 Dec 2017 00:29:45: Cancer Type is: COAD \n",
      "INFO  @ Thu, 14 Dec 2017 00:29:45: Loading hyper and hypo iDMCs for: COAD \n",
      "INFO  @ Thu, 14 Dec 2017 00:29:45: Computating peak mode of iDMCs ... \n"
     ]
    },
    {
     "name": "stdout",
     "output_type": "stream",
     "text": [
      "TCGA-A6-6782-01A-11D-1837-05 0.66\n"
     ]
    },
    {
     "name": "stderr",
     "output_type": "stream",
     "text": [
      "INFO  @ Thu, 14 Dec 2017 00:30:06: Input filename is: /home/a0121533/InfiniumPurify/purity_data/red_methy_TCGA-A6-A565-01A-31D-A28O-05.txt \n",
      "INFO  @ Thu, 14 Dec 2017 00:30:06: Cancer Type is: COAD \n",
      "INFO  @ Thu, 14 Dec 2017 00:30:06: Loading hyper and hypo iDMCs for: COAD \n",
      "INFO  @ Thu, 14 Dec 2017 00:30:06: Computating peak mode of iDMCs ... \n"
     ]
    },
    {
     "name": "stdout",
     "output_type": "stream",
     "text": [
      "TCGA-A6-A565-01A-31D-A28O-05 0.35000000000000003\n"
     ]
    },
    {
     "name": "stderr",
     "output_type": "stream",
     "text": [
      "INFO  @ Thu, 14 Dec 2017 00:30:28: Input filename is: /home/a0121533/InfiniumPurify/purity_data/red_methy_TCGA-A6-A566-01A-11D-A28O-05.txt \n",
      "INFO  @ Thu, 14 Dec 2017 00:30:28: Cancer Type is: COAD \n",
      "INFO  @ Thu, 14 Dec 2017 00:30:28: Loading hyper and hypo iDMCs for: COAD \n",
      "INFO  @ Thu, 14 Dec 2017 00:30:28: Computating peak mode of iDMCs ... \n"
     ]
    },
    {
     "name": "stdout",
     "output_type": "stream",
     "text": [
      "TCGA-A6-A566-01A-11D-A28O-05 0.53\n"
     ]
    },
    {
     "name": "stderr",
     "output_type": "stream",
     "text": [
      "INFO  @ Thu, 14 Dec 2017 00:30:49: Input filename is: /home/a0121533/InfiniumPurify/purity_data/red_methy_TCGA-A6-A567-01A-31D-A28O-05.txt \n",
      "INFO  @ Thu, 14 Dec 2017 00:30:49: Cancer Type is: COAD \n",
      "INFO  @ Thu, 14 Dec 2017 00:30:49: Loading hyper and hypo iDMCs for: COAD \n",
      "INFO  @ Thu, 14 Dec 2017 00:30:49: Computating peak mode of iDMCs ... \n"
     ]
    },
    {
     "name": "stdout",
     "output_type": "stream",
     "text": [
      "TCGA-A6-A567-01A-31D-A28O-05 0.72\n"
     ]
    },
    {
     "name": "stderr",
     "output_type": "stream",
     "text": [
      "INFO  @ Thu, 14 Dec 2017 00:31:10: Input filename is: /home/a0121533/InfiniumPurify/purity_data/red_methy_TCGA-A6-A56B-01A-31D-A28O-05.txt \n",
      "INFO  @ Thu, 14 Dec 2017 00:31:10: Cancer Type is: COAD \n",
      "INFO  @ Thu, 14 Dec 2017 00:31:10: Loading hyper and hypo iDMCs for: COAD \n",
      "INFO  @ Thu, 14 Dec 2017 00:31:10: Computating peak mode of iDMCs ... \n"
     ]
    },
    {
     "name": "stdout",
     "output_type": "stream",
     "text": [
      "TCGA-A6-A56B-01A-31D-A28O-05 0.74\n"
     ]
    },
    {
     "name": "stderr",
     "output_type": "stream",
     "text": [
      "INFO  @ Thu, 14 Dec 2017 00:31:32: Input filename is: /home/a0121533/InfiniumPurify/purity_data/red_methy_TCGA-A6-A5ZU-01A-11D-A28O-05.txt \n",
      "INFO  @ Thu, 14 Dec 2017 00:31:32: Cancer Type is: COAD \n",
      "INFO  @ Thu, 14 Dec 2017 00:31:32: Loading hyper and hypo iDMCs for: COAD \n",
      "INFO  @ Thu, 14 Dec 2017 00:31:32: Computating peak mode of iDMCs ... \n"
     ]
    },
    {
     "name": "stdout",
     "output_type": "stream",
     "text": [
      "TCGA-A6-A5ZU-01A-11D-A28O-05 0.76\n"
     ]
    },
    {
     "name": "stderr",
     "output_type": "stream",
     "text": [
      "INFO  @ Thu, 14 Dec 2017 00:31:54: Input filename is: /home/a0121533/InfiniumPurify/purity_data/red_methy_TCGA-AA-3489-01A-21D-1837-05.txt \n",
      "INFO  @ Thu, 14 Dec 2017 00:31:54: Cancer Type is: COAD \n",
      "INFO  @ Thu, 14 Dec 2017 00:31:54: Loading hyper and hypo iDMCs for: COAD \n",
      "INFO  @ Thu, 14 Dec 2017 00:31:54: Computating peak mode of iDMCs ... \n"
     ]
    },
    {
     "name": "stdout",
     "output_type": "stream",
     "text": [
      "TCGA-AA-3489-01A-21D-1837-05 0.49\n"
     ]
    },
    {
     "name": "stderr",
     "output_type": "stream",
     "text": [
      "INFO  @ Thu, 14 Dec 2017 00:32:16: Input filename is: /home/a0121533/InfiniumPurify/purity_data/red_methy_TCGA-AA-3492-01A-01D-1407-05.txt \n",
      "INFO  @ Thu, 14 Dec 2017 00:32:16: Cancer Type is: COAD \n",
      "INFO  @ Thu, 14 Dec 2017 00:32:16: Loading hyper and hypo iDMCs for: COAD \n",
      "INFO  @ Thu, 14 Dec 2017 00:32:16: Computating peak mode of iDMCs ... \n"
     ]
    },
    {
     "name": "stdout",
     "output_type": "stream",
     "text": [
      "TCGA-AA-3492-01A-01D-1407-05 0.79\n"
     ]
    },
    {
     "name": "stderr",
     "output_type": "stream",
     "text": [
      "INFO  @ Thu, 14 Dec 2017 00:32:37: Input filename is: /home/a0121533/InfiniumPurify/purity_data/red_methy_TCGA-AA-3495-01A-01D-1407-05.txt \n",
      "INFO  @ Thu, 14 Dec 2017 00:32:37: Cancer Type is: COAD \n",
      "INFO  @ Thu, 14 Dec 2017 00:32:37: Loading hyper and hypo iDMCs for: COAD \n",
      "INFO  @ Thu, 14 Dec 2017 00:32:37: Computating peak mode of iDMCs ... \n"
     ]
    },
    {
     "name": "stdout",
     "output_type": "stream",
     "text": [
      "TCGA-AA-3495-01A-01D-1407-05 0.64\n"
     ]
    },
    {
     "name": "stderr",
     "output_type": "stream",
     "text": [
      "INFO  @ Thu, 14 Dec 2017 00:32:58: Input filename is: /home/a0121533/InfiniumPurify/purity_data/red_methy_TCGA-AA-3496-01A-21D-1837-05.txt \n",
      "INFO  @ Thu, 14 Dec 2017 00:32:58: Cancer Type is: COAD \n",
      "INFO  @ Thu, 14 Dec 2017 00:32:58: Loading hyper and hypo iDMCs for: COAD \n",
      "INFO  @ Thu, 14 Dec 2017 00:32:58: Computating peak mode of iDMCs ... \n"
     ]
    },
    {
     "name": "stdout",
     "output_type": "stream",
     "text": [
      "TCGA-AA-3496-01A-21D-1837-05 0.6900000000000001\n"
     ]
    },
    {
     "name": "stderr",
     "output_type": "stream",
     "text": [
      "INFO  @ Thu, 14 Dec 2017 00:33:19: Input filename is: /home/a0121533/InfiniumPurify/purity_data/red_methy_TCGA-AA-3502-01A-01D-1407-05.txt \n",
      "INFO  @ Thu, 14 Dec 2017 00:33:19: Cancer Type is: COAD \n",
      "INFO  @ Thu, 14 Dec 2017 00:33:19: Loading hyper and hypo iDMCs for: COAD \n",
      "INFO  @ Thu, 14 Dec 2017 00:33:19: Computating peak mode of iDMCs ... \n"
     ]
    },
    {
     "name": "stdout",
     "output_type": "stream",
     "text": [
      "TCGA-AA-3502-01A-01D-1407-05 0.89\n"
     ]
    },
    {
     "name": "stderr",
     "output_type": "stream",
     "text": [
      "INFO  @ Thu, 14 Dec 2017 00:33:41: Input filename is: /home/a0121533/InfiniumPurify/purity_data/red_methy_TCGA-AA-3506-01A-01D-1407-05.txt \n",
      "INFO  @ Thu, 14 Dec 2017 00:33:41: Cancer Type is: COAD \n",
      "INFO  @ Thu, 14 Dec 2017 00:33:41: Loading hyper and hypo iDMCs for: COAD \n",
      "INFO  @ Thu, 14 Dec 2017 00:33:41: Computating peak mode of iDMCs ... \n"
     ]
    },
    {
     "name": "stdout",
     "output_type": "stream",
     "text": [
      "TCGA-AA-3506-01A-01D-1407-05 0.73\n"
     ]
    },
    {
     "name": "stderr",
     "output_type": "stream",
     "text": [
      "INFO  @ Thu, 14 Dec 2017 00:34:02: Input filename is: /home/a0121533/InfiniumPurify/purity_data/red_methy_TCGA-AA-3509-01A-01D-1407-05.txt \n",
      "INFO  @ Thu, 14 Dec 2017 00:34:02: Cancer Type is: COAD \n",
      "INFO  @ Thu, 14 Dec 2017 00:34:02: Loading hyper and hypo iDMCs for: COAD \n",
      "INFO  @ Thu, 14 Dec 2017 00:34:02: Computating peak mode of iDMCs ... \n"
     ]
    },
    {
     "name": "stdout",
     "output_type": "stream",
     "text": [
      "TCGA-AA-3509-01A-01D-1407-05 0.8300000000000001\n"
     ]
    },
    {
     "name": "stderr",
     "output_type": "stream",
     "text": [
      "INFO  @ Thu, 14 Dec 2017 00:34:23: Input filename is: /home/a0121533/InfiniumPurify/purity_data/red_methy_TCGA-AA-3511-01A-21D-1837-05.txt \n",
      "INFO  @ Thu, 14 Dec 2017 00:34:23: Cancer Type is: COAD \n",
      "INFO  @ Thu, 14 Dec 2017 00:34:23: Loading hyper and hypo iDMCs for: COAD \n",
      "INFO  @ Thu, 14 Dec 2017 00:34:23: Computating peak mode of iDMCs ... \n"
     ]
    },
    {
     "name": "stdout",
     "output_type": "stream",
     "text": [
      "TCGA-AA-3511-01A-21D-1837-05 0.67\n"
     ]
    },
    {
     "name": "stderr",
     "output_type": "stream",
     "text": [
      "INFO  @ Thu, 14 Dec 2017 00:34:44: Input filename is: /home/a0121533/InfiniumPurify/purity_data/red_methy_TCGA-AA-3655-01A-02D-1721-05.txt \n",
      "INFO  @ Thu, 14 Dec 2017 00:34:44: Cancer Type is: COAD \n",
      "INFO  @ Thu, 14 Dec 2017 00:34:44: Loading hyper and hypo iDMCs for: COAD \n",
      "INFO  @ Thu, 14 Dec 2017 00:34:44: Computating peak mode of iDMCs ... \n"
     ]
    },
    {
     "name": "stdout",
     "output_type": "stream",
     "text": [
      "TCGA-AA-3655-01A-02D-1721-05 0.8200000000000001\n"
     ]
    },
    {
     "name": "stderr",
     "output_type": "stream",
     "text": [
      "INFO  @ Thu, 14 Dec 2017 00:35:05: Input filename is: /home/a0121533/InfiniumPurify/purity_data/red_methy_TCGA-AA-3655-11A-01D-1721-05.txt \n",
      "INFO  @ Thu, 14 Dec 2017 00:35:05: Cancer Type is: COAD \n",
      "INFO  @ Thu, 14 Dec 2017 00:35:05: Loading hyper and hypo iDMCs for: COAD \n",
      "INFO  @ Thu, 14 Dec 2017 00:35:05: Computating peak mode of iDMCs ... \n"
     ]
    },
    {
     "name": "stdout",
     "output_type": "stream",
     "text": [
      "TCGA-AA-3655-11A-01D-1721-05 0.14\n"
     ]
    },
    {
     "name": "stderr",
     "output_type": "stream",
     "text": [
      "INFO  @ Thu, 14 Dec 2017 00:35:27: Input filename is: /home/a0121533/InfiniumPurify/purity_data/red_methy_TCGA-AA-3660-01A-01D-1721-05.txt \n",
      "INFO  @ Thu, 14 Dec 2017 00:35:27: Cancer Type is: COAD \n",
      "INFO  @ Thu, 14 Dec 2017 00:35:27: Loading hyper and hypo iDMCs for: COAD \n",
      "INFO  @ Thu, 14 Dec 2017 00:35:27: Computating peak mode of iDMCs ... \n"
     ]
    },
    {
     "name": "stdout",
     "output_type": "stream",
     "text": [
      "TCGA-AA-3660-01A-01D-1721-05 0.74\n"
     ]
    },
    {
     "name": "stderr",
     "output_type": "stream",
     "text": [
      "INFO  @ Thu, 14 Dec 2017 00:35:48: Input filename is: /home/a0121533/InfiniumPurify/purity_data/red_methy_TCGA-AA-3660-11A-01D-1721-05.txt \n",
      "INFO  @ Thu, 14 Dec 2017 00:35:48: Cancer Type is: COAD \n",
      "INFO  @ Thu, 14 Dec 2017 00:35:48: Loading hyper and hypo iDMCs for: COAD \n",
      "INFO  @ Thu, 14 Dec 2017 00:35:48: Computating peak mode of iDMCs ... \n"
     ]
    },
    {
     "name": "stdout",
     "output_type": "stream",
     "text": [
      "TCGA-AA-3660-11A-01D-1721-05 0.26\n"
     ]
    },
    {
     "name": "stderr",
     "output_type": "stream",
     "text": [
      "INFO  @ Thu, 14 Dec 2017 00:36:09: Input filename is: /home/a0121533/InfiniumPurify/purity_data/red_methy_TCGA-AA-3662-01A-01D-1721-05.txt \n",
      "INFO  @ Thu, 14 Dec 2017 00:36:09: Cancer Type is: COAD \n",
      "INFO  @ Thu, 14 Dec 2017 00:36:09: Loading hyper and hypo iDMCs for: COAD \n",
      "INFO  @ Thu, 14 Dec 2017 00:36:09: Computating peak mode of iDMCs ... \n"
     ]
    },
    {
     "name": "stdout",
     "output_type": "stream",
     "text": [
      "TCGA-AA-3662-01A-01D-1721-05 0.7000000000000001\n"
     ]
    },
    {
     "name": "stderr",
     "output_type": "stream",
     "text": [
      "INFO  @ Thu, 14 Dec 2017 00:36:30: Input filename is: /home/a0121533/InfiniumPurify/purity_data/red_methy_TCGA-AA-3663-01A-01D-1721-05.txt \n",
      "INFO  @ Thu, 14 Dec 2017 00:36:30: Cancer Type is: COAD \n",
      "INFO  @ Thu, 14 Dec 2017 00:36:30: Loading hyper and hypo iDMCs for: COAD \n",
      "INFO  @ Thu, 14 Dec 2017 00:36:30: Computating peak mode of iDMCs ... \n"
     ]
    },
    {
     "name": "stdout",
     "output_type": "stream",
     "text": [
      "TCGA-AA-3663-01A-01D-1721-05 0.78\n"
     ]
    },
    {
     "name": "stderr",
     "output_type": "stream",
     "text": [
      "INFO  @ Thu, 14 Dec 2017 00:36:51: Input filename is: /home/a0121533/InfiniumPurify/purity_data/red_methy_TCGA-AA-3663-11A-01D-1721-05.txt \n",
      "INFO  @ Thu, 14 Dec 2017 00:36:51: Cancer Type is: COAD \n",
      "INFO  @ Thu, 14 Dec 2017 00:36:51: Loading hyper and hypo iDMCs for: COAD \n",
      "INFO  @ Thu, 14 Dec 2017 00:36:51: Computating peak mode of iDMCs ... \n"
     ]
    },
    {
     "name": "stdout",
     "output_type": "stream",
     "text": [
      "TCGA-AA-3663-11A-01D-1721-05 0.12\n"
     ]
    },
    {
     "name": "stderr",
     "output_type": "stream",
     "text": [
      "INFO  @ Thu, 14 Dec 2017 00:37:13: Input filename is: /home/a0121533/InfiniumPurify/purity_data/red_methy_TCGA-AA-3697-11A-01D-1721-05.txt \n",
      "INFO  @ Thu, 14 Dec 2017 00:37:13: Cancer Type is: COAD \n",
      "INFO  @ Thu, 14 Dec 2017 00:37:13: Loading hyper and hypo iDMCs for: COAD \n",
      "INFO  @ Thu, 14 Dec 2017 00:37:13: Computating peak mode of iDMCs ... \n"
     ]
    },
    {
     "name": "stdout",
     "output_type": "stream",
     "text": [
      "TCGA-AA-3697-11A-01D-1721-05 0.28\n"
     ]
    },
    {
     "name": "stderr",
     "output_type": "stream",
     "text": [
      "INFO  @ Thu, 14 Dec 2017 00:37:34: Input filename is: /home/a0121533/InfiniumPurify/purity_data/red_methy_TCGA-AA-3712-01A-21D-1721-05.txt \n",
      "INFO  @ Thu, 14 Dec 2017 00:37:34: Cancer Type is: COAD \n",
      "INFO  @ Thu, 14 Dec 2017 00:37:34: Loading hyper and hypo iDMCs for: COAD \n",
      "INFO  @ Thu, 14 Dec 2017 00:37:34: Computating peak mode of iDMCs ... \n"
     ]
    },
    {
     "name": "stdout",
     "output_type": "stream",
     "text": [
      "TCGA-AA-3712-01A-21D-1721-05 0.75\n"
     ]
    },
    {
     "name": "stderr",
     "output_type": "stream",
     "text": [
      "INFO  @ Thu, 14 Dec 2017 00:37:55: Input filename is: /home/a0121533/InfiniumPurify/purity_data/red_methy_TCGA-AA-3712-11A-01D-1721-05.txt \n",
      "INFO  @ Thu, 14 Dec 2017 00:37:55: Cancer Type is: COAD \n",
      "INFO  @ Thu, 14 Dec 2017 00:37:55: Loading hyper and hypo iDMCs for: COAD \n",
      "INFO  @ Thu, 14 Dec 2017 00:37:55: Computating peak mode of iDMCs ... \n"
     ]
    },
    {
     "name": "stdout",
     "output_type": "stream",
     "text": [
      "TCGA-AA-3712-11A-01D-1721-05 0.14\n"
     ]
    },
    {
     "name": "stderr",
     "output_type": "stream",
     "text": [
      "INFO  @ Thu, 14 Dec 2017 00:38:16: Input filename is: /home/a0121533/InfiniumPurify/purity_data/red_methy_TCGA-AA-3713-01A-21D-1721-05.txt \n",
      "INFO  @ Thu, 14 Dec 2017 00:38:16: Cancer Type is: COAD \n",
      "INFO  @ Thu, 14 Dec 2017 00:38:16: Loading hyper and hypo iDMCs for: COAD \n",
      "INFO  @ Thu, 14 Dec 2017 00:38:16: Computating peak mode of iDMCs ... \n"
     ]
    },
    {
     "name": "stdout",
     "output_type": "stream",
     "text": [
      "TCGA-AA-3713-01A-21D-1721-05 0.5700000000000001\n"
     ]
    },
    {
     "name": "stderr",
     "output_type": "stream",
     "text": [
      "INFO  @ Thu, 14 Dec 2017 00:38:38: Input filename is: /home/a0121533/InfiniumPurify/purity_data/red_methy_TCGA-AA-3713-11A-01D-1721-05.txt \n",
      "INFO  @ Thu, 14 Dec 2017 00:38:38: Cancer Type is: COAD \n",
      "INFO  @ Thu, 14 Dec 2017 00:38:38: Loading hyper and hypo iDMCs for: COAD \n",
      "INFO  @ Thu, 14 Dec 2017 00:38:38: Computating peak mode of iDMCs ... \n"
     ]
    },
    {
     "name": "stdout",
     "output_type": "stream",
     "text": [
      "TCGA-AA-3713-11A-01D-1721-05 0.23\n"
     ]
    },
    {
     "name": "stderr",
     "output_type": "stream",
     "text": [
      "INFO  @ Thu, 14 Dec 2017 00:38:59: Input filename is: /home/a0121533/InfiniumPurify/purity_data/red_methy_TCGA-AD-5900-01A-11D-1651-05.txt \n",
      "INFO  @ Thu, 14 Dec 2017 00:38:59: Cancer Type is: COAD \n",
      "INFO  @ Thu, 14 Dec 2017 00:38:59: Loading hyper and hypo iDMCs for: COAD \n",
      "INFO  @ Thu, 14 Dec 2017 00:38:59: Computating peak mode of iDMCs ... \n"
     ]
    },
    {
     "name": "stdout",
     "output_type": "stream",
     "text": [
      "TCGA-AD-5900-01A-11D-1651-05 0.5700000000000001\n"
     ]
    },
    {
     "name": "stderr",
     "output_type": "stream",
     "text": [
      "INFO  @ Thu, 14 Dec 2017 00:39:20: Input filename is: /home/a0121533/InfiniumPurify/purity_data/red_methy_TCGA-AD-6548-01A-11D-1837-05.txt \n",
      "INFO  @ Thu, 14 Dec 2017 00:39:20: Cancer Type is: COAD \n",
      "INFO  @ Thu, 14 Dec 2017 00:39:20: Loading hyper and hypo iDMCs for: COAD \n",
      "INFO  @ Thu, 14 Dec 2017 00:39:20: Computating peak mode of iDMCs ... \n"
     ]
    },
    {
     "name": "stdout",
     "output_type": "stream",
     "text": [
      "TCGA-AD-6548-01A-11D-1837-05 0.5700000000000001\n"
     ]
    },
    {
     "name": "stderr",
     "output_type": "stream",
     "text": [
      "INFO  @ Thu, 14 Dec 2017 00:39:41: Input filename is: /home/a0121533/InfiniumPurify/purity_data/red_methy_TCGA-AD-6888-01A-11D-1926-05.txt \n",
      "INFO  @ Thu, 14 Dec 2017 00:39:41: Cancer Type is: COAD \n",
      "INFO  @ Thu, 14 Dec 2017 00:39:41: Loading hyper and hypo iDMCs for: COAD \n",
      "INFO  @ Thu, 14 Dec 2017 00:39:41: Computating peak mode of iDMCs ... \n"
     ]
    },
    {
     "name": "stdout",
     "output_type": "stream",
     "text": [
      "TCGA-AD-6888-01A-11D-1926-05 0.73\n"
     ]
    },
    {
     "name": "stderr",
     "output_type": "stream",
     "text": [
      "INFO  @ Thu, 14 Dec 2017 00:40:02: Input filename is: /home/a0121533/InfiniumPurify/purity_data/red_methy_TCGA-AD-6889-01A-11D-1926-05.txt \n",
      "INFO  @ Thu, 14 Dec 2017 00:40:02: Cancer Type is: COAD \n",
      "INFO  @ Thu, 14 Dec 2017 00:40:02: Loading hyper and hypo iDMCs for: COAD \n",
      "INFO  @ Thu, 14 Dec 2017 00:40:02: Computating peak mode of iDMCs ... \n"
     ]
    },
    {
     "name": "stdout",
     "output_type": "stream",
     "text": [
      "TCGA-AD-6889-01A-11D-1926-05 0.8200000000000001\n"
     ]
    },
    {
     "name": "stderr",
     "output_type": "stream",
     "text": [
      "INFO  @ Thu, 14 Dec 2017 00:40:24: Input filename is: /home/a0121533/InfiniumPurify/purity_data/red_methy_TCGA-AD-6890-01A-11D-1926-05.txt \n",
      "INFO  @ Thu, 14 Dec 2017 00:40:24: Cancer Type is: COAD \n",
      "INFO  @ Thu, 14 Dec 2017 00:40:24: Loading hyper and hypo iDMCs for: COAD \n",
      "INFO  @ Thu, 14 Dec 2017 00:40:24: Computating peak mode of iDMCs ... \n"
     ]
    },
    {
     "name": "stdout",
     "output_type": "stream",
     "text": [
      "TCGA-AD-6890-01A-11D-1926-05 0.66\n"
     ]
    },
    {
     "name": "stderr",
     "output_type": "stream",
     "text": [
      "INFO  @ Thu, 14 Dec 2017 00:40:45: Input filename is: /home/a0121533/InfiniumPurify/purity_data/red_methy_TCGA-AD-6895-01A-11D-1926-05.txt \n",
      "INFO  @ Thu, 14 Dec 2017 00:40:45: Cancer Type is: COAD \n",
      "INFO  @ Thu, 14 Dec 2017 00:40:45: Loading hyper and hypo iDMCs for: COAD \n",
      "INFO  @ Thu, 14 Dec 2017 00:40:45: Computating peak mode of iDMCs ... \n"
     ]
    },
    {
     "name": "stdout",
     "output_type": "stream",
     "text": [
      "TCGA-AD-6895-01A-11D-1926-05 0.56\n"
     ]
    },
    {
     "name": "stderr",
     "output_type": "stream",
     "text": [
      "INFO  @ Thu, 14 Dec 2017 00:41:06: Input filename is: /home/a0121533/InfiniumPurify/purity_data/red_methy_TCGA-AD-6899-01A-11D-1926-05.txt \n",
      "INFO  @ Thu, 14 Dec 2017 00:41:06: Cancer Type is: COAD \n",
      "INFO  @ Thu, 14 Dec 2017 00:41:06: Loading hyper and hypo iDMCs for: COAD \n",
      "INFO  @ Thu, 14 Dec 2017 00:41:06: Computating peak mode of iDMCs ... \n"
     ]
    },
    {
     "name": "stdout",
     "output_type": "stream",
     "text": [
      "TCGA-AD-6899-01A-11D-1926-05 0.63\n"
     ]
    },
    {
     "name": "stderr",
     "output_type": "stream",
     "text": [
      "INFO  @ Thu, 14 Dec 2017 00:41:27: Input filename is: /home/a0121533/InfiniumPurify/purity_data/red_methy_TCGA-AD-6901-01A-11D-1926-05.txt \n",
      "INFO  @ Thu, 14 Dec 2017 00:41:27: Cancer Type is: COAD \n",
      "INFO  @ Thu, 14 Dec 2017 00:41:27: Loading hyper and hypo iDMCs for: COAD \n",
      "INFO  @ Thu, 14 Dec 2017 00:41:27: Computating peak mode of iDMCs ... \n"
     ]
    },
    {
     "name": "stdout",
     "output_type": "stream",
     "text": [
      "TCGA-AD-6901-01A-11D-1926-05 0.62\n"
     ]
    },
    {
     "name": "stderr",
     "output_type": "stream",
     "text": [
      "INFO  @ Thu, 14 Dec 2017 00:41:49: Input filename is: /home/a0121533/InfiniumPurify/purity_data/red_methy_TCGA-AD-6963-01A-11D-1926-05.txt \n",
      "INFO  @ Thu, 14 Dec 2017 00:41:49: Cancer Type is: COAD \n",
      "INFO  @ Thu, 14 Dec 2017 00:41:49: Loading hyper and hypo iDMCs for: COAD \n",
      "INFO  @ Thu, 14 Dec 2017 00:41:49: Computating peak mode of iDMCs ... \n"
     ]
    },
    {
     "name": "stdout",
     "output_type": "stream",
     "text": [
      "TCGA-AD-6963-01A-11D-1926-05 0.54\n"
     ]
    },
    {
     "name": "stderr",
     "output_type": "stream",
     "text": [
      "INFO  @ Thu, 14 Dec 2017 00:42:10: Input filename is: /home/a0121533/InfiniumPurify/purity_data/red_methy_TCGA-AD-6964-01A-11D-1926-05.txt \n",
      "INFO  @ Thu, 14 Dec 2017 00:42:10: Cancer Type is: COAD \n",
      "INFO  @ Thu, 14 Dec 2017 00:42:10: Loading hyper and hypo iDMCs for: COAD \n",
      "INFO  @ Thu, 14 Dec 2017 00:42:10: Computating peak mode of iDMCs ... \n"
     ]
    },
    {
     "name": "stdout",
     "output_type": "stream",
     "text": [
      "TCGA-AD-6964-01A-11D-1926-05 0.6\n"
     ]
    },
    {
     "name": "stderr",
     "output_type": "stream",
     "text": [
      "INFO  @ Thu, 14 Dec 2017 00:42:31: Input filename is: /home/a0121533/InfiniumPurify/purity_data/red_methy_TCGA-AD-6965-01A-11D-1926-05.txt \n",
      "INFO  @ Thu, 14 Dec 2017 00:42:31: Cancer Type is: COAD \n",
      "INFO  @ Thu, 14 Dec 2017 00:42:31: Loading hyper and hypo iDMCs for: COAD \n",
      "INFO  @ Thu, 14 Dec 2017 00:42:31: Computating peak mode of iDMCs ... \n"
     ]
    },
    {
     "name": "stdout",
     "output_type": "stream",
     "text": [
      "TCGA-AD-6965-01A-11D-1926-05 0.85\n"
     ]
    },
    {
     "name": "stderr",
     "output_type": "stream",
     "text": [
      "INFO  @ Thu, 14 Dec 2017 00:42:52: Input filename is: /home/a0121533/InfiniumPurify/purity_data/red_methy_TCGA-AD-A5EJ-01A-11D-A28O-05.txt \n",
      "INFO  @ Thu, 14 Dec 2017 00:42:52: Cancer Type is: COAD \n",
      "INFO  @ Thu, 14 Dec 2017 00:42:52: Loading hyper and hypo iDMCs for: COAD \n",
      "INFO  @ Thu, 14 Dec 2017 00:42:52: Computating peak mode of iDMCs ... \n"
     ]
    },
    {
     "name": "stdout",
     "output_type": "stream",
     "text": [
      "TCGA-AD-A5EJ-01A-11D-A28O-05 0.65\n"
     ]
    },
    {
     "name": "stderr",
     "output_type": "stream",
     "text": [
      "INFO  @ Thu, 14 Dec 2017 00:43:13: Input filename is: /home/a0121533/InfiniumPurify/purity_data/red_methy_TCGA-AD-A5EK-01A-11D-A28O-05.txt \n",
      "INFO  @ Thu, 14 Dec 2017 00:43:13: Cancer Type is: COAD \n",
      "INFO  @ Thu, 14 Dec 2017 00:43:13: Loading hyper and hypo iDMCs for: COAD \n",
      "INFO  @ Thu, 14 Dec 2017 00:43:13: Computating peak mode of iDMCs ... \n"
     ]
    },
    {
     "name": "stdout",
     "output_type": "stream",
     "text": [
      "TCGA-AD-A5EK-01A-11D-A28O-05 0.8200000000000001\n"
     ]
    },
    {
     "name": "stderr",
     "output_type": "stream",
     "text": [
      "INFO  @ Thu, 14 Dec 2017 00:43:35: Input filename is: /home/a0121533/InfiniumPurify/purity_data/red_methy_TCGA-AM-5820-01A-01D-1651-05.txt \n",
      "INFO  @ Thu, 14 Dec 2017 00:43:35: Cancer Type is: COAD \n",
      "INFO  @ Thu, 14 Dec 2017 00:43:35: Loading hyper and hypo iDMCs for: COAD \n",
      "INFO  @ Thu, 14 Dec 2017 00:43:35: Computating peak mode of iDMCs ... \n"
     ]
    },
    {
     "name": "stdout",
     "output_type": "stream",
     "text": [
      "TCGA-AM-5820-01A-01D-1651-05 0.75\n"
     ]
    },
    {
     "name": "stderr",
     "output_type": "stream",
     "text": [
      "INFO  @ Thu, 14 Dec 2017 00:43:56: Input filename is: /home/a0121533/InfiniumPurify/purity_data/red_methy_TCGA-AM-5821-01A-01D-1651-05.txt \n",
      "INFO  @ Thu, 14 Dec 2017 00:43:56: Cancer Type is: COAD \n",
      "INFO  @ Thu, 14 Dec 2017 00:43:56: Loading hyper and hypo iDMCs for: COAD \n",
      "INFO  @ Thu, 14 Dec 2017 00:43:56: Computating peak mode of iDMCs ... \n"
     ]
    },
    {
     "name": "stdout",
     "output_type": "stream",
     "text": [
      "TCGA-AM-5821-01A-01D-1651-05 0.64\n"
     ]
    },
    {
     "name": "stderr",
     "output_type": "stream",
     "text": [
      "INFO  @ Thu, 14 Dec 2017 00:44:17: Input filename is: /home/a0121533/InfiniumPurify/purity_data/red_methy_TCGA-AU-3779-01A-01D-1721-05.txt \n",
      "INFO  @ Thu, 14 Dec 2017 00:44:17: Cancer Type is: COAD \n",
      "INFO  @ Thu, 14 Dec 2017 00:44:17: Loading hyper and hypo iDMCs for: COAD \n",
      "INFO  @ Thu, 14 Dec 2017 00:44:17: Computating peak mode of iDMCs ... \n"
     ]
    },
    {
     "name": "stdout",
     "output_type": "stream",
     "text": [
      "TCGA-AU-3779-01A-01D-1721-05 0.68\n"
     ]
    },
    {
     "name": "stderr",
     "output_type": "stream",
     "text": [
      "INFO  @ Thu, 14 Dec 2017 00:44:38: Input filename is: /home/a0121533/InfiniumPurify/purity_data/red_methy_TCGA-AU-6004-01A-11D-1721-05.txt \n",
      "INFO  @ Thu, 14 Dec 2017 00:44:38: Cancer Type is: COAD \n",
      "INFO  @ Thu, 14 Dec 2017 00:44:38: Loading hyper and hypo iDMCs for: COAD \n",
      "INFO  @ Thu, 14 Dec 2017 00:44:38: Computating peak mode of iDMCs ... \n"
     ]
    },
    {
     "name": "stdout",
     "output_type": "stream",
     "text": [
      "TCGA-AU-6004-01A-11D-1721-05 0.53\n"
     ]
    },
    {
     "name": "stderr",
     "output_type": "stream",
     "text": [
      "INFO  @ Thu, 14 Dec 2017 00:44:59: Input filename is: /home/a0121533/InfiniumPurify/purity_data/red_methy_TCGA-AY-5543-01A-01D-1651-05.txt \n",
      "INFO  @ Thu, 14 Dec 2017 00:44:59: Cancer Type is: COAD \n",
      "INFO  @ Thu, 14 Dec 2017 00:44:59: Loading hyper and hypo iDMCs for: COAD \n",
      "INFO  @ Thu, 14 Dec 2017 00:44:59: Computating peak mode of iDMCs ... \n"
     ]
    },
    {
     "name": "stdout",
     "output_type": "stream",
     "text": [
      "TCGA-AY-5543-01A-01D-1651-05 0.68\n"
     ]
    },
    {
     "name": "stderr",
     "output_type": "stream",
     "text": [
      "INFO  @ Thu, 14 Dec 2017 00:45:20: Input filename is: /home/a0121533/InfiniumPurify/purity_data/red_methy_TCGA-AY-6196-01A-11D-1721-05.txt \n",
      "INFO  @ Thu, 14 Dec 2017 00:45:20: Cancer Type is: COAD \n",
      "INFO  @ Thu, 14 Dec 2017 00:45:20: Loading hyper and hypo iDMCs for: COAD \n",
      "INFO  @ Thu, 14 Dec 2017 00:45:20: Computating peak mode of iDMCs ... \n"
     ]
    },
    {
     "name": "stdout",
     "output_type": "stream",
     "text": [
      "TCGA-AY-6196-01A-11D-1721-05 0.54\n"
     ]
    },
    {
     "name": "stderr",
     "output_type": "stream",
     "text": [
      "INFO  @ Thu, 14 Dec 2017 00:45:42: Input filename is: /home/a0121533/InfiniumPurify/purity_data/red_methy_TCGA-AY-6197-01A-11D-1721-05.txt \n",
      "INFO  @ Thu, 14 Dec 2017 00:45:42: Cancer Type is: COAD \n",
      "INFO  @ Thu, 14 Dec 2017 00:45:42: Loading hyper and hypo iDMCs for: COAD \n",
      "INFO  @ Thu, 14 Dec 2017 00:45:42: Computating peak mode of iDMCs ... \n"
     ]
    },
    {
     "name": "stdout",
     "output_type": "stream",
     "text": [
      "TCGA-AY-6197-01A-11D-1721-05 0.71\n"
     ]
    },
    {
     "name": "stderr",
     "output_type": "stream",
     "text": [
      "INFO  @ Thu, 14 Dec 2017 00:46:03: Input filename is: /home/a0121533/InfiniumPurify/purity_data/red_methy_TCGA-AY-6386-01A-21D-1721-05.txt \n",
      "INFO  @ Thu, 14 Dec 2017 00:46:03: Cancer Type is: COAD \n",
      "INFO  @ Thu, 14 Dec 2017 00:46:03: Loading hyper and hypo iDMCs for: COAD \n",
      "INFO  @ Thu, 14 Dec 2017 00:46:03: Computating peak mode of iDMCs ... \n"
     ]
    },
    {
     "name": "stdout",
     "output_type": "stream",
     "text": [
      "TCGA-AY-6386-01A-21D-1721-05 0.63\n"
     ]
    },
    {
     "name": "stderr",
     "output_type": "stream",
     "text": [
      "INFO  @ Thu, 14 Dec 2017 00:46:24: Input filename is: /home/a0121533/InfiniumPurify/purity_data/red_methy_TCGA-AY-A54L-01A-11D-A28O-05.txt \n",
      "INFO  @ Thu, 14 Dec 2017 00:46:24: Cancer Type is: COAD \n",
      "INFO  @ Thu, 14 Dec 2017 00:46:24: Loading hyper and hypo iDMCs for: COAD \n",
      "INFO  @ Thu, 14 Dec 2017 00:46:24: Computating peak mode of iDMCs ... \n"
     ]
    },
    {
     "name": "stdout",
     "output_type": "stream",
     "text": [
      "TCGA-AY-A54L-01A-11D-A28O-05 0.75\n"
     ]
    },
    {
     "name": "stderr",
     "output_type": "stream",
     "text": [
      "INFO  @ Thu, 14 Dec 2017 00:46:45: Input filename is: /home/a0121533/InfiniumPurify/purity_data/red_methy_TCGA-AY-A69D-01A-11D-A36Y-05.txt \n",
      "INFO  @ Thu, 14 Dec 2017 00:46:45: Cancer Type is: COAD \n",
      "INFO  @ Thu, 14 Dec 2017 00:46:45: Loading hyper and hypo iDMCs for: COAD \n",
      "INFO  @ Thu, 14 Dec 2017 00:46:45: Computating peak mode of iDMCs ... \n"
     ]
    },
    {
     "name": "stdout",
     "output_type": "stream",
     "text": [
      "TCGA-AY-A69D-01A-11D-A36Y-05 0.68\n"
     ]
    },
    {
     "name": "stderr",
     "output_type": "stream",
     "text": [
      "INFO  @ Thu, 14 Dec 2017 00:47:06: Input filename is: /home/a0121533/InfiniumPurify/purity_data/red_methy_TCGA-AY-A71X-01A-12D-A36Y-05.txt \n",
      "INFO  @ Thu, 14 Dec 2017 00:47:06: Cancer Type is: COAD \n",
      "INFO  @ Thu, 14 Dec 2017 00:47:06: Loading hyper and hypo iDMCs for: COAD \n",
      "INFO  @ Thu, 14 Dec 2017 00:47:06: Computating peak mode of iDMCs ... \n"
     ]
    },
    {
     "name": "stdout",
     "output_type": "stream",
     "text": [
      "TCGA-AY-A71X-01A-12D-A36Y-05 0.89\n"
     ]
    },
    {
     "name": "stderr",
     "output_type": "stream",
     "text": [
      "INFO  @ Thu, 14 Dec 2017 00:47:28: Input filename is: /home/a0121533/InfiniumPurify/purity_data/red_methy_TCGA-AY-A8YK-01A-11D-A40X-05.txt \n",
      "INFO  @ Thu, 14 Dec 2017 00:47:28: Cancer Type is: COAD \n",
      "INFO  @ Thu, 14 Dec 2017 00:47:28: Loading hyper and hypo iDMCs for: COAD \n",
      "INFO  @ Thu, 14 Dec 2017 00:47:28: Computating peak mode of iDMCs ... \n"
     ]
    },
    {
     "name": "stdout",
     "output_type": "stream",
     "text": [
      "TCGA-AY-A8YK-01A-11D-A40X-05 0.75\n"
     ]
    },
    {
     "name": "stderr",
     "output_type": "stream",
     "text": [
      "INFO  @ Thu, 14 Dec 2017 00:47:49: Input filename is: /home/a0121533/InfiniumPurify/purity_data/red_methy_TCGA-AZ-4313-01A-01D-1407-05.txt \n",
      "INFO  @ Thu, 14 Dec 2017 00:47:49: Cancer Type is: COAD \n",
      "INFO  @ Thu, 14 Dec 2017 00:47:49: Loading hyper and hypo iDMCs for: COAD \n",
      "INFO  @ Thu, 14 Dec 2017 00:47:49: Computating peak mode of iDMCs ... \n"
     ]
    },
    {
     "name": "stdout",
     "output_type": "stream",
     "text": [
      "TCGA-AZ-4313-01A-01D-1407-05 0.55\n"
     ]
    },
    {
     "name": "stderr",
     "output_type": "stream",
     "text": [
      "INFO  @ Thu, 14 Dec 2017 00:48:10: Input filename is: /home/a0121533/InfiniumPurify/purity_data/red_methy_TCGA-AZ-4315-01A-01D-1407-05.txt \n",
      "INFO  @ Thu, 14 Dec 2017 00:48:10: Cancer Type is: COAD \n",
      "INFO  @ Thu, 14 Dec 2017 00:48:10: Loading hyper and hypo iDMCs for: COAD \n",
      "INFO  @ Thu, 14 Dec 2017 00:48:10: Computating peak mode of iDMCs ... \n"
     ]
    },
    {
     "name": "stdout",
     "output_type": "stream",
     "text": [
      "TCGA-AZ-4315-01A-01D-1407-05 0.67\n"
     ]
    },
    {
     "name": "stderr",
     "output_type": "stream",
     "text": [
      "INFO  @ Thu, 14 Dec 2017 00:48:31: Input filename is: /home/a0121533/InfiniumPurify/purity_data/red_methy_TCGA-AZ-4323-01A-21D-1837-05.txt \n",
      "INFO  @ Thu, 14 Dec 2017 00:48:31: Cancer Type is: COAD \n",
      "INFO  @ Thu, 14 Dec 2017 00:48:31: Loading hyper and hypo iDMCs for: COAD \n",
      "INFO  @ Thu, 14 Dec 2017 00:48:31: Computating peak mode of iDMCs ... \n"
     ]
    },
    {
     "name": "stdout",
     "output_type": "stream",
     "text": [
      "TCGA-AZ-4323-01A-21D-1837-05 0.4\n"
     ]
    },
    {
     "name": "stderr",
     "output_type": "stream",
     "text": [
      "INFO  @ Thu, 14 Dec 2017 00:48:53: Input filename is: /home/a0121533/InfiniumPurify/purity_data/red_methy_TCGA-AZ-4614-01A-01D-1407-05.txt \n",
      "INFO  @ Thu, 14 Dec 2017 00:48:53: Cancer Type is: COAD \n",
      "INFO  @ Thu, 14 Dec 2017 00:48:53: Loading hyper and hypo iDMCs for: COAD \n",
      "INFO  @ Thu, 14 Dec 2017 00:48:53: Computating peak mode of iDMCs ... \n"
     ]
    },
    {
     "name": "stdout",
     "output_type": "stream",
     "text": [
      "TCGA-AZ-4614-01A-01D-1407-05 0.8300000000000001\n"
     ]
    },
    {
     "name": "stderr",
     "output_type": "stream",
     "text": [
      "INFO  @ Thu, 14 Dec 2017 00:49:14: Input filename is: /home/a0121533/InfiniumPurify/purity_data/red_methy_TCGA-AZ-4615-01A-01D-1407-05.txt \n",
      "INFO  @ Thu, 14 Dec 2017 00:49:14: Cancer Type is: COAD \n",
      "INFO  @ Thu, 14 Dec 2017 00:49:14: Loading hyper and hypo iDMCs for: COAD \n",
      "INFO  @ Thu, 14 Dec 2017 00:49:14: Computating peak mode of iDMCs ... \n"
     ]
    },
    {
     "name": "stdout",
     "output_type": "stream",
     "text": [
      "TCGA-AZ-4615-01A-01D-1407-05 0.66\n"
     ]
    },
    {
     "name": "stderr",
     "output_type": "stream",
     "text": [
      "INFO  @ Thu, 14 Dec 2017 00:49:35: Input filename is: /home/a0121533/InfiniumPurify/purity_data/red_methy_TCGA-AZ-4616-01A-21D-1837-05.txt \n",
      "INFO  @ Thu, 14 Dec 2017 00:49:35: Cancer Type is: COAD \n",
      "INFO  @ Thu, 14 Dec 2017 00:49:35: Loading hyper and hypo iDMCs for: COAD \n",
      "INFO  @ Thu, 14 Dec 2017 00:49:35: Computating peak mode of iDMCs ... \n"
     ]
    },
    {
     "name": "stdout",
     "output_type": "stream",
     "text": [
      "TCGA-AZ-4616-01A-21D-1837-05 0.5700000000000001\n"
     ]
    },
    {
     "name": "stderr",
     "output_type": "stream",
     "text": [
      "INFO  @ Thu, 14 Dec 2017 00:49:56: Input filename is: /home/a0121533/InfiniumPurify/purity_data/red_methy_TCGA-AZ-4682-01B-01D-1407-05.txt \n",
      "INFO  @ Thu, 14 Dec 2017 00:49:56: Cancer Type is: COAD \n",
      "INFO  @ Thu, 14 Dec 2017 00:49:56: Loading hyper and hypo iDMCs for: COAD \n",
      "INFO  @ Thu, 14 Dec 2017 00:49:56: Computating peak mode of iDMCs ... \n"
     ]
    },
    {
     "name": "stdout",
     "output_type": "stream",
     "text": [
      "TCGA-AZ-4682-01B-01D-1407-05 0.81\n"
     ]
    },
    {
     "name": "stderr",
     "output_type": "stream",
     "text": [
      "INFO  @ Thu, 14 Dec 2017 00:50:17: Input filename is: /home/a0121533/InfiniumPurify/purity_data/red_methy_TCGA-AZ-4684-01A-01D-1407-05.txt \n",
      "INFO  @ Thu, 14 Dec 2017 00:50:17: Cancer Type is: COAD \n",
      "INFO  @ Thu, 14 Dec 2017 00:50:17: Loading hyper and hypo iDMCs for: COAD \n",
      "INFO  @ Thu, 14 Dec 2017 00:50:17: Computating peak mode of iDMCs ... \n"
     ]
    },
    {
     "name": "stdout",
     "output_type": "stream",
     "text": [
      "TCGA-AZ-4684-01A-01D-1407-05 0.68\n"
     ]
    },
    {
     "name": "stderr",
     "output_type": "stream",
     "text": [
      "INFO  @ Thu, 14 Dec 2017 00:50:39: Input filename is: /home/a0121533/InfiniumPurify/purity_data/red_methy_TCGA-AZ-5403-01A-01D-1651-05.txt \n",
      "INFO  @ Thu, 14 Dec 2017 00:50:39: Cancer Type is: COAD \n",
      "INFO  @ Thu, 14 Dec 2017 00:50:39: Loading hyper and hypo iDMCs for: COAD \n",
      "INFO  @ Thu, 14 Dec 2017 00:50:39: Computating peak mode of iDMCs ... \n"
     ]
    },
    {
     "name": "stdout",
     "output_type": "stream",
     "text": [
      "TCGA-AZ-5403-01A-01D-1651-05 0.53\n"
     ]
    },
    {
     "name": "stderr",
     "output_type": "stream",
     "text": [
      "INFO  @ Thu, 14 Dec 2017 00:51:00: Input filename is: /home/a0121533/InfiniumPurify/purity_data/red_methy_TCGA-AZ-5407-01A-01D-1721-05.txt \n",
      "INFO  @ Thu, 14 Dec 2017 00:51:00: Cancer Type is: COAD \n",
      "INFO  @ Thu, 14 Dec 2017 00:51:00: Loading hyper and hypo iDMCs for: COAD \n",
      "INFO  @ Thu, 14 Dec 2017 00:51:00: Computating peak mode of iDMCs ... \n"
     ]
    },
    {
     "name": "stdout",
     "output_type": "stream",
     "text": [
      "TCGA-AZ-5407-01A-01D-1721-05 0.72\n"
     ]
    },
    {
     "name": "stderr",
     "output_type": "stream",
     "text": [
      "INFO  @ Thu, 14 Dec 2017 00:51:21: Input filename is: /home/a0121533/InfiniumPurify/purity_data/red_methy_TCGA-AZ-6598-01A-11D-1772-05.txt \n",
      "INFO  @ Thu, 14 Dec 2017 00:51:21: Cancer Type is: COAD \n",
      "INFO  @ Thu, 14 Dec 2017 00:51:21: Loading hyper and hypo iDMCs for: COAD \n",
      "INFO  @ Thu, 14 Dec 2017 00:51:21: Computating peak mode of iDMCs ... \n"
     ]
    },
    {
     "name": "stdout",
     "output_type": "stream",
     "text": [
      "TCGA-AZ-6598-01A-11D-1772-05 0.81\n"
     ]
    },
    {
     "name": "stderr",
     "output_type": "stream",
     "text": [
      "INFO  @ Thu, 14 Dec 2017 00:51:42: Input filename is: /home/a0121533/InfiniumPurify/purity_data/red_methy_TCGA-AZ-6598-11A-01D-1772-05.txt \n",
      "INFO  @ Thu, 14 Dec 2017 00:51:42: Cancer Type is: COAD \n",
      "INFO  @ Thu, 14 Dec 2017 00:51:42: Loading hyper and hypo iDMCs for: COAD \n",
      "INFO  @ Thu, 14 Dec 2017 00:51:42: Computating peak mode of iDMCs ... \n"
     ]
    },
    {
     "name": "stdout",
     "output_type": "stream",
     "text": [
      "TCGA-AZ-6598-11A-01D-1772-05 0.23\n"
     ]
    },
    {
     "name": "stderr",
     "output_type": "stream",
     "text": [
      "INFO  @ Thu, 14 Dec 2017 00:52:04: Input filename is: /home/a0121533/InfiniumPurify/purity_data/red_methy_TCGA-AZ-6599-01A-11D-1772-05.txt \n",
      "INFO  @ Thu, 14 Dec 2017 00:52:04: Cancer Type is: COAD \n",
      "INFO  @ Thu, 14 Dec 2017 00:52:04: Loading hyper and hypo iDMCs for: COAD \n",
      "INFO  @ Thu, 14 Dec 2017 00:52:04: Computating peak mode of iDMCs ... \n"
     ]
    },
    {
     "name": "stdout",
     "output_type": "stream",
     "text": [
      "TCGA-AZ-6599-01A-11D-1772-05 0.86\n"
     ]
    },
    {
     "name": "stderr",
     "output_type": "stream",
     "text": [
      "INFO  @ Thu, 14 Dec 2017 00:52:25: Input filename is: /home/a0121533/InfiniumPurify/purity_data/red_methy_TCGA-AZ-6599-11A-01D-1772-05.txt \n",
      "INFO  @ Thu, 14 Dec 2017 00:52:25: Cancer Type is: COAD \n",
      "INFO  @ Thu, 14 Dec 2017 00:52:25: Loading hyper and hypo iDMCs for: COAD \n",
      "INFO  @ Thu, 14 Dec 2017 00:52:25: Computating peak mode of iDMCs ... \n"
     ]
    },
    {
     "name": "stdout",
     "output_type": "stream",
     "text": [
      "TCGA-AZ-6599-11A-01D-1772-05 0.19\n"
     ]
    },
    {
     "name": "stderr",
     "output_type": "stream",
     "text": [
      "INFO  @ Thu, 14 Dec 2017 00:52:46: Input filename is: /home/a0121533/InfiniumPurify/purity_data/red_methy_TCGA-AZ-6600-01A-11D-1772-05.txt \n",
      "INFO  @ Thu, 14 Dec 2017 00:52:46: Cancer Type is: COAD \n",
      "INFO  @ Thu, 14 Dec 2017 00:52:46: Loading hyper and hypo iDMCs for: COAD \n",
      "INFO  @ Thu, 14 Dec 2017 00:52:46: Computating peak mode of iDMCs ... \n"
     ]
    },
    {
     "name": "stdout",
     "output_type": "stream",
     "text": [
      "TCGA-AZ-6600-01A-11D-1772-05 0.63\n"
     ]
    },
    {
     "name": "stderr",
     "output_type": "stream",
     "text": [
      "INFO  @ Thu, 14 Dec 2017 00:53:07: Input filename is: /home/a0121533/InfiniumPurify/purity_data/red_methy_TCGA-AZ-6600-11A-01D-1772-05.txt \n",
      "INFO  @ Thu, 14 Dec 2017 00:53:07: Cancer Type is: COAD \n",
      "INFO  @ Thu, 14 Dec 2017 00:53:07: Loading hyper and hypo iDMCs for: COAD \n",
      "INFO  @ Thu, 14 Dec 2017 00:53:07: Computating peak mode of iDMCs ... \n"
     ]
    },
    {
     "name": "stdout",
     "output_type": "stream",
     "text": [
      "TCGA-AZ-6600-11A-01D-1772-05 0.12\n"
     ]
    },
    {
     "name": "stderr",
     "output_type": "stream",
     "text": [
      "INFO  @ Thu, 14 Dec 2017 00:53:28: Input filename is: /home/a0121533/InfiniumPurify/purity_data/red_methy_TCGA-AZ-6601-01A-11D-1772-05.txt \n",
      "INFO  @ Thu, 14 Dec 2017 00:53:28: Cancer Type is: COAD \n",
      "INFO  @ Thu, 14 Dec 2017 00:53:28: Loading hyper and hypo iDMCs for: COAD \n",
      "INFO  @ Thu, 14 Dec 2017 00:53:28: Computating peak mode of iDMCs ... \n"
     ]
    },
    {
     "name": "stdout",
     "output_type": "stream",
     "text": [
      "TCGA-AZ-6601-01A-11D-1772-05 0.54\n"
     ]
    },
    {
     "name": "stderr",
     "output_type": "stream",
     "text": [
      "INFO  @ Thu, 14 Dec 2017 00:53:50: Input filename is: /home/a0121533/InfiniumPurify/purity_data/red_methy_TCGA-AZ-6601-11A-01D-1772-05.txt \n",
      "INFO  @ Thu, 14 Dec 2017 00:53:50: Cancer Type is: COAD \n",
      "INFO  @ Thu, 14 Dec 2017 00:53:50: Loading hyper and hypo iDMCs for: COAD \n",
      "INFO  @ Thu, 14 Dec 2017 00:53:50: Computating peak mode of iDMCs ... \n"
     ]
    },
    {
     "name": "stdout",
     "output_type": "stream",
     "text": [
      "TCGA-AZ-6601-11A-01D-1772-05 0.24\n"
     ]
    },
    {
     "name": "stderr",
     "output_type": "stream",
     "text": [
      "INFO  @ Thu, 14 Dec 2017 00:54:11: Input filename is: /home/a0121533/InfiniumPurify/purity_data/red_methy_TCGA-AZ-6603-01A-11D-1837-05.txt \n",
      "INFO  @ Thu, 14 Dec 2017 00:54:11: Cancer Type is: COAD \n",
      "INFO  @ Thu, 14 Dec 2017 00:54:11: Loading hyper and hypo iDMCs for: COAD \n",
      "INFO  @ Thu, 14 Dec 2017 00:54:11: Computating peak mode of iDMCs ... \n"
     ]
    },
    {
     "name": "stdout",
     "output_type": "stream",
     "text": [
      "TCGA-AZ-6603-01A-11D-1837-05 0.76\n"
     ]
    },
    {
     "name": "stderr",
     "output_type": "stream",
     "text": [
      "INFO  @ Thu, 14 Dec 2017 00:54:32: Input filename is: /home/a0121533/InfiniumPurify/purity_data/red_methy_TCGA-AZ-6605-01A-11D-1837-05.txt \n",
      "INFO  @ Thu, 14 Dec 2017 00:54:32: Cancer Type is: COAD \n",
      "INFO  @ Thu, 14 Dec 2017 00:54:32: Loading hyper and hypo iDMCs for: COAD \n",
      "INFO  @ Thu, 14 Dec 2017 00:54:32: Computating peak mode of iDMCs ... \n"
     ]
    },
    {
     "name": "stdout",
     "output_type": "stream",
     "text": [
      "TCGA-AZ-6605-01A-11D-1837-05 0.51\n"
     ]
    },
    {
     "name": "stderr",
     "output_type": "stream",
     "text": [
      "INFO  @ Thu, 14 Dec 2017 00:54:53: Input filename is: /home/a0121533/InfiniumPurify/purity_data/red_methy_TCGA-AZ-6606-01A-11D-1837-05.txt \n",
      "INFO  @ Thu, 14 Dec 2017 00:54:53: Cancer Type is: COAD \n",
      "INFO  @ Thu, 14 Dec 2017 00:54:53: Loading hyper and hypo iDMCs for: COAD \n",
      "INFO  @ Thu, 14 Dec 2017 00:54:53: Computating peak mode of iDMCs ... \n"
     ]
    },
    {
     "name": "stdout",
     "output_type": "stream",
     "text": [
      "TCGA-AZ-6606-01A-11D-1837-05 0.76\n"
     ]
    },
    {
     "name": "stderr",
     "output_type": "stream",
     "text": [
      "INFO  @ Thu, 14 Dec 2017 00:55:14: Input filename is: /home/a0121533/InfiniumPurify/purity_data/red_methy_TCGA-AZ-6607-01A-11D-1837-05.txt \n",
      "INFO  @ Thu, 14 Dec 2017 00:55:14: Cancer Type is: COAD \n",
      "INFO  @ Thu, 14 Dec 2017 00:55:14: Loading hyper and hypo iDMCs for: COAD \n",
      "INFO  @ Thu, 14 Dec 2017 00:55:14: Computating peak mode of iDMCs ... \n"
     ]
    },
    {
     "name": "stdout",
     "output_type": "stream",
     "text": [
      "TCGA-AZ-6607-01A-11D-1837-05 0.58\n"
     ]
    },
    {
     "name": "stderr",
     "output_type": "stream",
     "text": [
      "INFO  @ Thu, 14 Dec 2017 00:55:36: Input filename is: /home/a0121533/InfiniumPurify/purity_data/red_methy_TCGA-AZ-6608-01A-11D-1837-05.txt \n",
      "INFO  @ Thu, 14 Dec 2017 00:55:36: Cancer Type is: COAD \n",
      "INFO  @ Thu, 14 Dec 2017 00:55:36: Loading hyper and hypo iDMCs for: COAD \n",
      "INFO  @ Thu, 14 Dec 2017 00:55:36: Computating peak mode of iDMCs ... \n"
     ]
    },
    {
     "name": "stdout",
     "output_type": "stream",
     "text": [
      "TCGA-AZ-6608-01A-11D-1837-05 0.89\n"
     ]
    },
    {
     "name": "stderr",
     "output_type": "stream",
     "text": [
      "INFO  @ Thu, 14 Dec 2017 00:55:57: Input filename is: /home/a0121533/InfiniumPurify/purity_data/red_methy_TCGA-CA-5254-01A-21D-1837-05.txt \n",
      "INFO  @ Thu, 14 Dec 2017 00:55:57: Cancer Type is: COAD \n",
      "INFO  @ Thu, 14 Dec 2017 00:55:57: Loading hyper and hypo iDMCs for: COAD \n",
      "INFO  @ Thu, 14 Dec 2017 00:55:57: Computating peak mode of iDMCs ... \n"
     ]
    },
    {
     "name": "stdout",
     "output_type": "stream",
     "text": [
      "TCGA-CA-5254-01A-21D-1837-05 0.76\n"
     ]
    },
    {
     "name": "stderr",
     "output_type": "stream",
     "text": [
      "INFO  @ Thu, 14 Dec 2017 00:56:18: Input filename is: /home/a0121533/InfiniumPurify/purity_data/red_methy_TCGA-CA-5255-01A-11D-1837-05.txt \n",
      "INFO  @ Thu, 14 Dec 2017 00:56:18: Cancer Type is: COAD \n",
      "INFO  @ Thu, 14 Dec 2017 00:56:18: Loading hyper and hypo iDMCs for: COAD \n",
      "INFO  @ Thu, 14 Dec 2017 00:56:18: Computating peak mode of iDMCs ... \n"
     ]
    },
    {
     "name": "stdout",
     "output_type": "stream",
     "text": [
      "TCGA-CA-5255-01A-11D-1837-05 0.5\n"
     ]
    },
    {
     "name": "stderr",
     "output_type": "stream",
     "text": [
      "INFO  @ Thu, 14 Dec 2017 00:56:39: Input filename is: /home/a0121533/InfiniumPurify/purity_data/red_methy_TCGA-CA-5256-01A-01D-1407-05.txt \n",
      "INFO  @ Thu, 14 Dec 2017 00:56:39: Cancer Type is: COAD \n",
      "INFO  @ Thu, 14 Dec 2017 00:56:39: Loading hyper and hypo iDMCs for: COAD \n",
      "INFO  @ Thu, 14 Dec 2017 00:56:39: Computating peak mode of iDMCs ... \n"
     ]
    },
    {
     "name": "stdout",
     "output_type": "stream",
     "text": [
      "TCGA-CA-5256-01A-01D-1407-05 0.8\n"
     ]
    },
    {
     "name": "stderr",
     "output_type": "stream",
     "text": [
      "INFO  @ Thu, 14 Dec 2017 00:57:00: Input filename is: /home/a0121533/InfiniumPurify/purity_data/red_methy_TCGA-CA-5796-01A-01D-1651-05.txt \n",
      "INFO  @ Thu, 14 Dec 2017 00:57:00: Cancer Type is: COAD \n",
      "INFO  @ Thu, 14 Dec 2017 00:57:00: Loading hyper and hypo iDMCs for: COAD \n",
      "INFO  @ Thu, 14 Dec 2017 00:57:00: Computating peak mode of iDMCs ... \n"
     ]
    },
    {
     "name": "stdout",
     "output_type": "stream",
     "text": [
      "TCGA-CA-5796-01A-01D-1651-05 0.81\n"
     ]
    },
    {
     "name": "stderr",
     "output_type": "stream",
     "text": [
      "INFO  @ Thu, 14 Dec 2017 00:57:22: Input filename is: /home/a0121533/InfiniumPurify/purity_data/red_methy_TCGA-CA-5797-01A-01D-1651-05.txt \n",
      "INFO  @ Thu, 14 Dec 2017 00:57:22: Cancer Type is: COAD \n",
      "INFO  @ Thu, 14 Dec 2017 00:57:22: Loading hyper and hypo iDMCs for: COAD \n",
      "INFO  @ Thu, 14 Dec 2017 00:57:22: Computating peak mode of iDMCs ... \n"
     ]
    },
    {
     "name": "stdout",
     "output_type": "stream",
     "text": [
      "TCGA-CA-5797-01A-01D-1651-05 0.76\n"
     ]
    },
    {
     "name": "stderr",
     "output_type": "stream",
     "text": [
      "INFO  @ Thu, 14 Dec 2017 00:57:43: Input filename is: /home/a0121533/InfiniumPurify/purity_data/red_methy_TCGA-CA-6715-01A-21D-1837-05.txt \n",
      "INFO  @ Thu, 14 Dec 2017 00:57:43: Cancer Type is: COAD \n",
      "INFO  @ Thu, 14 Dec 2017 00:57:43: Loading hyper and hypo iDMCs for: COAD \n",
      "INFO  @ Thu, 14 Dec 2017 00:57:43: Computating peak mode of iDMCs ... \n"
     ]
    },
    {
     "name": "stdout",
     "output_type": "stream",
     "text": [
      "TCGA-CA-6715-01A-21D-1837-05 0.85\n"
     ]
    },
    {
     "name": "stderr",
     "output_type": "stream",
     "text": [
      "INFO  @ Thu, 14 Dec 2017 00:58:04: Input filename is: /home/a0121533/InfiniumPurify/purity_data/red_methy_TCGA-CA-6716-01A-11D-1837-05.txt \n",
      "INFO  @ Thu, 14 Dec 2017 00:58:04: Cancer Type is: COAD \n",
      "INFO  @ Thu, 14 Dec 2017 00:58:04: Loading hyper and hypo iDMCs for: COAD \n",
      "INFO  @ Thu, 14 Dec 2017 00:58:04: Computating peak mode of iDMCs ... \n"
     ]
    },
    {
     "name": "stdout",
     "output_type": "stream",
     "text": [
      "TCGA-CA-6716-01A-11D-1837-05 0.84\n"
     ]
    },
    {
     "name": "stderr",
     "output_type": "stream",
     "text": [
      "INFO  @ Thu, 14 Dec 2017 00:58:25: Input filename is: /home/a0121533/InfiniumPurify/purity_data/red_methy_TCGA-CA-6717-01A-11D-1837-05.txt \n",
      "INFO  @ Thu, 14 Dec 2017 00:58:25: Cancer Type is: COAD \n",
      "INFO  @ Thu, 14 Dec 2017 00:58:25: Loading hyper and hypo iDMCs for: COAD \n",
      "INFO  @ Thu, 14 Dec 2017 00:58:25: Computating peak mode of iDMCs ... \n"
     ]
    },
    {
     "name": "stdout",
     "output_type": "stream",
     "text": [
      "TCGA-CA-6717-01A-11D-1837-05 0.5\n"
     ]
    },
    {
     "name": "stderr",
     "output_type": "stream",
     "text": [
      "INFO  @ Thu, 14 Dec 2017 00:58:47: Input filename is: /home/a0121533/InfiniumPurify/purity_data/red_methy_TCGA-CA-6718-01A-11D-1837-05.txt \n",
      "INFO  @ Thu, 14 Dec 2017 00:58:47: Cancer Type is: COAD \n",
      "INFO  @ Thu, 14 Dec 2017 00:58:47: Loading hyper and hypo iDMCs for: COAD \n",
      "INFO  @ Thu, 14 Dec 2017 00:58:47: Computating peak mode of iDMCs ... \n"
     ]
    },
    {
     "name": "stdout",
     "output_type": "stream",
     "text": [
      "TCGA-CA-6718-01A-11D-1837-05 0.5700000000000001\n"
     ]
    },
    {
     "name": "stderr",
     "output_type": "stream",
     "text": [
      "INFO  @ Thu, 14 Dec 2017 00:59:08: Input filename is: /home/a0121533/InfiniumPurify/purity_data/red_methy_TCGA-CA-6719-01A-11D-1837-05.txt \n",
      "INFO  @ Thu, 14 Dec 2017 00:59:08: Cancer Type is: COAD \n",
      "INFO  @ Thu, 14 Dec 2017 00:59:08: Loading hyper and hypo iDMCs for: COAD \n",
      "INFO  @ Thu, 14 Dec 2017 00:59:08: Computating peak mode of iDMCs ... \n"
     ]
    },
    {
     "name": "stdout",
     "output_type": "stream",
     "text": [
      "TCGA-CA-6719-01A-11D-1837-05 0.72\n"
     ]
    },
    {
     "name": "stderr",
     "output_type": "stream",
     "text": [
      "INFO  @ Thu, 14 Dec 2017 00:59:29: Input filename is: /home/a0121533/InfiniumPurify/purity_data/red_methy_TCGA-CK-4947-01B-11D-1651-05.txt \n",
      "INFO  @ Thu, 14 Dec 2017 00:59:29: Cancer Type is: COAD \n",
      "INFO  @ Thu, 14 Dec 2017 00:59:29: Loading hyper and hypo iDMCs for: COAD \n",
      "INFO  @ Thu, 14 Dec 2017 00:59:29: Computating peak mode of iDMCs ... \n"
     ]
    },
    {
     "name": "stdout",
     "output_type": "stream",
     "text": [
      "TCGA-CK-4947-01B-11D-1651-05 0.62\n"
     ]
    },
    {
     "name": "stderr",
     "output_type": "stream",
     "text": [
      "INFO  @ Thu, 14 Dec 2017 00:59:50: Input filename is: /home/a0121533/InfiniumPurify/purity_data/red_methy_TCGA-CK-4948-01B-11D-1651-05.txt \n",
      "INFO  @ Thu, 14 Dec 2017 00:59:50: Cancer Type is: COAD \n",
      "INFO  @ Thu, 14 Dec 2017 00:59:50: Loading hyper and hypo iDMCs for: COAD \n",
      "INFO  @ Thu, 14 Dec 2017 00:59:50: Computating peak mode of iDMCs ... \n"
     ]
    },
    {
     "name": "stdout",
     "output_type": "stream",
     "text": [
      "TCGA-CK-4948-01B-11D-1651-05 0.62\n"
     ]
    },
    {
     "name": "stderr",
     "output_type": "stream",
     "text": [
      "INFO  @ Thu, 14 Dec 2017 01:00:11: Input filename is: /home/a0121533/InfiniumPurify/purity_data/red_methy_TCGA-CK-4950-01A-01D-1721-05.txt \n",
      "INFO  @ Thu, 14 Dec 2017 01:00:11: Cancer Type is: COAD \n",
      "INFO  @ Thu, 14 Dec 2017 01:00:11: Loading hyper and hypo iDMCs for: COAD \n",
      "INFO  @ Thu, 14 Dec 2017 01:00:11: Computating peak mode of iDMCs ... \n"
     ]
    },
    {
     "name": "stdout",
     "output_type": "stream",
     "text": [
      "TCGA-CK-4950-01A-01D-1721-05 0.53\n"
     ]
    },
    {
     "name": "stderr",
     "output_type": "stream",
     "text": [
      "INFO  @ Thu, 14 Dec 2017 01:00:33: Input filename is: /home/a0121533/InfiniumPurify/purity_data/red_methy_TCGA-CK-4951-01A-01D-1407-05.txt \n",
      "INFO  @ Thu, 14 Dec 2017 01:00:33: Cancer Type is: COAD \n",
      "INFO  @ Thu, 14 Dec 2017 01:00:33: Loading hyper and hypo iDMCs for: COAD \n",
      "INFO  @ Thu, 14 Dec 2017 01:00:33: Computating peak mode of iDMCs ... \n"
     ]
    },
    {
     "name": "stdout",
     "output_type": "stream",
     "text": [
      "TCGA-CK-4951-01A-01D-1407-05 0.61\n"
     ]
    },
    {
     "name": "stderr",
     "output_type": "stream",
     "text": [
      "INFO  @ Thu, 14 Dec 2017 01:00:54: Input filename is: /home/a0121533/InfiniumPurify/purity_data/red_methy_TCGA-CK-4952-01A-01D-1721-05.txt \n",
      "INFO  @ Thu, 14 Dec 2017 01:00:54: Cancer Type is: COAD \n",
      "INFO  @ Thu, 14 Dec 2017 01:00:54: Loading hyper and hypo iDMCs for: COAD \n",
      "INFO  @ Thu, 14 Dec 2017 01:00:54: Computating peak mode of iDMCs ... \n"
     ]
    },
    {
     "name": "stdout",
     "output_type": "stream",
     "text": [
      "TCGA-CK-4952-01A-01D-1721-05 0.8300000000000001\n"
     ]
    },
    {
     "name": "stderr",
     "output_type": "stream",
     "text": [
      "INFO  @ Thu, 14 Dec 2017 01:01:15: Input filename is: /home/a0121533/InfiniumPurify/purity_data/red_methy_TCGA-CK-5912-01A-11D-1651-05.txt \n",
      "INFO  @ Thu, 14 Dec 2017 01:01:15: Cancer Type is: COAD \n",
      "INFO  @ Thu, 14 Dec 2017 01:01:15: Loading hyper and hypo iDMCs for: COAD \n",
      "INFO  @ Thu, 14 Dec 2017 01:01:15: Computating peak mode of iDMCs ... \n"
     ]
    },
    {
     "name": "stdout",
     "output_type": "stream",
     "text": [
      "TCGA-CK-5912-01A-11D-1651-05 0.86\n"
     ]
    },
    {
     "name": "stderr",
     "output_type": "stream",
     "text": [
      "INFO  @ Thu, 14 Dec 2017 01:01:36: Input filename is: /home/a0121533/InfiniumPurify/purity_data/red_methy_TCGA-CK-5913-01A-11D-1651-05.txt \n",
      "INFO  @ Thu, 14 Dec 2017 01:01:36: Cancer Type is: COAD \n",
      "INFO  @ Thu, 14 Dec 2017 01:01:36: Loading hyper and hypo iDMCs for: COAD \n",
      "INFO  @ Thu, 14 Dec 2017 01:01:36: Computating peak mode of iDMCs ... \n"
     ]
    },
    {
     "name": "stdout",
     "output_type": "stream",
     "text": [
      "TCGA-CK-5913-01A-11D-1651-05 0.7000000000000001\n"
     ]
    },
    {
     "name": "stderr",
     "output_type": "stream",
     "text": [
      "INFO  @ Thu, 14 Dec 2017 01:01:58: Input filename is: /home/a0121533/InfiniumPurify/purity_data/red_methy_TCGA-CK-5914-01A-11D-1651-05.txt \n",
      "INFO  @ Thu, 14 Dec 2017 01:01:58: Cancer Type is: COAD \n",
      "INFO  @ Thu, 14 Dec 2017 01:01:58: Loading hyper and hypo iDMCs for: COAD \n",
      "INFO  @ Thu, 14 Dec 2017 01:01:58: Computating peak mode of iDMCs ... \n"
     ]
    },
    {
     "name": "stdout",
     "output_type": "stream",
     "text": [
      "TCGA-CK-5914-01A-11D-1651-05 0.8\n"
     ]
    },
    {
     "name": "stderr",
     "output_type": "stream",
     "text": [
      "INFO  @ Thu, 14 Dec 2017 01:02:19: Input filename is: /home/a0121533/InfiniumPurify/purity_data/red_methy_TCGA-CK-5915-01A-11D-1651-05.txt \n",
      "INFO  @ Thu, 14 Dec 2017 01:02:19: Cancer Type is: COAD \n",
      "INFO  @ Thu, 14 Dec 2017 01:02:19: Loading hyper and hypo iDMCs for: COAD \n",
      "INFO  @ Thu, 14 Dec 2017 01:02:19: Computating peak mode of iDMCs ... \n"
     ]
    },
    {
     "name": "stdout",
     "output_type": "stream",
     "text": [
      "TCGA-CK-5915-01A-11D-1651-05 0.89\n"
     ]
    },
    {
     "name": "stderr",
     "output_type": "stream",
     "text": [
      "INFO  @ Thu, 14 Dec 2017 01:02:40: Input filename is: /home/a0121533/InfiniumPurify/purity_data/red_methy_TCGA-CK-5916-01A-11D-1651-05.txt \n",
      "INFO  @ Thu, 14 Dec 2017 01:02:40: Cancer Type is: COAD \n",
      "INFO  @ Thu, 14 Dec 2017 01:02:40: Loading hyper and hypo iDMCs for: COAD \n",
      "INFO  @ Thu, 14 Dec 2017 01:02:40: Computating peak mode of iDMCs ... \n"
     ]
    },
    {
     "name": "stdout",
     "output_type": "stream",
     "text": [
      "TCGA-CK-5916-01A-11D-1651-05 0.6\n"
     ]
    },
    {
     "name": "stderr",
     "output_type": "stream",
     "text": [
      "INFO  @ Thu, 14 Dec 2017 01:03:01: Input filename is: /home/a0121533/InfiniumPurify/purity_data/red_methy_TCGA-CK-6746-01A-11D-1837-05.txt \n",
      "INFO  @ Thu, 14 Dec 2017 01:03:01: Cancer Type is: COAD \n",
      "INFO  @ Thu, 14 Dec 2017 01:03:01: Loading hyper and hypo iDMCs for: COAD \n",
      "INFO  @ Thu, 14 Dec 2017 01:03:01: Computating peak mode of iDMCs ... \n"
     ]
    },
    {
     "name": "stdout",
     "output_type": "stream",
     "text": [
      "TCGA-CK-6746-01A-11D-1837-05 0.8300000000000001\n"
     ]
    },
    {
     "name": "stderr",
     "output_type": "stream",
     "text": [
      "INFO  @ Thu, 14 Dec 2017 01:03:23: Input filename is: /home/a0121533/InfiniumPurify/purity_data/red_methy_TCGA-CK-6747-01A-11D-1837-05.txt \n",
      "INFO  @ Thu, 14 Dec 2017 01:03:23: Cancer Type is: COAD \n",
      "INFO  @ Thu, 14 Dec 2017 01:03:23: Loading hyper and hypo iDMCs for: COAD \n",
      "INFO  @ Thu, 14 Dec 2017 01:03:23: Computating peak mode of iDMCs ... \n"
     ]
    },
    {
     "name": "stdout",
     "output_type": "stream",
     "text": [
      "TCGA-CK-6747-01A-11D-1837-05 0.78\n"
     ]
    },
    {
     "name": "stderr",
     "output_type": "stream",
     "text": [
      "INFO  @ Thu, 14 Dec 2017 01:03:44: Input filename is: /home/a0121533/InfiniumPurify/purity_data/red_methy_TCGA-CK-6748-01A-11D-1837-05.txt \n",
      "INFO  @ Thu, 14 Dec 2017 01:03:44: Cancer Type is: COAD \n",
      "INFO  @ Thu, 14 Dec 2017 01:03:44: Loading hyper and hypo iDMCs for: COAD \n",
      "INFO  @ Thu, 14 Dec 2017 01:03:44: Computating peak mode of iDMCs ... \n"
     ]
    },
    {
     "name": "stdout",
     "output_type": "stream",
     "text": [
      "TCGA-CK-6748-01A-11D-1837-05 0.76\n"
     ]
    },
    {
     "name": "stderr",
     "output_type": "stream",
     "text": [
      "INFO  @ Thu, 14 Dec 2017 01:04:05: Input filename is: /home/a0121533/InfiniumPurify/purity_data/red_methy_TCGA-CK-6751-01A-11D-1837-05.txt \n",
      "INFO  @ Thu, 14 Dec 2017 01:04:05: Cancer Type is: COAD \n",
      "INFO  @ Thu, 14 Dec 2017 01:04:05: Loading hyper and hypo iDMCs for: COAD \n",
      "INFO  @ Thu, 14 Dec 2017 01:04:05: Computating peak mode of iDMCs ... \n"
     ]
    },
    {
     "name": "stdout",
     "output_type": "stream",
     "text": [
      "TCGA-CK-6751-01A-11D-1837-05 0.66\n"
     ]
    },
    {
     "name": "stderr",
     "output_type": "stream",
     "text": [
      "INFO  @ Thu, 14 Dec 2017 01:04:26: Input filename is: /home/a0121533/InfiniumPurify/purity_data/red_methy_TCGA-CM-4743-01A-01D-1721-05.txt \n",
      "INFO  @ Thu, 14 Dec 2017 01:04:26: Cancer Type is: COAD \n",
      "INFO  @ Thu, 14 Dec 2017 01:04:26: Loading hyper and hypo iDMCs for: COAD \n",
      "INFO  @ Thu, 14 Dec 2017 01:04:26: Computating peak mode of iDMCs ... \n"
     ]
    },
    {
     "name": "stdout",
     "output_type": "stream",
     "text": [
      "TCGA-CM-4743-01A-01D-1721-05 0.45\n"
     ]
    },
    {
     "name": "stderr",
     "output_type": "stream",
     "text": [
      "INFO  @ Thu, 14 Dec 2017 01:04:48: Input filename is: /home/a0121533/InfiniumPurify/purity_data/red_methy_TCGA-CM-4744-01A-01D-1407-05.txt \n",
      "INFO  @ Thu, 14 Dec 2017 01:04:48: Cancer Type is: COAD \n",
      "INFO  @ Thu, 14 Dec 2017 01:04:48: Loading hyper and hypo iDMCs for: COAD \n",
      "INFO  @ Thu, 14 Dec 2017 01:04:48: Computating peak mode of iDMCs ... \n"
     ]
    },
    {
     "name": "stdout",
     "output_type": "stream",
     "text": [
      "TCGA-CM-4744-01A-01D-1407-05 0.72\n"
     ]
    },
    {
     "name": "stderr",
     "output_type": "stream",
     "text": [
      "INFO  @ Thu, 14 Dec 2017 01:05:09: Input filename is: /home/a0121533/InfiniumPurify/purity_data/red_methy_TCGA-CM-4747-01A-01D-1407-05.txt \n",
      "INFO  @ Thu, 14 Dec 2017 01:05:09: Cancer Type is: COAD \n",
      "INFO  @ Thu, 14 Dec 2017 01:05:09: Loading hyper and hypo iDMCs for: COAD \n",
      "INFO  @ Thu, 14 Dec 2017 01:05:09: Computating peak mode of iDMCs ... \n"
     ]
    },
    {
     "name": "stdout",
     "output_type": "stream",
     "text": [
      "TCGA-CM-4747-01A-01D-1407-05 0.68\n"
     ]
    },
    {
     "name": "stderr",
     "output_type": "stream",
     "text": [
      "INFO  @ Thu, 14 Dec 2017 01:05:30: Input filename is: /home/a0121533/InfiniumPurify/purity_data/red_methy_TCGA-CM-4751-01A-02D-1837-05.txt \n",
      "INFO  @ Thu, 14 Dec 2017 01:05:30: Cancer Type is: COAD \n",
      "INFO  @ Thu, 14 Dec 2017 01:05:30: Loading hyper and hypo iDMCs for: COAD \n",
      "INFO  @ Thu, 14 Dec 2017 01:05:30: Computating peak mode of iDMCs ... \n"
     ]
    },
    {
     "name": "stdout",
     "output_type": "stream",
     "text": [
      "TCGA-CM-4751-01A-02D-1837-05 0.58\n"
     ]
    },
    {
     "name": "stderr",
     "output_type": "stream",
     "text": [
      "INFO  @ Thu, 14 Dec 2017 01:05:51: Input filename is: /home/a0121533/InfiniumPurify/purity_data/red_methy_TCGA-CM-5344-01A-21D-1721-05.txt \n",
      "INFO  @ Thu, 14 Dec 2017 01:05:51: Cancer Type is: COAD \n",
      "INFO  @ Thu, 14 Dec 2017 01:05:51: Loading hyper and hypo iDMCs for: COAD \n",
      "INFO  @ Thu, 14 Dec 2017 01:05:51: Computating peak mode of iDMCs ... \n"
     ]
    },
    {
     "name": "stdout",
     "output_type": "stream",
     "text": [
      "TCGA-CM-5344-01A-21D-1721-05 0.63\n"
     ]
    },
    {
     "name": "stderr",
     "output_type": "stream",
     "text": [
      "INFO  @ Thu, 14 Dec 2017 01:06:13: Input filename is: /home/a0121533/InfiniumPurify/purity_data/red_methy_TCGA-CM-5348-01A-21D-1721-05.txt \n",
      "INFO  @ Thu, 14 Dec 2017 01:06:13: Cancer Type is: COAD \n",
      "INFO  @ Thu, 14 Dec 2017 01:06:13: Loading hyper and hypo iDMCs for: COAD \n",
      "INFO  @ Thu, 14 Dec 2017 01:06:13: Computating peak mode of iDMCs ... \n"
     ]
    },
    {
     "name": "stdout",
     "output_type": "stream",
     "text": [
      "TCGA-CM-5348-01A-21D-1721-05 0.62\n"
     ]
    },
    {
     "name": "stderr",
     "output_type": "stream",
     "text": [
      "INFO  @ Thu, 14 Dec 2017 01:06:34: Input filename is: /home/a0121533/InfiniumPurify/purity_data/red_methy_TCGA-CM-5349-01A-21D-1721-05.txt \n",
      "INFO  @ Thu, 14 Dec 2017 01:06:34: Cancer Type is: COAD \n",
      "INFO  @ Thu, 14 Dec 2017 01:06:34: Loading hyper and hypo iDMCs for: COAD \n",
      "INFO  @ Thu, 14 Dec 2017 01:06:34: Computating peak mode of iDMCs ... \n"
     ]
    },
    {
     "name": "stdout",
     "output_type": "stream",
     "text": [
      "TCGA-CM-5349-01A-21D-1721-05 0.52\n"
     ]
    },
    {
     "name": "stderr",
     "output_type": "stream",
     "text": [
      "INFO  @ Thu, 14 Dec 2017 01:06:55: Input filename is: /home/a0121533/InfiniumPurify/purity_data/red_methy_TCGA-CM-5860-01A-01D-1651-05.txt \n",
      "INFO  @ Thu, 14 Dec 2017 01:06:55: Cancer Type is: COAD \n",
      "INFO  @ Thu, 14 Dec 2017 01:06:55: Loading hyper and hypo iDMCs for: COAD \n",
      "INFO  @ Thu, 14 Dec 2017 01:06:55: Computating peak mode of iDMCs ... \n"
     ]
    },
    {
     "name": "stdout",
     "output_type": "stream",
     "text": [
      "TCGA-CM-5860-01A-01D-1651-05 0.67\n"
     ]
    },
    {
     "name": "stderr",
     "output_type": "stream",
     "text": [
      "INFO  @ Thu, 14 Dec 2017 01:07:16: Input filename is: /home/a0121533/InfiniumPurify/purity_data/red_methy_TCGA-CM-5861-01A-01D-1651-05.txt \n",
      "INFO  @ Thu, 14 Dec 2017 01:07:16: Cancer Type is: COAD \n",
      "INFO  @ Thu, 14 Dec 2017 01:07:16: Loading hyper and hypo iDMCs for: COAD \n",
      "INFO  @ Thu, 14 Dec 2017 01:07:16: Computating peak mode of iDMCs ... \n"
     ]
    },
    {
     "name": "stdout",
     "output_type": "stream",
     "text": [
      "TCGA-CM-5861-01A-01D-1651-05 0.6900000000000001\n"
     ]
    },
    {
     "name": "stderr",
     "output_type": "stream",
     "text": [
      "INFO  @ Thu, 14 Dec 2017 01:07:37: Input filename is: /home/a0121533/InfiniumPurify/purity_data/red_methy_TCGA-CM-5862-01A-01D-1651-05.txt \n",
      "INFO  @ Thu, 14 Dec 2017 01:07:37: Cancer Type is: COAD \n",
      "INFO  @ Thu, 14 Dec 2017 01:07:37: Loading hyper and hypo iDMCs for: COAD \n",
      "INFO  @ Thu, 14 Dec 2017 01:07:38: Computating peak mode of iDMCs ... \n"
     ]
    },
    {
     "name": "stdout",
     "output_type": "stream",
     "text": [
      "TCGA-CM-5862-01A-01D-1651-05 0.85\n"
     ]
    },
    {
     "name": "stderr",
     "output_type": "stream",
     "text": [
      "INFO  @ Thu, 14 Dec 2017 01:07:59: Input filename is: /home/a0121533/InfiniumPurify/purity_data/red_methy_TCGA-CM-5863-01A-21D-1837-05.txt \n",
      "INFO  @ Thu, 14 Dec 2017 01:07:59: Cancer Type is: COAD \n",
      "INFO  @ Thu, 14 Dec 2017 01:07:59: Loading hyper and hypo iDMCs for: COAD \n",
      "INFO  @ Thu, 14 Dec 2017 01:07:59: Computating peak mode of iDMCs ... \n"
     ]
    },
    {
     "name": "stdout",
     "output_type": "stream",
     "text": [
      "TCGA-CM-5863-01A-21D-1837-05 0.54\n"
     ]
    },
    {
     "name": "stderr",
     "output_type": "stream",
     "text": [
      "INFO  @ Thu, 14 Dec 2017 01:08:20: Input filename is: /home/a0121533/InfiniumPurify/purity_data/red_methy_TCGA-CM-5864-01A-01D-1651-05.txt \n",
      "INFO  @ Thu, 14 Dec 2017 01:08:20: Cancer Type is: COAD \n",
      "INFO  @ Thu, 14 Dec 2017 01:08:20: Loading hyper and hypo iDMCs for: COAD \n",
      "INFO  @ Thu, 14 Dec 2017 01:08:20: Computating peak mode of iDMCs ... \n"
     ]
    },
    {
     "name": "stdout",
     "output_type": "stream",
     "text": [
      "TCGA-CM-5864-01A-01D-1651-05 0.84\n"
     ]
    },
    {
     "name": "stderr",
     "output_type": "stream",
     "text": [
      "INFO  @ Thu, 14 Dec 2017 01:08:41: Input filename is: /home/a0121533/InfiniumPurify/purity_data/red_methy_TCGA-CM-5868-01A-01D-1651-05.txt \n",
      "INFO  @ Thu, 14 Dec 2017 01:08:41: Cancer Type is: COAD \n",
      "INFO  @ Thu, 14 Dec 2017 01:08:41: Loading hyper and hypo iDMCs for: COAD \n",
      "INFO  @ Thu, 14 Dec 2017 01:08:41: Computating peak mode of iDMCs ... \n"
     ]
    },
    {
     "name": "stdout",
     "output_type": "stream",
     "text": [
      "TCGA-CM-5868-01A-01D-1651-05 0.67\n"
     ]
    },
    {
     "name": "stderr",
     "output_type": "stream",
     "text": [
      "INFO  @ Thu, 14 Dec 2017 01:09:02: Input filename is: /home/a0121533/InfiniumPurify/purity_data/red_methy_TCGA-CM-6161-01A-11D-1651-05.txt \n",
      "INFO  @ Thu, 14 Dec 2017 01:09:02: Cancer Type is: COAD \n",
      "INFO  @ Thu, 14 Dec 2017 01:09:02: Loading hyper and hypo iDMCs for: COAD \n",
      "INFO  @ Thu, 14 Dec 2017 01:09:02: Computating peak mode of iDMCs ... \n"
     ]
    },
    {
     "name": "stdout",
     "output_type": "stream",
     "text": [
      "TCGA-CM-6161-01A-11D-1651-05 0.71\n"
     ]
    },
    {
     "name": "stderr",
     "output_type": "stream",
     "text": [
      "INFO  @ Thu, 14 Dec 2017 01:09:24: Input filename is: /home/a0121533/InfiniumPurify/purity_data/red_methy_TCGA-CM-6162-01A-11D-1651-05.txt \n",
      "INFO  @ Thu, 14 Dec 2017 01:09:24: Cancer Type is: COAD \n",
      "INFO  @ Thu, 14 Dec 2017 01:09:24: Loading hyper and hypo iDMCs for: COAD \n",
      "INFO  @ Thu, 14 Dec 2017 01:09:24: Computating peak mode of iDMCs ... \n"
     ]
    },
    {
     "name": "stdout",
     "output_type": "stream",
     "text": [
      "TCGA-CM-6162-01A-11D-1651-05 0.53\n"
     ]
    },
    {
     "name": "stderr",
     "output_type": "stream",
     "text": [
      "INFO  @ Thu, 14 Dec 2017 01:09:45: Input filename is: /home/a0121533/InfiniumPurify/purity_data/red_methy_TCGA-CM-6163-01A-11D-1651-05.txt \n",
      "INFO  @ Thu, 14 Dec 2017 01:09:45: Cancer Type is: COAD \n",
      "INFO  @ Thu, 14 Dec 2017 01:09:45: Loading hyper and hypo iDMCs for: COAD \n",
      "INFO  @ Thu, 14 Dec 2017 01:09:45: Computating peak mode of iDMCs ... \n"
     ]
    },
    {
     "name": "stdout",
     "output_type": "stream",
     "text": [
      "TCGA-CM-6163-01A-11D-1651-05 0.6\n"
     ]
    },
    {
     "name": "stderr",
     "output_type": "stream",
     "text": [
      "INFO  @ Thu, 14 Dec 2017 01:10:06: Input filename is: /home/a0121533/InfiniumPurify/purity_data/red_methy_TCGA-CM-6164-01A-11D-1651-05.txt \n",
      "INFO  @ Thu, 14 Dec 2017 01:10:06: Cancer Type is: COAD \n",
      "INFO  @ Thu, 14 Dec 2017 01:10:06: Loading hyper and hypo iDMCs for: COAD \n",
      "INFO  @ Thu, 14 Dec 2017 01:10:06: Computating peak mode of iDMCs ... \n"
     ]
    },
    {
     "name": "stdout",
     "output_type": "stream",
     "text": [
      "TCGA-CM-6164-01A-11D-1651-05 0.58\n"
     ]
    },
    {
     "name": "stderr",
     "output_type": "stream",
     "text": [
      "INFO  @ Thu, 14 Dec 2017 01:10:27: Input filename is: /home/a0121533/InfiniumPurify/purity_data/red_methy_TCGA-CM-6165-01A-11D-1651-05.txt \n",
      "INFO  @ Thu, 14 Dec 2017 01:10:27: Cancer Type is: COAD \n",
      "INFO  @ Thu, 14 Dec 2017 01:10:27: Loading hyper and hypo iDMCs for: COAD \n",
      "INFO  @ Thu, 14 Dec 2017 01:10:27: Computating peak mode of iDMCs ... \n"
     ]
    },
    {
     "name": "stdout",
     "output_type": "stream",
     "text": [
      "TCGA-CM-6165-01A-11D-1651-05 0.72\n"
     ]
    },
    {
     "name": "stderr",
     "output_type": "stream",
     "text": [
      "INFO  @ Thu, 14 Dec 2017 01:10:49: Input filename is: /home/a0121533/InfiniumPurify/purity_data/red_methy_TCGA-CM-6166-01A-11D-1651-05.txt \n",
      "INFO  @ Thu, 14 Dec 2017 01:10:49: Cancer Type is: COAD \n",
      "INFO  @ Thu, 14 Dec 2017 01:10:49: Loading hyper and hypo iDMCs for: COAD \n",
      "INFO  @ Thu, 14 Dec 2017 01:10:49: Computating peak mode of iDMCs ... \n"
     ]
    },
    {
     "name": "stdout",
     "output_type": "stream",
     "text": [
      "TCGA-CM-6166-01A-11D-1651-05 0.72\n"
     ]
    },
    {
     "name": "stderr",
     "output_type": "stream",
     "text": [
      "INFO  @ Thu, 14 Dec 2017 01:11:10: Input filename is: /home/a0121533/InfiniumPurify/purity_data/red_methy_TCGA-CM-6167-01A-11D-1651-05.txt \n",
      "INFO  @ Thu, 14 Dec 2017 01:11:10: Cancer Type is: COAD \n",
      "INFO  @ Thu, 14 Dec 2017 01:11:10: Loading hyper and hypo iDMCs for: COAD \n",
      "INFO  @ Thu, 14 Dec 2017 01:11:10: Computating peak mode of iDMCs ... \n"
     ]
    },
    {
     "name": "stdout",
     "output_type": "stream",
     "text": [
      "TCGA-CM-6167-01A-11D-1651-05 0.45\n"
     ]
    },
    {
     "name": "stderr",
     "output_type": "stream",
     "text": [
      "INFO  @ Thu, 14 Dec 2017 01:11:31: Input filename is: /home/a0121533/InfiniumPurify/purity_data/red_methy_TCGA-CM-6168-01A-11D-1651-05.txt \n",
      "INFO  @ Thu, 14 Dec 2017 01:11:31: Cancer Type is: COAD \n",
      "INFO  @ Thu, 14 Dec 2017 01:11:31: Loading hyper and hypo iDMCs for: COAD \n",
      "INFO  @ Thu, 14 Dec 2017 01:11:31: Computating peak mode of iDMCs ... \n"
     ]
    },
    {
     "name": "stdout",
     "output_type": "stream",
     "text": [
      "TCGA-CM-6168-01A-11D-1651-05 0.49\n"
     ]
    },
    {
     "name": "stderr",
     "output_type": "stream",
     "text": [
      "INFO  @ Thu, 14 Dec 2017 01:11:52: Input filename is: /home/a0121533/InfiniumPurify/purity_data/red_methy_TCGA-CM-6169-01A-11D-1651-05.txt \n",
      "INFO  @ Thu, 14 Dec 2017 01:11:52: Cancer Type is: COAD \n",
      "INFO  @ Thu, 14 Dec 2017 01:11:52: Loading hyper and hypo iDMCs for: COAD \n",
      "INFO  @ Thu, 14 Dec 2017 01:11:52: Computating peak mode of iDMCs ... \n"
     ]
    },
    {
     "name": "stdout",
     "output_type": "stream",
     "text": [
      "TCGA-CM-6169-01A-11D-1651-05 0.7000000000000001\n"
     ]
    },
    {
     "name": "stderr",
     "output_type": "stream",
     "text": [
      "INFO  @ Thu, 14 Dec 2017 01:12:13: Input filename is: /home/a0121533/InfiniumPurify/purity_data/red_methy_TCGA-CM-6170-01A-11D-1651-05.txt \n",
      "INFO  @ Thu, 14 Dec 2017 01:12:13: Cancer Type is: COAD \n",
      "INFO  @ Thu, 14 Dec 2017 01:12:13: Loading hyper and hypo iDMCs for: COAD \n",
      "INFO  @ Thu, 14 Dec 2017 01:12:13: Computating peak mode of iDMCs ... \n"
     ]
    },
    {
     "name": "stdout",
     "output_type": "stream",
     "text": [
      "TCGA-CM-6170-01A-11D-1651-05 0.71\n"
     ]
    },
    {
     "name": "stderr",
     "output_type": "stream",
     "text": [
      "INFO  @ Thu, 14 Dec 2017 01:12:35: Input filename is: /home/a0121533/InfiniumPurify/purity_data/red_methy_TCGA-CM-6171-01A-11D-1651-05.txt \n",
      "INFO  @ Thu, 14 Dec 2017 01:12:35: Cancer Type is: COAD \n",
      "INFO  @ Thu, 14 Dec 2017 01:12:35: Loading hyper and hypo iDMCs for: COAD \n",
      "INFO  @ Thu, 14 Dec 2017 01:12:35: Computating peak mode of iDMCs ... \n"
     ]
    },
    {
     "name": "stdout",
     "output_type": "stream",
     "text": [
      "TCGA-CM-6171-01A-11D-1651-05 0.74\n"
     ]
    },
    {
     "name": "stderr",
     "output_type": "stream",
     "text": [
      "INFO  @ Thu, 14 Dec 2017 01:12:56: Input filename is: /home/a0121533/InfiniumPurify/purity_data/red_methy_TCGA-CM-6172-01A-11D-1651-05.txt \n",
      "INFO  @ Thu, 14 Dec 2017 01:12:56: Cancer Type is: COAD \n",
      "INFO  @ Thu, 14 Dec 2017 01:12:56: Loading hyper and hypo iDMCs for: COAD \n",
      "INFO  @ Thu, 14 Dec 2017 01:12:56: Computating peak mode of iDMCs ... \n"
     ]
    },
    {
     "name": "stdout",
     "output_type": "stream",
     "text": [
      "TCGA-CM-6172-01A-11D-1651-05 0.7000000000000001\n"
     ]
    },
    {
     "name": "stderr",
     "output_type": "stream",
     "text": [
      "INFO  @ Thu, 14 Dec 2017 01:13:17: Input filename is: /home/a0121533/InfiniumPurify/purity_data/red_methy_TCGA-CM-6674-01A-11D-1837-05.txt \n",
      "INFO  @ Thu, 14 Dec 2017 01:13:17: Cancer Type is: COAD \n",
      "INFO  @ Thu, 14 Dec 2017 01:13:17: Loading hyper and hypo iDMCs for: COAD \n",
      "INFO  @ Thu, 14 Dec 2017 01:13:17: Computating peak mode of iDMCs ... \n"
     ]
    },
    {
     "name": "stdout",
     "output_type": "stream",
     "text": [
      "TCGA-CM-6674-01A-11D-1837-05 0.53\n"
     ]
    },
    {
     "name": "stderr",
     "output_type": "stream",
     "text": [
      "INFO  @ Thu, 14 Dec 2017 01:13:38: Input filename is: /home/a0121533/InfiniumPurify/purity_data/red_methy_TCGA-CM-6675-01A-11D-1837-05.txt \n",
      "INFO  @ Thu, 14 Dec 2017 01:13:38: Cancer Type is: COAD \n",
      "INFO  @ Thu, 14 Dec 2017 01:13:38: Loading hyper and hypo iDMCs for: COAD \n",
      "INFO  @ Thu, 14 Dec 2017 01:13:38: Computating peak mode of iDMCs ... \n"
     ]
    },
    {
     "name": "stdout",
     "output_type": "stream",
     "text": [
      "TCGA-CM-6675-01A-11D-1837-05 0.84\n"
     ]
    },
    {
     "name": "stderr",
     "output_type": "stream",
     "text": [
      "INFO  @ Thu, 14 Dec 2017 01:13:59: Input filename is: /home/a0121533/InfiniumPurify/purity_data/red_methy_TCGA-CM-6676-01A-11D-1837-05.txt \n",
      "INFO  @ Thu, 14 Dec 2017 01:13:59: Cancer Type is: COAD \n",
      "INFO  @ Thu, 14 Dec 2017 01:13:59: Loading hyper and hypo iDMCs for: COAD \n",
      "INFO  @ Thu, 14 Dec 2017 01:13:59: Computating peak mode of iDMCs ... \n"
     ]
    },
    {
     "name": "stdout",
     "output_type": "stream",
     "text": [
      "TCGA-CM-6676-01A-11D-1837-05 0.61\n"
     ]
    },
    {
     "name": "stderr",
     "output_type": "stream",
     "text": [
      "INFO  @ Thu, 14 Dec 2017 01:14:21: Input filename is: /home/a0121533/InfiniumPurify/purity_data/red_methy_TCGA-CM-6677-01A-11D-1837-05.txt \n",
      "INFO  @ Thu, 14 Dec 2017 01:14:21: Cancer Type is: COAD \n",
      "INFO  @ Thu, 14 Dec 2017 01:14:21: Loading hyper and hypo iDMCs for: COAD \n",
      "INFO  @ Thu, 14 Dec 2017 01:14:21: Computating peak mode of iDMCs ... \n"
     ]
    },
    {
     "name": "stdout",
     "output_type": "stream",
     "text": [
      "TCGA-CM-6677-01A-11D-1837-05 0.67\n"
     ]
    },
    {
     "name": "stderr",
     "output_type": "stream",
     "text": [
      "INFO  @ Thu, 14 Dec 2017 01:14:42: Input filename is: /home/a0121533/InfiniumPurify/purity_data/red_methy_TCGA-CM-6678-01A-11D-1837-05.txt \n",
      "INFO  @ Thu, 14 Dec 2017 01:14:42: Cancer Type is: COAD \n",
      "INFO  @ Thu, 14 Dec 2017 01:14:42: Loading hyper and hypo iDMCs for: COAD \n",
      "INFO  @ Thu, 14 Dec 2017 01:14:42: Computating peak mode of iDMCs ... \n"
     ]
    },
    {
     "name": "stdout",
     "output_type": "stream",
     "text": [
      "TCGA-CM-6678-01A-11D-1837-05 0.63\n"
     ]
    },
    {
     "name": "stderr",
     "output_type": "stream",
     "text": [
      "INFO  @ Thu, 14 Dec 2017 01:15:03: Input filename is: /home/a0121533/InfiniumPurify/purity_data/red_methy_TCGA-CM-6679-01A-11D-1837-05.txt \n",
      "INFO  @ Thu, 14 Dec 2017 01:15:03: Cancer Type is: COAD \n",
      "INFO  @ Thu, 14 Dec 2017 01:15:03: Loading hyper and hypo iDMCs for: COAD \n",
      "INFO  @ Thu, 14 Dec 2017 01:15:03: Computating peak mode of iDMCs ... \n"
     ]
    },
    {
     "name": "stdout",
     "output_type": "stream",
     "text": [
      "TCGA-CM-6679-01A-11D-1837-05 0.63\n"
     ]
    },
    {
     "name": "stderr",
     "output_type": "stream",
     "text": [
      "INFO  @ Thu, 14 Dec 2017 01:15:24: Input filename is: /home/a0121533/InfiniumPurify/purity_data/red_methy_TCGA-CM-6680-01A-11D-1837-05.txt \n",
      "INFO  @ Thu, 14 Dec 2017 01:15:24: Cancer Type is: COAD \n",
      "INFO  @ Thu, 14 Dec 2017 01:15:24: Loading hyper and hypo iDMCs for: COAD \n",
      "INFO  @ Thu, 14 Dec 2017 01:15:24: Computating peak mode of iDMCs ... \n"
     ]
    },
    {
     "name": "stdout",
     "output_type": "stream",
     "text": [
      "TCGA-CM-6680-01A-11D-1837-05 0.71\n"
     ]
    },
    {
     "name": "stderr",
     "output_type": "stream",
     "text": [
      "INFO  @ Thu, 14 Dec 2017 01:15:45: Input filename is: /home/a0121533/InfiniumPurify/purity_data/red_methy_TCGA-D5-5537-01A-21D-1926-05.txt \n",
      "INFO  @ Thu, 14 Dec 2017 01:15:45: Cancer Type is: COAD \n",
      "INFO  @ Thu, 14 Dec 2017 01:15:45: Loading hyper and hypo iDMCs for: COAD \n",
      "INFO  @ Thu, 14 Dec 2017 01:15:45: Computating peak mode of iDMCs ... \n"
     ]
    },
    {
     "name": "stdout",
     "output_type": "stream",
     "text": [
      "TCGA-D5-5537-01A-21D-1926-05 0.76\n"
     ]
    },
    {
     "name": "stderr",
     "output_type": "stream",
     "text": [
      "INFO  @ Thu, 14 Dec 2017 01:16:07: Input filename is: /home/a0121533/InfiniumPurify/purity_data/red_methy_TCGA-D5-5538-01A-01D-1651-05.txt \n",
      "INFO  @ Thu, 14 Dec 2017 01:16:07: Cancer Type is: COAD \n",
      "INFO  @ Thu, 14 Dec 2017 01:16:07: Loading hyper and hypo iDMCs for: COAD \n",
      "INFO  @ Thu, 14 Dec 2017 01:16:07: Computating peak mode of iDMCs ... \n"
     ]
    },
    {
     "name": "stdout",
     "output_type": "stream",
     "text": [
      "TCGA-D5-5538-01A-01D-1651-05 0.68\n"
     ]
    },
    {
     "name": "stderr",
     "output_type": "stream",
     "text": [
      "INFO  @ Thu, 14 Dec 2017 01:16:28: Input filename is: /home/a0121533/InfiniumPurify/purity_data/red_methy_TCGA-D5-5539-01A-01D-1651-05.txt \n",
      "INFO  @ Thu, 14 Dec 2017 01:16:28: Cancer Type is: COAD \n",
      "INFO  @ Thu, 14 Dec 2017 01:16:28: Loading hyper and hypo iDMCs for: COAD \n",
      "INFO  @ Thu, 14 Dec 2017 01:16:28: Computating peak mode of iDMCs ... \n"
     ]
    },
    {
     "name": "stdout",
     "output_type": "stream",
     "text": [
      "TCGA-D5-5539-01A-01D-1651-05 0.68\n"
     ]
    },
    {
     "name": "stderr",
     "output_type": "stream",
     "text": [
      "INFO  @ Thu, 14 Dec 2017 01:16:49: Input filename is: /home/a0121533/InfiniumPurify/purity_data/red_methy_TCGA-D5-5540-01A-01D-1651-05.txt \n",
      "INFO  @ Thu, 14 Dec 2017 01:16:49: Cancer Type is: COAD \n",
      "INFO  @ Thu, 14 Dec 2017 01:16:49: Loading hyper and hypo iDMCs for: COAD \n",
      "INFO  @ Thu, 14 Dec 2017 01:16:49: Computating peak mode of iDMCs ... \n"
     ]
    },
    {
     "name": "stdout",
     "output_type": "stream",
     "text": [
      "TCGA-D5-5540-01A-01D-1651-05 0.8200000000000001\n"
     ]
    },
    {
     "name": "stderr",
     "output_type": "stream",
     "text": [
      "INFO  @ Thu, 14 Dec 2017 01:17:10: Input filename is: /home/a0121533/InfiniumPurify/purity_data/red_methy_TCGA-D5-5541-01A-01D-1651-05.txt \n",
      "INFO  @ Thu, 14 Dec 2017 01:17:10: Cancer Type is: COAD \n",
      "INFO  @ Thu, 14 Dec 2017 01:17:10: Loading hyper and hypo iDMCs for: COAD \n",
      "INFO  @ Thu, 14 Dec 2017 01:17:10: Computating peak mode of iDMCs ... \n"
     ]
    },
    {
     "name": "stdout",
     "output_type": "stream",
     "text": [
      "TCGA-D5-5541-01A-01D-1651-05 0.71\n"
     ]
    },
    {
     "name": "stderr",
     "output_type": "stream",
     "text": [
      "INFO  @ Thu, 14 Dec 2017 01:17:32: Input filename is: /home/a0121533/InfiniumPurify/purity_data/red_methy_TCGA-D5-6529-01A-11D-1772-05.txt \n",
      "INFO  @ Thu, 14 Dec 2017 01:17:32: Cancer Type is: COAD \n",
      "INFO  @ Thu, 14 Dec 2017 01:17:32: Loading hyper and hypo iDMCs for: COAD \n",
      "INFO  @ Thu, 14 Dec 2017 01:17:32: Computating peak mode of iDMCs ... \n"
     ]
    },
    {
     "name": "stdout",
     "output_type": "stream",
     "text": [
      "TCGA-D5-6529-01A-11D-1772-05 0.56\n"
     ]
    },
    {
     "name": "stderr",
     "output_type": "stream",
     "text": [
      "INFO  @ Thu, 14 Dec 2017 01:17:53: Input filename is: /home/a0121533/InfiniumPurify/purity_data/red_methy_TCGA-D5-6530-01A-11D-1721-05.txt \n",
      "INFO  @ Thu, 14 Dec 2017 01:17:53: Cancer Type is: COAD \n",
      "INFO  @ Thu, 14 Dec 2017 01:17:53: Loading hyper and hypo iDMCs for: COAD \n",
      "INFO  @ Thu, 14 Dec 2017 01:17:53: Computating peak mode of iDMCs ... \n"
     ]
    },
    {
     "name": "stdout",
     "output_type": "stream",
     "text": [
      "TCGA-D5-6530-01A-11D-1721-05 0.66\n"
     ]
    },
    {
     "name": "stderr",
     "output_type": "stream",
     "text": [
      "INFO  @ Thu, 14 Dec 2017 01:18:14: Input filename is: /home/a0121533/InfiniumPurify/purity_data/red_methy_TCGA-D5-6531-01A-11D-1721-05.txt \n",
      "INFO  @ Thu, 14 Dec 2017 01:18:14: Cancer Type is: COAD \n",
      "INFO  @ Thu, 14 Dec 2017 01:18:14: Loading hyper and hypo iDMCs for: COAD \n",
      "INFO  @ Thu, 14 Dec 2017 01:18:14: Computating peak mode of iDMCs ... \n"
     ]
    },
    {
     "name": "stdout",
     "output_type": "stream",
     "text": [
      "TCGA-D5-6531-01A-11D-1721-05 0.78\n"
     ]
    },
    {
     "name": "stderr",
     "output_type": "stream",
     "text": [
      "INFO  @ Thu, 14 Dec 2017 01:18:35: Input filename is: /home/a0121533/InfiniumPurify/purity_data/red_methy_TCGA-D5-6532-01A-11D-1721-05.txt \n",
      "INFO  @ Thu, 14 Dec 2017 01:18:35: Cancer Type is: COAD \n",
      "INFO  @ Thu, 14 Dec 2017 01:18:35: Loading hyper and hypo iDMCs for: COAD \n",
      "INFO  @ Thu, 14 Dec 2017 01:18:35: Computating peak mode of iDMCs ... \n"
     ]
    },
    {
     "name": "stdout",
     "output_type": "stream",
     "text": [
      "TCGA-D5-6532-01A-11D-1721-05 0.81\n"
     ]
    },
    {
     "name": "stderr",
     "output_type": "stream",
     "text": [
      "INFO  @ Thu, 14 Dec 2017 01:18:56: Input filename is: /home/a0121533/InfiniumPurify/purity_data/red_methy_TCGA-D5-6533-01A-11D-1721-05.txt \n",
      "INFO  @ Thu, 14 Dec 2017 01:18:56: Cancer Type is: COAD \n",
      "INFO  @ Thu, 14 Dec 2017 01:18:56: Loading hyper and hypo iDMCs for: COAD \n",
      "INFO  @ Thu, 14 Dec 2017 01:18:56: Computating peak mode of iDMCs ... \n"
     ]
    },
    {
     "name": "stdout",
     "output_type": "stream",
     "text": [
      "TCGA-D5-6533-01A-11D-1721-05 0.77\n"
     ]
    },
    {
     "name": "stderr",
     "output_type": "stream",
     "text": [
      "INFO  @ Thu, 14 Dec 2017 01:19:18: Input filename is: /home/a0121533/InfiniumPurify/purity_data/red_methy_TCGA-D5-6534-01A-21D-1926-05.txt \n",
      "INFO  @ Thu, 14 Dec 2017 01:19:18: Cancer Type is: COAD \n",
      "INFO  @ Thu, 14 Dec 2017 01:19:18: Loading hyper and hypo iDMCs for: COAD \n",
      "INFO  @ Thu, 14 Dec 2017 01:19:18: Computating peak mode of iDMCs ... \n"
     ]
    },
    {
     "name": "stdout",
     "output_type": "stream",
     "text": [
      "TCGA-D5-6534-01A-21D-1926-05 0.49\n"
     ]
    },
    {
     "name": "stderr",
     "output_type": "stream",
     "text": [
      "INFO  @ Thu, 14 Dec 2017 01:19:39: Input filename is: /home/a0121533/InfiniumPurify/purity_data/red_methy_TCGA-D5-6535-01A-11D-1721-05.txt \n",
      "INFO  @ Thu, 14 Dec 2017 01:19:39: Cancer Type is: COAD \n",
      "INFO  @ Thu, 14 Dec 2017 01:19:39: Loading hyper and hypo iDMCs for: COAD \n",
      "INFO  @ Thu, 14 Dec 2017 01:19:39: Computating peak mode of iDMCs ... \n"
     ]
    },
    {
     "name": "stdout",
     "output_type": "stream",
     "text": [
      "TCGA-D5-6535-01A-11D-1721-05 0.7000000000000001\n"
     ]
    },
    {
     "name": "stderr",
     "output_type": "stream",
     "text": [
      "INFO  @ Thu, 14 Dec 2017 01:20:00: Input filename is: /home/a0121533/InfiniumPurify/purity_data/red_methy_TCGA-D5-6536-01A-11D-1721-05.txt \n",
      "INFO  @ Thu, 14 Dec 2017 01:20:00: Cancer Type is: COAD \n",
      "INFO  @ Thu, 14 Dec 2017 01:20:00: Loading hyper and hypo iDMCs for: COAD \n",
      "INFO  @ Thu, 14 Dec 2017 01:20:00: Computating peak mode of iDMCs ... \n"
     ]
    },
    {
     "name": "stdout",
     "output_type": "stream",
     "text": [
      "TCGA-D5-6536-01A-11D-1721-05 0.62\n"
     ]
    },
    {
     "name": "stderr",
     "output_type": "stream",
     "text": [
      "INFO  @ Thu, 14 Dec 2017 01:20:21: Input filename is: /home/a0121533/InfiniumPurify/purity_data/red_methy_TCGA-D5-6537-01A-11D-1721-05.txt \n",
      "INFO  @ Thu, 14 Dec 2017 01:20:21: Cancer Type is: COAD \n",
      "INFO  @ Thu, 14 Dec 2017 01:20:21: Loading hyper and hypo iDMCs for: COAD \n",
      "INFO  @ Thu, 14 Dec 2017 01:20:21: Computating peak mode of iDMCs ... \n"
     ]
    },
    {
     "name": "stdout",
     "output_type": "stream",
     "text": [
      "TCGA-D5-6537-01A-11D-1721-05 0.79\n"
     ]
    },
    {
     "name": "stderr",
     "output_type": "stream",
     "text": [
      "INFO  @ Thu, 14 Dec 2017 01:20:42: Input filename is: /home/a0121533/InfiniumPurify/purity_data/red_methy_TCGA-D5-6538-01A-11D-1721-05.txt \n",
      "INFO  @ Thu, 14 Dec 2017 01:20:42: Cancer Type is: COAD \n",
      "INFO  @ Thu, 14 Dec 2017 01:20:42: Loading hyper and hypo iDMCs for: COAD \n",
      "INFO  @ Thu, 14 Dec 2017 01:20:42: Computating peak mode of iDMCs ... \n"
     ]
    },
    {
     "name": "stdout",
     "output_type": "stream",
     "text": [
      "TCGA-D5-6538-01A-11D-1721-05 0.91\n"
     ]
    },
    {
     "name": "stderr",
     "output_type": "stream",
     "text": [
      "INFO  @ Thu, 14 Dec 2017 01:21:04: Input filename is: /home/a0121533/InfiniumPurify/purity_data/red_methy_TCGA-D5-6539-01A-11D-1721-05.txt \n",
      "INFO  @ Thu, 14 Dec 2017 01:21:04: Cancer Type is: COAD \n",
      "INFO  @ Thu, 14 Dec 2017 01:21:04: Loading hyper and hypo iDMCs for: COAD \n",
      "INFO  @ Thu, 14 Dec 2017 01:21:04: Computating peak mode of iDMCs ... \n"
     ]
    },
    {
     "name": "stdout",
     "output_type": "stream",
     "text": [
      "TCGA-D5-6539-01A-11D-1721-05 0.44\n"
     ]
    },
    {
     "name": "stderr",
     "output_type": "stream",
     "text": [
      "INFO  @ Thu, 14 Dec 2017 01:21:25: Input filename is: /home/a0121533/InfiniumPurify/purity_data/red_methy_TCGA-D5-6540-01A-11D-1721-05.txt \n",
      "INFO  @ Thu, 14 Dec 2017 01:21:25: Cancer Type is: COAD \n",
      "INFO  @ Thu, 14 Dec 2017 01:21:25: Loading hyper and hypo iDMCs for: COAD \n",
      "INFO  @ Thu, 14 Dec 2017 01:21:25: Computating peak mode of iDMCs ... \n"
     ]
    },
    {
     "name": "stdout",
     "output_type": "stream",
     "text": [
      "TCGA-D5-6540-01A-11D-1721-05 0.6900000000000001\n"
     ]
    },
    {
     "name": "stderr",
     "output_type": "stream",
     "text": [
      "INFO  @ Thu, 14 Dec 2017 01:21:46: Input filename is: /home/a0121533/InfiniumPurify/purity_data/red_methy_TCGA-D5-6541-01A-11D-1721-05.txt \n",
      "INFO  @ Thu, 14 Dec 2017 01:21:46: Cancer Type is: COAD \n",
      "INFO  @ Thu, 14 Dec 2017 01:21:46: Loading hyper and hypo iDMCs for: COAD \n",
      "INFO  @ Thu, 14 Dec 2017 01:21:46: Computating peak mode of iDMCs ... \n"
     ]
    },
    {
     "name": "stdout",
     "output_type": "stream",
     "text": [
      "TCGA-D5-6541-01A-11D-1721-05 0.6\n"
     ]
    },
    {
     "name": "stderr",
     "output_type": "stream",
     "text": [
      "INFO  @ Thu, 14 Dec 2017 01:22:07: Input filename is: /home/a0121533/InfiniumPurify/purity_data/red_methy_TCGA-D5-6898-01A-11D-1926-05.txt \n",
      "INFO  @ Thu, 14 Dec 2017 01:22:07: Cancer Type is: COAD \n",
      "INFO  @ Thu, 14 Dec 2017 01:22:07: Loading hyper and hypo iDMCs for: COAD \n",
      "INFO  @ Thu, 14 Dec 2017 01:22:07: Computating peak mode of iDMCs ... \n"
     ]
    },
    {
     "name": "stdout",
     "output_type": "stream",
     "text": [
      "TCGA-D5-6898-01A-11D-1926-05 0.6900000000000001\n"
     ]
    },
    {
     "name": "stderr",
     "output_type": "stream",
     "text": [
      "INFO  @ Thu, 14 Dec 2017 01:22:29: Input filename is: /home/a0121533/InfiniumPurify/purity_data/red_methy_TCGA-D5-6920-01A-11D-1926-05.txt \n",
      "INFO  @ Thu, 14 Dec 2017 01:22:29: Cancer Type is: COAD \n",
      "INFO  @ Thu, 14 Dec 2017 01:22:29: Loading hyper and hypo iDMCs for: COAD \n",
      "INFO  @ Thu, 14 Dec 2017 01:22:29: Computating peak mode of iDMCs ... \n"
     ]
    },
    {
     "name": "stdout",
     "output_type": "stream",
     "text": [
      "TCGA-D5-6920-01A-11D-1926-05 0.49\n"
     ]
    },
    {
     "name": "stderr",
     "output_type": "stream",
     "text": [
      "INFO  @ Thu, 14 Dec 2017 01:22:50: Input filename is: /home/a0121533/InfiniumPurify/purity_data/red_methy_TCGA-D5-6922-01A-11D-1926-05.txt \n",
      "INFO  @ Thu, 14 Dec 2017 01:22:50: Cancer Type is: COAD \n",
      "INFO  @ Thu, 14 Dec 2017 01:22:50: Loading hyper and hypo iDMCs for: COAD \n",
      "INFO  @ Thu, 14 Dec 2017 01:22:50: Computating peak mode of iDMCs ... \n"
     ]
    },
    {
     "name": "stdout",
     "output_type": "stream",
     "text": [
      "TCGA-D5-6922-01A-11D-1926-05 0.77\n"
     ]
    },
    {
     "name": "stderr",
     "output_type": "stream",
     "text": [
      "INFO  @ Thu, 14 Dec 2017 01:23:11: Input filename is: /home/a0121533/InfiniumPurify/purity_data/red_methy_TCGA-D5-6923-01A-11D-1926-05.txt \n",
      "INFO  @ Thu, 14 Dec 2017 01:23:11: Cancer Type is: COAD \n",
      "INFO  @ Thu, 14 Dec 2017 01:23:11: Loading hyper and hypo iDMCs for: COAD \n",
      "INFO  @ Thu, 14 Dec 2017 01:23:11: Computating peak mode of iDMCs ... \n"
     ]
    },
    {
     "name": "stdout",
     "output_type": "stream",
     "text": [
      "TCGA-D5-6923-01A-11D-1926-05 0.6\n"
     ]
    },
    {
     "name": "stderr",
     "output_type": "stream",
     "text": [
      "INFO  @ Thu, 14 Dec 2017 01:23:32: Input filename is: /home/a0121533/InfiniumPurify/purity_data/red_methy_TCGA-D5-6924-01A-11D-1926-05.txt \n",
      "INFO  @ Thu, 14 Dec 2017 01:23:32: Cancer Type is: COAD \n",
      "INFO  @ Thu, 14 Dec 2017 01:23:32: Loading hyper and hypo iDMCs for: COAD \n",
      "INFO  @ Thu, 14 Dec 2017 01:23:32: Computating peak mode of iDMCs ... \n"
     ]
    },
    {
     "name": "stdout",
     "output_type": "stream",
     "text": [
      "TCGA-D5-6924-01A-11D-1926-05 0.7000000000000001\n"
     ]
    },
    {
     "name": "stderr",
     "output_type": "stream",
     "text": [
      "INFO  @ Thu, 14 Dec 2017 01:23:53: Input filename is: /home/a0121533/InfiniumPurify/purity_data/red_methy_TCGA-D5-6926-01A-11D-1926-05.txt \n",
      "INFO  @ Thu, 14 Dec 2017 01:23:53: Cancer Type is: COAD \n",
      "INFO  @ Thu, 14 Dec 2017 01:23:53: Loading hyper and hypo iDMCs for: COAD \n",
      "INFO  @ Thu, 14 Dec 2017 01:23:53: Computating peak mode of iDMCs ... \n"
     ]
    },
    {
     "name": "stdout",
     "output_type": "stream",
     "text": [
      "TCGA-D5-6926-01A-11D-1926-05 0.66\n"
     ]
    },
    {
     "name": "stderr",
     "output_type": "stream",
     "text": [
      "INFO  @ Thu, 14 Dec 2017 01:24:15: Input filename is: /home/a0121533/InfiniumPurify/purity_data/red_methy_TCGA-D5-6927-01A-21D-1926-05.txt \n",
      "INFO  @ Thu, 14 Dec 2017 01:24:15: Cancer Type is: COAD \n",
      "INFO  @ Thu, 14 Dec 2017 01:24:15: Loading hyper and hypo iDMCs for: COAD \n",
      "INFO  @ Thu, 14 Dec 2017 01:24:15: Computating peak mode of iDMCs ... \n"
     ]
    },
    {
     "name": "stdout",
     "output_type": "stream",
     "text": [
      "TCGA-D5-6927-01A-21D-1926-05 0.52\n"
     ]
    },
    {
     "name": "stderr",
     "output_type": "stream",
     "text": [
      "INFO  @ Thu, 14 Dec 2017 01:24:36: Input filename is: /home/a0121533/InfiniumPurify/purity_data/red_methy_TCGA-D5-6928-01A-11D-1926-05.txt \n",
      "INFO  @ Thu, 14 Dec 2017 01:24:36: Cancer Type is: COAD \n",
      "INFO  @ Thu, 14 Dec 2017 01:24:36: Loading hyper and hypo iDMCs for: COAD \n",
      "INFO  @ Thu, 14 Dec 2017 01:24:36: Computating peak mode of iDMCs ... \n"
     ]
    },
    {
     "name": "stdout",
     "output_type": "stream",
     "text": [
      "TCGA-D5-6928-01A-11D-1926-05 0.47000000000000003\n"
     ]
    },
    {
     "name": "stderr",
     "output_type": "stream",
     "text": [
      "INFO  @ Thu, 14 Dec 2017 01:24:57: Input filename is: /home/a0121533/InfiniumPurify/purity_data/red_methy_TCGA-D5-6929-01A-31D-1926-05.txt \n",
      "INFO  @ Thu, 14 Dec 2017 01:24:57: Cancer Type is: COAD \n",
      "INFO  @ Thu, 14 Dec 2017 01:24:57: Loading hyper and hypo iDMCs for: COAD \n",
      "INFO  @ Thu, 14 Dec 2017 01:24:57: Computating peak mode of iDMCs ... \n"
     ]
    },
    {
     "name": "stdout",
     "output_type": "stream",
     "text": [
      "TCGA-D5-6929-01A-31D-1926-05 0.66\n"
     ]
    },
    {
     "name": "stderr",
     "output_type": "stream",
     "text": [
      "INFO  @ Thu, 14 Dec 2017 01:25:18: Input filename is: /home/a0121533/InfiniumPurify/purity_data/red_methy_TCGA-D5-6930-01A-11D-1926-05.txt \n",
      "INFO  @ Thu, 14 Dec 2017 01:25:18: Cancer Type is: COAD \n",
      "INFO  @ Thu, 14 Dec 2017 01:25:18: Loading hyper and hypo iDMCs for: COAD \n",
      "INFO  @ Thu, 14 Dec 2017 01:25:18: Computating peak mode of iDMCs ... \n"
     ]
    },
    {
     "name": "stdout",
     "output_type": "stream",
     "text": [
      "TCGA-D5-6930-01A-11D-1926-05 0.53\n"
     ]
    },
    {
     "name": "stderr",
     "output_type": "stream",
     "text": [
      "INFO  @ Thu, 14 Dec 2017 01:25:40: Input filename is: /home/a0121533/InfiniumPurify/purity_data/red_methy_TCGA-D5-6931-01A-11D-1926-05.txt \n",
      "INFO  @ Thu, 14 Dec 2017 01:25:40: Cancer Type is: COAD \n",
      "INFO  @ Thu, 14 Dec 2017 01:25:40: Loading hyper and hypo iDMCs for: COAD \n",
      "INFO  @ Thu, 14 Dec 2017 01:25:40: Computating peak mode of iDMCs ... \n"
     ]
    },
    {
     "name": "stdout",
     "output_type": "stream",
     "text": [
      "TCGA-D5-6931-01A-11D-1926-05 0.5700000000000001\n"
     ]
    },
    {
     "name": "stderr",
     "output_type": "stream",
     "text": [
      "INFO  @ Thu, 14 Dec 2017 01:26:01: Input filename is: /home/a0121533/InfiniumPurify/purity_data/red_methy_TCGA-D5-6932-01A-11D-1926-05.txt \n",
      "INFO  @ Thu, 14 Dec 2017 01:26:01: Cancer Type is: COAD \n",
      "INFO  @ Thu, 14 Dec 2017 01:26:01: Loading hyper and hypo iDMCs for: COAD \n",
      "INFO  @ Thu, 14 Dec 2017 01:26:01: Computating peak mode of iDMCs ... \n"
     ]
    },
    {
     "name": "stdout",
     "output_type": "stream",
     "text": [
      "TCGA-D5-6932-01A-11D-1926-05 0.71\n"
     ]
    },
    {
     "name": "stderr",
     "output_type": "stream",
     "text": [
      "INFO  @ Thu, 14 Dec 2017 01:26:22: Input filename is: /home/a0121533/InfiniumPurify/purity_data/red_methy_TCGA-D5-7000-01A-11D-1926-05.txt \n",
      "INFO  @ Thu, 14 Dec 2017 01:26:22: Cancer Type is: COAD \n",
      "INFO  @ Thu, 14 Dec 2017 01:26:22: Loading hyper and hypo iDMCs for: COAD \n",
      "INFO  @ Thu, 14 Dec 2017 01:26:22: Computating peak mode of iDMCs ... \n"
     ]
    },
    {
     "name": "stdout",
     "output_type": "stream",
     "text": [
      "TCGA-D5-7000-01A-11D-1926-05 0.71\n"
     ]
    },
    {
     "name": "stderr",
     "output_type": "stream",
     "text": [
      "INFO  @ Thu, 14 Dec 2017 01:26:43: Input filename is: /home/a0121533/InfiniumPurify/purity_data/red_methy_TCGA-DM-A0X9-01A-11D-A153-05.txt \n",
      "INFO  @ Thu, 14 Dec 2017 01:26:43: Cancer Type is: COAD \n",
      "INFO  @ Thu, 14 Dec 2017 01:26:43: Loading hyper and hypo iDMCs for: COAD \n",
      "INFO  @ Thu, 14 Dec 2017 01:26:43: Computating peak mode of iDMCs ... \n"
     ]
    },
    {
     "name": "stdout",
     "output_type": "stream",
     "text": [
      "TCGA-DM-A0X9-01A-11D-A153-05 0.8300000000000001\n"
     ]
    },
    {
     "name": "stderr",
     "output_type": "stream",
     "text": [
      "INFO  @ Thu, 14 Dec 2017 01:27:04: Input filename is: /home/a0121533/InfiniumPurify/purity_data/red_methy_TCGA-DM-A0XD-01A-12D-A153-05.txt \n",
      "INFO  @ Thu, 14 Dec 2017 01:27:04: Cancer Type is: COAD \n",
      "INFO  @ Thu, 14 Dec 2017 01:27:04: Loading hyper and hypo iDMCs for: COAD \n",
      "INFO  @ Thu, 14 Dec 2017 01:27:04: Computating peak mode of iDMCs ... \n"
     ]
    },
    {
     "name": "stdout",
     "output_type": "stream",
     "text": [
      "TCGA-DM-A0XD-01A-12D-A153-05 0.65\n"
     ]
    },
    {
     "name": "stderr",
     "output_type": "stream",
     "text": [
      "INFO  @ Thu, 14 Dec 2017 01:27:25: Input filename is: /home/a0121533/InfiniumPurify/purity_data/red_methy_TCGA-DM-A0XF-01A-11D-A153-05.txt \n",
      "INFO  @ Thu, 14 Dec 2017 01:27:25: Cancer Type is: COAD \n",
      "INFO  @ Thu, 14 Dec 2017 01:27:25: Loading hyper and hypo iDMCs for: COAD \n",
      "INFO  @ Thu, 14 Dec 2017 01:27:25: Computating peak mode of iDMCs ... \n"
     ]
    },
    {
     "name": "stdout",
     "output_type": "stream",
     "text": [
      "TCGA-DM-A0XF-01A-11D-A153-05 0.62\n"
     ]
    },
    {
     "name": "stderr",
     "output_type": "stream",
     "text": [
      "INFO  @ Thu, 14 Dec 2017 01:27:47: Input filename is: /home/a0121533/InfiniumPurify/purity_data/red_methy_TCGA-DM-A1D0-01A-11D-A153-05.txt \n",
      "INFO  @ Thu, 14 Dec 2017 01:27:47: Cancer Type is: COAD \n",
      "INFO  @ Thu, 14 Dec 2017 01:27:47: Loading hyper and hypo iDMCs for: COAD \n",
      "INFO  @ Thu, 14 Dec 2017 01:27:47: Computating peak mode of iDMCs ... \n"
     ]
    },
    {
     "name": "stdout",
     "output_type": "stream",
     "text": [
      "TCGA-DM-A1D0-01A-11D-A153-05 0.8\n"
     ]
    },
    {
     "name": "stderr",
     "output_type": "stream",
     "text": [
      "INFO  @ Thu, 14 Dec 2017 01:28:08: Input filename is: /home/a0121533/InfiniumPurify/purity_data/red_methy_TCGA-DM-A1D4-01A-21D-A153-05.txt \n",
      "INFO  @ Thu, 14 Dec 2017 01:28:08: Cancer Type is: COAD \n",
      "INFO  @ Thu, 14 Dec 2017 01:28:08: Loading hyper and hypo iDMCs for: COAD \n",
      "INFO  @ Thu, 14 Dec 2017 01:28:08: Computating peak mode of iDMCs ... \n"
     ]
    },
    {
     "name": "stdout",
     "output_type": "stream",
     "text": [
      "TCGA-DM-A1D4-01A-21D-A153-05 0.8300000000000001\n"
     ]
    },
    {
     "name": "stderr",
     "output_type": "stream",
     "text": [
      "INFO  @ Thu, 14 Dec 2017 01:28:29: Input filename is: /home/a0121533/InfiniumPurify/purity_data/red_methy_TCGA-DM-A1D6-01A-21D-A153-05.txt \n",
      "INFO  @ Thu, 14 Dec 2017 01:28:29: Cancer Type is: COAD \n",
      "INFO  @ Thu, 14 Dec 2017 01:28:29: Loading hyper and hypo iDMCs for: COAD \n",
      "INFO  @ Thu, 14 Dec 2017 01:28:29: Computating peak mode of iDMCs ... \n"
     ]
    },
    {
     "name": "stdout",
     "output_type": "stream",
     "text": [
      "TCGA-DM-A1D6-01A-21D-A153-05 0.81\n"
     ]
    },
    {
     "name": "stderr",
     "output_type": "stream",
     "text": [
      "INFO  @ Thu, 14 Dec 2017 01:28:50: Input filename is: /home/a0121533/InfiniumPurify/purity_data/red_methy_TCGA-DM-A1D7-01A-11D-A153-05.txt \n",
      "INFO  @ Thu, 14 Dec 2017 01:28:50: Cancer Type is: COAD \n",
      "INFO  @ Thu, 14 Dec 2017 01:28:50: Loading hyper and hypo iDMCs for: COAD \n",
      "INFO  @ Thu, 14 Dec 2017 01:28:50: Computating peak mode of iDMCs ... \n"
     ]
    },
    {
     "name": "stdout",
     "output_type": "stream",
     "text": [
      "TCGA-DM-A1D7-01A-11D-A153-05 0.67\n"
     ]
    },
    {
     "name": "stderr",
     "output_type": "stream",
     "text": [
      "INFO  @ Thu, 14 Dec 2017 01:29:11: Input filename is: /home/a0121533/InfiniumPurify/purity_data/red_methy_TCGA-DM-A1D8-01A-11D-A153-05.txt \n",
      "INFO  @ Thu, 14 Dec 2017 01:29:11: Cancer Type is: COAD \n",
      "INFO  @ Thu, 14 Dec 2017 01:29:11: Loading hyper and hypo iDMCs for: COAD \n",
      "INFO  @ Thu, 14 Dec 2017 01:29:11: Computating peak mode of iDMCs ... \n"
     ]
    },
    {
     "name": "stdout",
     "output_type": "stream",
     "text": [
      "TCGA-DM-A1D8-01A-11D-A153-05 0.77\n"
     ]
    },
    {
     "name": "stderr",
     "output_type": "stream",
     "text": [
      "INFO  @ Thu, 14 Dec 2017 01:29:33: Input filename is: /home/a0121533/InfiniumPurify/purity_data/red_methy_TCGA-DM-A1D9-01A-11D-A153-05.txt \n",
      "INFO  @ Thu, 14 Dec 2017 01:29:33: Cancer Type is: COAD \n",
      "INFO  @ Thu, 14 Dec 2017 01:29:33: Loading hyper and hypo iDMCs for: COAD \n",
      "INFO  @ Thu, 14 Dec 2017 01:29:33: Computating peak mode of iDMCs ... \n"
     ]
    },
    {
     "name": "stdout",
     "output_type": "stream",
     "text": [
      "TCGA-DM-A1D9-01A-11D-A153-05 0.77\n"
     ]
    },
    {
     "name": "stderr",
     "output_type": "stream",
     "text": [
      "INFO  @ Thu, 14 Dec 2017 01:29:54: Input filename is: /home/a0121533/InfiniumPurify/purity_data/red_methy_TCGA-DM-A1DA-01A-11D-A153-05.txt \n",
      "INFO  @ Thu, 14 Dec 2017 01:29:54: Cancer Type is: COAD \n",
      "INFO  @ Thu, 14 Dec 2017 01:29:54: Loading hyper and hypo iDMCs for: COAD \n",
      "INFO  @ Thu, 14 Dec 2017 01:29:54: Computating peak mode of iDMCs ... \n"
     ]
    },
    {
     "name": "stdout",
     "output_type": "stream",
     "text": [
      "TCGA-DM-A1DA-01A-11D-A153-05 0.91\n"
     ]
    },
    {
     "name": "stderr",
     "output_type": "stream",
     "text": [
      "INFO  @ Thu, 14 Dec 2017 01:30:15: Input filename is: /home/a0121533/InfiniumPurify/purity_data/red_methy_TCGA-DM-A1DB-01A-11D-A153-05.txt \n",
      "INFO  @ Thu, 14 Dec 2017 01:30:15: Cancer Type is: COAD \n",
      "INFO  @ Thu, 14 Dec 2017 01:30:15: Loading hyper and hypo iDMCs for: COAD \n",
      "INFO  @ Thu, 14 Dec 2017 01:30:15: Computating peak mode of iDMCs ... \n"
     ]
    },
    {
     "name": "stdout",
     "output_type": "stream",
     "text": [
      "TCGA-DM-A1DB-01A-11D-A153-05 0.81\n"
     ]
    },
    {
     "name": "stderr",
     "output_type": "stream",
     "text": [
      "INFO  @ Thu, 14 Dec 2017 01:30:36: Input filename is: /home/a0121533/InfiniumPurify/purity_data/red_methy_TCGA-DM-A1HA-01A-11D-A153-05.txt \n",
      "INFO  @ Thu, 14 Dec 2017 01:30:36: Cancer Type is: COAD \n",
      "INFO  @ Thu, 14 Dec 2017 01:30:36: Loading hyper and hypo iDMCs for: COAD \n",
      "INFO  @ Thu, 14 Dec 2017 01:30:36: Computating peak mode of iDMCs ... \n"
     ]
    },
    {
     "name": "stdout",
     "output_type": "stream",
     "text": [
      "TCGA-DM-A1HA-01A-11D-A153-05 0.92\n"
     ]
    },
    {
     "name": "stderr",
     "output_type": "stream",
     "text": [
      "INFO  @ Thu, 14 Dec 2017 01:30:57: Input filename is: /home/a0121533/InfiniumPurify/purity_data/red_methy_TCGA-DM-A1HB-01A-22D-A17Z-05.txt \n",
      "INFO  @ Thu, 14 Dec 2017 01:30:57: Cancer Type is: COAD \n",
      "INFO  @ Thu, 14 Dec 2017 01:30:57: Loading hyper and hypo iDMCs for: COAD \n",
      "INFO  @ Thu, 14 Dec 2017 01:30:57: Computating peak mode of iDMCs ... \n"
     ]
    },
    {
     "name": "stdout",
     "output_type": "stream",
     "text": [
      "TCGA-DM-A1HB-01A-22D-A17Z-05 0.68\n"
     ]
    },
    {
     "name": "stderr",
     "output_type": "stream",
     "text": [
      "INFO  @ Thu, 14 Dec 2017 01:31:18: Input filename is: /home/a0121533/InfiniumPurify/purity_data/red_methy_TCGA-DM-A280-01A-12D-A16X-05.txt \n",
      "INFO  @ Thu, 14 Dec 2017 01:31:18: Cancer Type is: COAD \n",
      "INFO  @ Thu, 14 Dec 2017 01:31:18: Loading hyper and hypo iDMCs for: COAD \n",
      "INFO  @ Thu, 14 Dec 2017 01:31:18: Computating peak mode of iDMCs ... \n"
     ]
    },
    {
     "name": "stdout",
     "output_type": "stream",
     "text": [
      "TCGA-DM-A280-01A-12D-A16X-05 0.49\n"
     ]
    },
    {
     "name": "stderr",
     "output_type": "stream",
     "text": [
      "INFO  @ Thu, 14 Dec 2017 01:31:40: Input filename is: /home/a0121533/InfiniumPurify/purity_data/red_methy_TCGA-DM-A282-01A-12D-A16X-05.txt \n",
      "INFO  @ Thu, 14 Dec 2017 01:31:40: Cancer Type is: COAD \n",
      "INFO  @ Thu, 14 Dec 2017 01:31:40: Loading hyper and hypo iDMCs for: COAD \n",
      "INFO  @ Thu, 14 Dec 2017 01:31:40: Computating peak mode of iDMCs ... \n"
     ]
    },
    {
     "name": "stdout",
     "output_type": "stream",
     "text": [
      "TCGA-DM-A282-01A-12D-A16X-05 0.73\n"
     ]
    },
    {
     "name": "stderr",
     "output_type": "stream",
     "text": [
      "INFO  @ Thu, 14 Dec 2017 01:32:01: Input filename is: /home/a0121533/InfiniumPurify/purity_data/red_methy_TCGA-DM-A285-01A-11D-A16X-05.txt \n",
      "INFO  @ Thu, 14 Dec 2017 01:32:01: Cancer Type is: COAD \n",
      "INFO  @ Thu, 14 Dec 2017 01:32:01: Loading hyper and hypo iDMCs for: COAD \n",
      "INFO  @ Thu, 14 Dec 2017 01:32:01: Computating peak mode of iDMCs ... \n"
     ]
    },
    {
     "name": "stdout",
     "output_type": "stream",
     "text": [
      "TCGA-DM-A285-01A-11D-A16X-05 0.63\n"
     ]
    },
    {
     "name": "stderr",
     "output_type": "stream",
     "text": [
      "INFO  @ Thu, 14 Dec 2017 01:32:22: Input filename is: /home/a0121533/InfiniumPurify/purity_data/red_methy_TCGA-DM-A288-01A-11D-A16X-05.txt \n",
      "INFO  @ Thu, 14 Dec 2017 01:32:22: Cancer Type is: COAD \n",
      "INFO  @ Thu, 14 Dec 2017 01:32:22: Loading hyper and hypo iDMCs for: COAD \n",
      "INFO  @ Thu, 14 Dec 2017 01:32:22: Computating peak mode of iDMCs ... \n"
     ]
    },
    {
     "name": "stdout",
     "output_type": "stream",
     "text": [
      "TCGA-DM-A288-01A-11D-A16X-05 0.79\n"
     ]
    },
    {
     "name": "stderr",
     "output_type": "stream",
     "text": [
      "INFO  @ Thu, 14 Dec 2017 01:32:43: Input filename is: /home/a0121533/InfiniumPurify/purity_data/red_methy_TCGA-DM-A28A-01A-21D-A16X-05.txt \n",
      "INFO  @ Thu, 14 Dec 2017 01:32:43: Cancer Type is: COAD \n",
      "INFO  @ Thu, 14 Dec 2017 01:32:43: Loading hyper and hypo iDMCs for: COAD \n",
      "INFO  @ Thu, 14 Dec 2017 01:32:43: Computating peak mode of iDMCs ... \n"
     ]
    },
    {
     "name": "stdout",
     "output_type": "stream",
     "text": [
      "TCGA-DM-A28A-01A-21D-A16X-05 0.8\n"
     ]
    },
    {
     "name": "stderr",
     "output_type": "stream",
     "text": [
      "INFO  @ Thu, 14 Dec 2017 01:33:05: Input filename is: /home/a0121533/InfiniumPurify/purity_data/red_methy_TCGA-DM-A28C-01A-11D-A16X-05.txt \n",
      "INFO  @ Thu, 14 Dec 2017 01:33:05: Cancer Type is: COAD \n",
      "INFO  @ Thu, 14 Dec 2017 01:33:05: Loading hyper and hypo iDMCs for: COAD \n",
      "INFO  @ Thu, 14 Dec 2017 01:33:05: Computating peak mode of iDMCs ... \n"
     ]
    },
    {
     "name": "stdout",
     "output_type": "stream",
     "text": [
      "TCGA-DM-A28C-01A-11D-A16X-05 0.84\n"
     ]
    },
    {
     "name": "stderr",
     "output_type": "stream",
     "text": [
      "INFO  @ Thu, 14 Dec 2017 01:33:26: Input filename is: /home/a0121533/InfiniumPurify/purity_data/red_methy_TCGA-DM-A28E-01A-11D-A16X-05.txt \n",
      "INFO  @ Thu, 14 Dec 2017 01:33:26: Cancer Type is: COAD \n",
      "INFO  @ Thu, 14 Dec 2017 01:33:26: Loading hyper and hypo iDMCs for: COAD \n",
      "INFO  @ Thu, 14 Dec 2017 01:33:26: Computating peak mode of iDMCs ... \n"
     ]
    },
    {
     "name": "stdout",
     "output_type": "stream",
     "text": [
      "TCGA-DM-A28E-01A-11D-A16X-05 0.86\n"
     ]
    },
    {
     "name": "stderr",
     "output_type": "stream",
     "text": [
      "INFO  @ Thu, 14 Dec 2017 01:33:47: Input filename is: /home/a0121533/InfiniumPurify/purity_data/red_methy_TCGA-DM-A28F-01A-11D-A16X-05.txt \n",
      "INFO  @ Thu, 14 Dec 2017 01:33:47: Cancer Type is: COAD \n",
      "INFO  @ Thu, 14 Dec 2017 01:33:47: Loading hyper and hypo iDMCs for: COAD \n",
      "INFO  @ Thu, 14 Dec 2017 01:33:47: Computating peak mode of iDMCs ... \n"
     ]
    },
    {
     "name": "stdout",
     "output_type": "stream",
     "text": [
      "TCGA-DM-A28F-01A-11D-A16X-05 0.76\n"
     ]
    },
    {
     "name": "stderr",
     "output_type": "stream",
     "text": [
      "INFO  @ Thu, 14 Dec 2017 01:34:08: Input filename is: /home/a0121533/InfiniumPurify/purity_data/red_methy_TCGA-DM-A28G-01A-11D-A16X-05.txt \n",
      "INFO  @ Thu, 14 Dec 2017 01:34:08: Cancer Type is: COAD \n",
      "INFO  @ Thu, 14 Dec 2017 01:34:08: Loading hyper and hypo iDMCs for: COAD \n",
      "INFO  @ Thu, 14 Dec 2017 01:34:08: Computating peak mode of iDMCs ... \n"
     ]
    },
    {
     "name": "stdout",
     "output_type": "stream",
     "text": [
      "TCGA-DM-A28G-01A-11D-A16X-05 0.71\n"
     ]
    },
    {
     "name": "stderr",
     "output_type": "stream",
     "text": [
      "INFO  @ Thu, 14 Dec 2017 01:34:29: Input filename is: /home/a0121533/InfiniumPurify/purity_data/red_methy_TCGA-DM-A28H-01A-11D-A16X-05.txt \n",
      "INFO  @ Thu, 14 Dec 2017 01:34:29: Cancer Type is: COAD \n",
      "INFO  @ Thu, 14 Dec 2017 01:34:29: Loading hyper and hypo iDMCs for: COAD \n",
      "INFO  @ Thu, 14 Dec 2017 01:34:29: Computating peak mode of iDMCs ... \n"
     ]
    },
    {
     "name": "stdout",
     "output_type": "stream",
     "text": [
      "TCGA-DM-A28H-01A-11D-A16X-05 0.75\n"
     ]
    },
    {
     "name": "stderr",
     "output_type": "stream",
     "text": [
      "INFO  @ Thu, 14 Dec 2017 01:34:51: Input filename is: /home/a0121533/InfiniumPurify/purity_data/red_methy_TCGA-DM-A28K-01A-21D-A16X-05.txt \n",
      "INFO  @ Thu, 14 Dec 2017 01:34:51: Cancer Type is: COAD \n",
      "INFO  @ Thu, 14 Dec 2017 01:34:51: Loading hyper and hypo iDMCs for: COAD \n",
      "INFO  @ Thu, 14 Dec 2017 01:34:51: Computating peak mode of iDMCs ... \n"
     ]
    },
    {
     "name": "stdout",
     "output_type": "stream",
     "text": [
      "TCGA-DM-A28K-01A-21D-A16X-05 0.84\n"
     ]
    },
    {
     "name": "stderr",
     "output_type": "stream",
     "text": [
      "INFO  @ Thu, 14 Dec 2017 01:35:12: Input filename is: /home/a0121533/InfiniumPurify/purity_data/red_methy_TCGA-DM-A28M-01A-12D-A16X-05.txt \n",
      "INFO  @ Thu, 14 Dec 2017 01:35:12: Cancer Type is: COAD \n",
      "INFO  @ Thu, 14 Dec 2017 01:35:12: Loading hyper and hypo iDMCs for: COAD \n",
      "INFO  @ Thu, 14 Dec 2017 01:35:12: Computating peak mode of iDMCs ... \n"
     ]
    },
    {
     "name": "stdout",
     "output_type": "stream",
     "text": [
      "TCGA-DM-A28M-01A-12D-A16X-05 0.78\n"
     ]
    },
    {
     "name": "stderr",
     "output_type": "stream",
     "text": [
      "INFO  @ Thu, 14 Dec 2017 01:35:33: Input filename is: /home/a0121533/InfiniumPurify/purity_data/red_methy_TCGA-F4-6459-01A-11D-1772-05.txt \n",
      "INFO  @ Thu, 14 Dec 2017 01:35:33: Cancer Type is: COAD \n",
      "INFO  @ Thu, 14 Dec 2017 01:35:33: Loading hyper and hypo iDMCs for: COAD \n",
      "INFO  @ Thu, 14 Dec 2017 01:35:33: Computating peak mode of iDMCs ... \n"
     ]
    },
    {
     "name": "stdout",
     "output_type": "stream",
     "text": [
      "TCGA-F4-6459-01A-11D-1772-05 0.64\n"
     ]
    },
    {
     "name": "stderr",
     "output_type": "stream",
     "text": [
      "INFO  @ Thu, 14 Dec 2017 01:35:54: Input filename is: /home/a0121533/InfiniumPurify/purity_data/red_methy_TCGA-F4-6460-01A-11D-1772-05.txt \n",
      "INFO  @ Thu, 14 Dec 2017 01:35:54: Cancer Type is: COAD \n",
      "INFO  @ Thu, 14 Dec 2017 01:35:54: Loading hyper and hypo iDMCs for: COAD \n",
      "INFO  @ Thu, 14 Dec 2017 01:35:54: Computating peak mode of iDMCs ... \n"
     ]
    },
    {
     "name": "stdout",
     "output_type": "stream",
     "text": [
      "TCGA-F4-6460-01A-11D-1772-05 0.6900000000000001\n"
     ]
    },
    {
     "name": "stderr",
     "output_type": "stream",
     "text": [
      "INFO  @ Thu, 14 Dec 2017 01:36:16: Input filename is: /home/a0121533/InfiniumPurify/purity_data/red_methy_TCGA-F4-6461-01A-11D-1772-05.txt \n",
      "INFO  @ Thu, 14 Dec 2017 01:36:16: Cancer Type is: COAD \n",
      "INFO  @ Thu, 14 Dec 2017 01:36:16: Loading hyper and hypo iDMCs for: COAD \n",
      "INFO  @ Thu, 14 Dec 2017 01:36:16: Computating peak mode of iDMCs ... \n"
     ]
    },
    {
     "name": "stdout",
     "output_type": "stream",
     "text": [
      "TCGA-F4-6461-01A-11D-1772-05 0.61\n"
     ]
    },
    {
     "name": "stderr",
     "output_type": "stream",
     "text": [
      "INFO  @ Thu, 14 Dec 2017 01:36:37: Input filename is: /home/a0121533/InfiniumPurify/purity_data/red_methy_TCGA-F4-6463-01A-11D-1721-05.txt \n",
      "INFO  @ Thu, 14 Dec 2017 01:36:37: Cancer Type is: COAD \n",
      "INFO  @ Thu, 14 Dec 2017 01:36:37: Loading hyper and hypo iDMCs for: COAD \n",
      "INFO  @ Thu, 14 Dec 2017 01:36:37: Computating peak mode of iDMCs ... \n"
     ]
    },
    {
     "name": "stdout",
     "output_type": "stream",
     "text": [
      "TCGA-F4-6463-01A-11D-1721-05 0.5700000000000001\n"
     ]
    },
    {
     "name": "stderr",
     "output_type": "stream",
     "text": [
      "INFO  @ Thu, 14 Dec 2017 01:36:58: Input filename is: /home/a0121533/InfiniumPurify/purity_data/red_methy_TCGA-F4-6569-01A-11D-1772-05.txt \n",
      "INFO  @ Thu, 14 Dec 2017 01:36:58: Cancer Type is: COAD \n",
      "INFO  @ Thu, 14 Dec 2017 01:36:58: Loading hyper and hypo iDMCs for: COAD \n",
      "INFO  @ Thu, 14 Dec 2017 01:36:58: Computating peak mode of iDMCs ... \n"
     ]
    },
    {
     "name": "stdout",
     "output_type": "stream",
     "text": [
      "TCGA-F4-6569-01A-11D-1772-05 0.53\n"
     ]
    },
    {
     "name": "stderr",
     "output_type": "stream",
     "text": [
      "INFO  @ Thu, 14 Dec 2017 01:37:20: Input filename is: /home/a0121533/InfiniumPurify/purity_data/red_methy_TCGA-F4-6570-01A-11D-1772-05.txt \n",
      "INFO  @ Thu, 14 Dec 2017 01:37:20: Cancer Type is: COAD \n",
      "INFO  @ Thu, 14 Dec 2017 01:37:20: Loading hyper and hypo iDMCs for: COAD \n",
      "INFO  @ Thu, 14 Dec 2017 01:37:20: Computating peak mode of iDMCs ... \n"
     ]
    },
    {
     "name": "stdout",
     "output_type": "stream",
     "text": [
      "TCGA-F4-6570-01A-11D-1772-05 0.64\n"
     ]
    },
    {
     "name": "stderr",
     "output_type": "stream",
     "text": [
      "INFO  @ Thu, 14 Dec 2017 01:37:41: Input filename is: /home/a0121533/InfiniumPurify/purity_data/red_methy_TCGA-F4-6703-01A-11D-1837-05.txt \n",
      "INFO  @ Thu, 14 Dec 2017 01:37:41: Cancer Type is: COAD \n",
      "INFO  @ Thu, 14 Dec 2017 01:37:41: Loading hyper and hypo iDMCs for: COAD \n",
      "INFO  @ Thu, 14 Dec 2017 01:37:41: Computating peak mode of iDMCs ... \n"
     ]
    },
    {
     "name": "stdout",
     "output_type": "stream",
     "text": [
      "TCGA-F4-6703-01A-11D-1837-05 0.38\n"
     ]
    },
    {
     "name": "stderr",
     "output_type": "stream",
     "text": [
      "INFO  @ Thu, 14 Dec 2017 01:38:02: Input filename is: /home/a0121533/InfiniumPurify/purity_data/red_methy_TCGA-F4-6704-01A-11D-1837-05.txt \n",
      "INFO  @ Thu, 14 Dec 2017 01:38:02: Cancer Type is: COAD \n",
      "INFO  @ Thu, 14 Dec 2017 01:38:02: Loading hyper and hypo iDMCs for: COAD \n",
      "INFO  @ Thu, 14 Dec 2017 01:38:02: Computating peak mode of iDMCs ... \n"
     ]
    },
    {
     "name": "stdout",
     "output_type": "stream",
     "text": [
      "TCGA-F4-6704-01A-11D-1837-05 0.62\n"
     ]
    },
    {
     "name": "stderr",
     "output_type": "stream",
     "text": [
      "INFO  @ Thu, 14 Dec 2017 01:38:23: Input filename is: /home/a0121533/InfiniumPurify/purity_data/red_methy_TCGA-F4-6805-01A-11D-1837-05.txt \n",
      "INFO  @ Thu, 14 Dec 2017 01:38:23: Cancer Type is: COAD \n",
      "INFO  @ Thu, 14 Dec 2017 01:38:23: Loading hyper and hypo iDMCs for: COAD \n",
      "INFO  @ Thu, 14 Dec 2017 01:38:23: Computating peak mode of iDMCs ... \n"
     ]
    },
    {
     "name": "stdout",
     "output_type": "stream",
     "text": [
      "TCGA-F4-6805-01A-11D-1837-05 0.53\n"
     ]
    },
    {
     "name": "stderr",
     "output_type": "stream",
     "text": [
      "INFO  @ Thu, 14 Dec 2017 01:38:45: Input filename is: /home/a0121533/InfiniumPurify/purity_data/red_methy_TCGA-F4-6806-01A-11D-1837-05.txt \n",
      "INFO  @ Thu, 14 Dec 2017 01:38:45: Cancer Type is: COAD \n",
      "INFO  @ Thu, 14 Dec 2017 01:38:45: Loading hyper and hypo iDMCs for: COAD \n",
      "INFO  @ Thu, 14 Dec 2017 01:38:45: Computating peak mode of iDMCs ... \n"
     ]
    },
    {
     "name": "stdout",
     "output_type": "stream",
     "text": [
      "TCGA-F4-6806-01A-11D-1837-05 0.67\n"
     ]
    },
    {
     "name": "stderr",
     "output_type": "stream",
     "text": [
      "INFO  @ Thu, 14 Dec 2017 01:39:06: Input filename is: /home/a0121533/InfiniumPurify/purity_data/red_methy_TCGA-F4-6807-01A-11D-1837-05.txt \n",
      "INFO  @ Thu, 14 Dec 2017 01:39:06: Cancer Type is: COAD \n",
      "INFO  @ Thu, 14 Dec 2017 01:39:06: Loading hyper and hypo iDMCs for: COAD \n",
      "INFO  @ Thu, 14 Dec 2017 01:39:06: Computating peak mode of iDMCs ... \n"
     ]
    },
    {
     "name": "stdout",
     "output_type": "stream",
     "text": [
      "TCGA-F4-6807-01A-11D-1837-05 0.59\n"
     ]
    },
    {
     "name": "stderr",
     "output_type": "stream",
     "text": [
      "INFO  @ Thu, 14 Dec 2017 01:39:27: Input filename is: /home/a0121533/InfiniumPurify/purity_data/red_methy_TCGA-F4-6808-01A-11D-1837-05.txt \n",
      "INFO  @ Thu, 14 Dec 2017 01:39:27: Cancer Type is: COAD \n",
      "INFO  @ Thu, 14 Dec 2017 01:39:27: Loading hyper and hypo iDMCs for: COAD \n",
      "INFO  @ Thu, 14 Dec 2017 01:39:27: Computating peak mode of iDMCs ... \n"
     ]
    },
    {
     "name": "stdout",
     "output_type": "stream",
     "text": [
      "TCGA-F4-6808-01A-11D-1837-05 0.6900000000000001\n"
     ]
    },
    {
     "name": "stderr",
     "output_type": "stream",
     "text": [
      "INFO  @ Thu, 14 Dec 2017 01:39:48: Input filename is: /home/a0121533/InfiniumPurify/purity_data/red_methy_TCGA-F4-6809-01A-11D-1837-05.txt \n",
      "INFO  @ Thu, 14 Dec 2017 01:39:48: Cancer Type is: COAD \n",
      "INFO  @ Thu, 14 Dec 2017 01:39:48: Loading hyper and hypo iDMCs for: COAD \n",
      "INFO  @ Thu, 14 Dec 2017 01:39:48: Computating peak mode of iDMCs ... \n"
     ]
    },
    {
     "name": "stdout",
     "output_type": "stream",
     "text": [
      "TCGA-F4-6809-01A-11D-1837-05 0.56\n"
     ]
    },
    {
     "name": "stderr",
     "output_type": "stream",
     "text": [
      "INFO  @ Thu, 14 Dec 2017 01:40:09: Input filename is: /home/a0121533/InfiniumPurify/purity_data/red_methy_TCGA-F4-6854-01A-11D-1926-05.txt \n",
      "INFO  @ Thu, 14 Dec 2017 01:40:09: Cancer Type is: COAD \n",
      "INFO  @ Thu, 14 Dec 2017 01:40:09: Loading hyper and hypo iDMCs for: COAD \n",
      "INFO  @ Thu, 14 Dec 2017 01:40:09: Computating peak mode of iDMCs ... \n"
     ]
    },
    {
     "name": "stdout",
     "output_type": "stream",
     "text": [
      "TCGA-F4-6854-01A-11D-1926-05 0.65\n"
     ]
    },
    {
     "name": "stderr",
     "output_type": "stream",
     "text": [
      "INFO  @ Thu, 14 Dec 2017 01:40:31: Input filename is: /home/a0121533/InfiniumPurify/purity_data/red_methy_TCGA-F4-6855-01A-11D-1926-05.txt \n",
      "INFO  @ Thu, 14 Dec 2017 01:40:31: Cancer Type is: COAD \n",
      "INFO  @ Thu, 14 Dec 2017 01:40:31: Loading hyper and hypo iDMCs for: COAD \n",
      "INFO  @ Thu, 14 Dec 2017 01:40:31: Computating peak mode of iDMCs ... \n"
     ]
    },
    {
     "name": "stdout",
     "output_type": "stream",
     "text": [
      "TCGA-F4-6855-01A-11D-1926-05 0.6900000000000001\n"
     ]
    },
    {
     "name": "stderr",
     "output_type": "stream",
     "text": [
      "INFO  @ Thu, 14 Dec 2017 01:40:52: Input filename is: /home/a0121533/InfiniumPurify/purity_data/red_methy_TCGA-F4-6856-01A-11D-1926-05.txt \n",
      "INFO  @ Thu, 14 Dec 2017 01:40:52: Cancer Type is: COAD \n",
      "INFO  @ Thu, 14 Dec 2017 01:40:52: Loading hyper and hypo iDMCs for: COAD \n",
      "INFO  @ Thu, 14 Dec 2017 01:40:52: Computating peak mode of iDMCs ... \n"
     ]
    },
    {
     "name": "stdout",
     "output_type": "stream",
     "text": [
      "TCGA-F4-6856-01A-11D-1926-05 0.58\n"
     ]
    },
    {
     "name": "stderr",
     "output_type": "stream",
     "text": [
      "INFO  @ Thu, 14 Dec 2017 01:41:13: Input filename is: /home/a0121533/InfiniumPurify/purity_data/red_methy_TCGA-G4-6293-01A-11D-1721-05.txt \n",
      "INFO  @ Thu, 14 Dec 2017 01:41:13: Cancer Type is: COAD \n",
      "INFO  @ Thu, 14 Dec 2017 01:41:13: Loading hyper and hypo iDMCs for: COAD \n",
      "INFO  @ Thu, 14 Dec 2017 01:41:13: Computating peak mode of iDMCs ... \n"
     ]
    },
    {
     "name": "stdout",
     "output_type": "stream",
     "text": [
      "TCGA-G4-6293-01A-11D-1721-05 0.62\n"
     ]
    },
    {
     "name": "stderr",
     "output_type": "stream",
     "text": [
      "INFO  @ Thu, 14 Dec 2017 01:41:34: Input filename is: /home/a0121533/InfiniumPurify/purity_data/red_methy_TCGA-G4-6294-01A-11D-1772-05.txt \n",
      "INFO  @ Thu, 14 Dec 2017 01:41:34: Cancer Type is: COAD \n",
      "INFO  @ Thu, 14 Dec 2017 01:41:34: Loading hyper and hypo iDMCs for: COAD \n",
      "INFO  @ Thu, 14 Dec 2017 01:41:34: Computating peak mode of iDMCs ... \n"
     ]
    },
    {
     "name": "stdout",
     "output_type": "stream",
     "text": [
      "TCGA-G4-6294-01A-11D-1772-05 0.8200000000000001\n"
     ]
    },
    {
     "name": "stderr",
     "output_type": "stream",
     "text": [
      "INFO  @ Thu, 14 Dec 2017 01:41:55: Input filename is: /home/a0121533/InfiniumPurify/purity_data/red_methy_TCGA-G4-6295-01A-11D-1721-05.txt \n",
      "INFO  @ Thu, 14 Dec 2017 01:41:55: Cancer Type is: COAD \n",
      "INFO  @ Thu, 14 Dec 2017 01:41:55: Loading hyper and hypo iDMCs for: COAD \n",
      "INFO  @ Thu, 14 Dec 2017 01:41:55: Computating peak mode of iDMCs ... \n"
     ]
    },
    {
     "name": "stdout",
     "output_type": "stream",
     "text": [
      "TCGA-G4-6295-01A-11D-1721-05 0.78\n"
     ]
    },
    {
     "name": "stderr",
     "output_type": "stream",
     "text": [
      "INFO  @ Thu, 14 Dec 2017 01:42:16: Input filename is: /home/a0121533/InfiniumPurify/purity_data/red_methy_TCGA-G4-6297-01A-11D-1721-05.txt \n",
      "INFO  @ Thu, 14 Dec 2017 01:42:16: Cancer Type is: COAD \n",
      "INFO  @ Thu, 14 Dec 2017 01:42:16: Loading hyper and hypo iDMCs for: COAD \n",
      "INFO  @ Thu, 14 Dec 2017 01:42:16: Computating peak mode of iDMCs ... \n"
     ]
    },
    {
     "name": "stdout",
     "output_type": "stream",
     "text": [
      "TCGA-G4-6297-01A-11D-1721-05 0.61\n"
     ]
    },
    {
     "name": "stderr",
     "output_type": "stream",
     "text": [
      "INFO  @ Thu, 14 Dec 2017 01:42:38: Input filename is: /home/a0121533/InfiniumPurify/purity_data/red_methy_TCGA-G4-6298-01A-11D-1721-05.txt \n",
      "INFO  @ Thu, 14 Dec 2017 01:42:38: Cancer Type is: COAD \n",
      "INFO  @ Thu, 14 Dec 2017 01:42:38: Loading hyper and hypo iDMCs for: COAD \n",
      "INFO  @ Thu, 14 Dec 2017 01:42:38: Computating peak mode of iDMCs ... \n"
     ]
    },
    {
     "name": "stdout",
     "output_type": "stream",
     "text": [
      "TCGA-G4-6298-01A-11D-1721-05 0.61\n"
     ]
    },
    {
     "name": "stderr",
     "output_type": "stream",
     "text": [
      "INFO  @ Thu, 14 Dec 2017 01:42:59: Input filename is: /home/a0121533/InfiniumPurify/purity_data/red_methy_TCGA-G4-6299-01A-11D-1772-05.txt \n",
      "INFO  @ Thu, 14 Dec 2017 01:42:59: Cancer Type is: COAD \n",
      "INFO  @ Thu, 14 Dec 2017 01:42:59: Loading hyper and hypo iDMCs for: COAD \n",
      "INFO  @ Thu, 14 Dec 2017 01:42:59: Computating peak mode of iDMCs ... \n"
     ]
    },
    {
     "name": "stdout",
     "output_type": "stream",
     "text": [
      "TCGA-G4-6299-01A-11D-1772-05 0.6\n"
     ]
    },
    {
     "name": "stderr",
     "output_type": "stream",
     "text": [
      "INFO  @ Thu, 14 Dec 2017 01:43:20: Input filename is: /home/a0121533/InfiniumPurify/purity_data/red_methy_TCGA-G4-6302-01A-11D-1721-05.txt \n",
      "INFO  @ Thu, 14 Dec 2017 01:43:20: Cancer Type is: COAD \n",
      "INFO  @ Thu, 14 Dec 2017 01:43:20: Loading hyper and hypo iDMCs for: COAD \n",
      "INFO  @ Thu, 14 Dec 2017 01:43:20: Computating peak mode of iDMCs ... \n"
     ]
    },
    {
     "name": "stdout",
     "output_type": "stream",
     "text": [
      "TCGA-G4-6302-01A-11D-1721-05 0.33\n"
     ]
    },
    {
     "name": "stderr",
     "output_type": "stream",
     "text": [
      "INFO  @ Thu, 14 Dec 2017 01:43:41: Input filename is: /home/a0121533/InfiniumPurify/purity_data/red_methy_TCGA-G4-6303-01A-11D-1772-05.txt \n",
      "INFO  @ Thu, 14 Dec 2017 01:43:41: Cancer Type is: COAD \n",
      "INFO  @ Thu, 14 Dec 2017 01:43:41: Loading hyper and hypo iDMCs for: COAD \n",
      "INFO  @ Thu, 14 Dec 2017 01:43:41: Computating peak mode of iDMCs ... \n"
     ]
    },
    {
     "name": "stdout",
     "output_type": "stream",
     "text": [
      "TCGA-G4-6303-01A-11D-1772-05 0.76\n"
     ]
    },
    {
     "name": "stderr",
     "output_type": "stream",
     "text": [
      "INFO  @ Thu, 14 Dec 2017 01:44:02: Input filename is: /home/a0121533/InfiniumPurify/purity_data/red_methy_TCGA-G4-6304-01A-11D-1926-05.txt \n",
      "INFO  @ Thu, 14 Dec 2017 01:44:02: Cancer Type is: COAD \n",
      "INFO  @ Thu, 14 Dec 2017 01:44:02: Loading hyper and hypo iDMCs for: COAD \n",
      "INFO  @ Thu, 14 Dec 2017 01:44:02: Computating peak mode of iDMCs ... \n"
     ]
    },
    {
     "name": "stdout",
     "output_type": "stream",
     "text": [
      "TCGA-G4-6304-01A-11D-1926-05 0.41000000000000003\n"
     ]
    },
    {
     "name": "stderr",
     "output_type": "stream",
     "text": [
      "INFO  @ Thu, 14 Dec 2017 01:44:24: Input filename is: /home/a0121533/InfiniumPurify/purity_data/red_methy_TCGA-G4-6306-01A-11D-1772-05.txt \n",
      "INFO  @ Thu, 14 Dec 2017 01:44:24: Cancer Type is: COAD \n",
      "INFO  @ Thu, 14 Dec 2017 01:44:24: Loading hyper and hypo iDMCs for: COAD \n",
      "INFO  @ Thu, 14 Dec 2017 01:44:24: Computating peak mode of iDMCs ... \n"
     ]
    },
    {
     "name": "stdout",
     "output_type": "stream",
     "text": [
      "TCGA-G4-6306-01A-11D-1772-05 0.75\n"
     ]
    },
    {
     "name": "stderr",
     "output_type": "stream",
     "text": [
      "INFO  @ Thu, 14 Dec 2017 01:44:45: Input filename is: /home/a0121533/InfiniumPurify/purity_data/red_methy_TCGA-G4-6307-01A-11D-1721-05.txt \n",
      "INFO  @ Thu, 14 Dec 2017 01:44:45: Cancer Type is: COAD \n",
      "INFO  @ Thu, 14 Dec 2017 01:44:45: Loading hyper and hypo iDMCs for: COAD \n",
      "INFO  @ Thu, 14 Dec 2017 01:44:45: Computating peak mode of iDMCs ... \n"
     ]
    },
    {
     "name": "stdout",
     "output_type": "stream",
     "text": [
      "TCGA-G4-6307-01A-11D-1721-05 0.81\n"
     ]
    },
    {
     "name": "stderr",
     "output_type": "stream",
     "text": [
      "INFO  @ Thu, 14 Dec 2017 01:45:06: Input filename is: /home/a0121533/InfiniumPurify/purity_data/red_methy_TCGA-G4-6309-01A-21D-1837-05.txt \n",
      "INFO  @ Thu, 14 Dec 2017 01:45:06: Cancer Type is: COAD \n",
      "INFO  @ Thu, 14 Dec 2017 01:45:06: Loading hyper and hypo iDMCs for: COAD \n",
      "INFO  @ Thu, 14 Dec 2017 01:45:06: Computating peak mode of iDMCs ... \n"
     ]
    },
    {
     "name": "stdout",
     "output_type": "stream",
     "text": [
      "TCGA-G4-6309-01A-21D-1837-05 0.78\n"
     ]
    },
    {
     "name": "stderr",
     "output_type": "stream",
     "text": [
      "INFO  @ Thu, 14 Dec 2017 01:45:27: Input filename is: /home/a0121533/InfiniumPurify/purity_data/red_methy_TCGA-G4-6310-01A-11D-1721-05.txt \n",
      "INFO  @ Thu, 14 Dec 2017 01:45:27: Cancer Type is: COAD \n",
      "INFO  @ Thu, 14 Dec 2017 01:45:27: Loading hyper and hypo iDMCs for: COAD \n",
      "INFO  @ Thu, 14 Dec 2017 01:45:27: Computating peak mode of iDMCs ... \n"
     ]
    },
    {
     "name": "stdout",
     "output_type": "stream",
     "text": [
      "TCGA-G4-6310-01A-11D-1721-05 0.62\n"
     ]
    },
    {
     "name": "stderr",
     "output_type": "stream",
     "text": [
      "INFO  @ Thu, 14 Dec 2017 01:45:48: Input filename is: /home/a0121533/InfiniumPurify/purity_data/red_methy_TCGA-G4-6311-01A-11D-1721-05.txt \n",
      "INFO  @ Thu, 14 Dec 2017 01:45:48: Cancer Type is: COAD \n",
      "INFO  @ Thu, 14 Dec 2017 01:45:48: Loading hyper and hypo iDMCs for: COAD \n",
      "INFO  @ Thu, 14 Dec 2017 01:45:48: Computating peak mode of iDMCs ... \n"
     ]
    },
    {
     "name": "stdout",
     "output_type": "stream",
     "text": [
      "TCGA-G4-6311-01A-11D-1721-05 0.55\n"
     ]
    },
    {
     "name": "stderr",
     "output_type": "stream",
     "text": [
      "INFO  @ Thu, 14 Dec 2017 01:46:10: Input filename is: /home/a0121533/InfiniumPurify/purity_data/red_methy_TCGA-G4-6314-01A-11D-1721-05.txt \n",
      "INFO  @ Thu, 14 Dec 2017 01:46:10: Cancer Type is: COAD \n",
      "INFO  @ Thu, 14 Dec 2017 01:46:10: Loading hyper and hypo iDMCs for: COAD \n",
      "INFO  @ Thu, 14 Dec 2017 01:46:10: Computating peak mode of iDMCs ... \n"
     ]
    },
    {
     "name": "stdout",
     "output_type": "stream",
     "text": [
      "TCGA-G4-6314-01A-11D-1721-05 0.61\n"
     ]
    },
    {
     "name": "stderr",
     "output_type": "stream",
     "text": [
      "INFO  @ Thu, 14 Dec 2017 01:46:31: Input filename is: /home/a0121533/InfiniumPurify/purity_data/red_methy_TCGA-G4-6315-01A-11D-1721-05.txt \n",
      "INFO  @ Thu, 14 Dec 2017 01:46:31: Cancer Type is: COAD \n",
      "INFO  @ Thu, 14 Dec 2017 01:46:31: Loading hyper and hypo iDMCs for: COAD \n",
      "INFO  @ Thu, 14 Dec 2017 01:46:31: Computating peak mode of iDMCs ... \n"
     ]
    },
    {
     "name": "stdout",
     "output_type": "stream",
     "text": [
      "TCGA-G4-6315-01A-11D-1721-05 0.56\n"
     ]
    },
    {
     "name": "stderr",
     "output_type": "stream",
     "text": [
      "INFO  @ Thu, 14 Dec 2017 01:46:52: Input filename is: /home/a0121533/InfiniumPurify/purity_data/red_methy_TCGA-G4-6317-01A-11D-1721-05.txt \n",
      "INFO  @ Thu, 14 Dec 2017 01:46:52: Cancer Type is: COAD \n",
      "INFO  @ Thu, 14 Dec 2017 01:46:52: Loading hyper and hypo iDMCs for: COAD \n",
      "INFO  @ Thu, 14 Dec 2017 01:46:52: Computating peak mode of iDMCs ... \n"
     ]
    },
    {
     "name": "stdout",
     "output_type": "stream",
     "text": [
      "TCGA-G4-6317-01A-11D-1721-05 0.78\n"
     ]
    },
    {
     "name": "stderr",
     "output_type": "stream",
     "text": [
      "INFO  @ Thu, 14 Dec 2017 01:47:13: Input filename is: /home/a0121533/InfiniumPurify/purity_data/red_methy_TCGA-G4-6317-02A-11D-2064-05.txt \n",
      "INFO  @ Thu, 14 Dec 2017 01:47:13: Cancer Type is: COAD \n",
      "INFO  @ Thu, 14 Dec 2017 01:47:13: Loading hyper and hypo iDMCs for: COAD \n",
      "INFO  @ Thu, 14 Dec 2017 01:47:13: Computating peak mode of iDMCs ... \n"
     ]
    },
    {
     "name": "stdout",
     "output_type": "stream",
     "text": [
      "TCGA-G4-6317-02A-11D-2064-05 0.91\n"
     ]
    },
    {
     "name": "stderr",
     "output_type": "stream",
     "text": [
      "INFO  @ Thu, 14 Dec 2017 01:47:35: Input filename is: /home/a0121533/InfiniumPurify/purity_data/red_methy_TCGA-G4-6320-01A-11D-1721-05.txt \n",
      "INFO  @ Thu, 14 Dec 2017 01:47:35: Cancer Type is: COAD \n",
      "INFO  @ Thu, 14 Dec 2017 01:47:35: Loading hyper and hypo iDMCs for: COAD \n",
      "INFO  @ Thu, 14 Dec 2017 01:47:35: Computating peak mode of iDMCs ... \n"
     ]
    },
    {
     "name": "stdout",
     "output_type": "stream",
     "text": [
      "TCGA-G4-6320-01A-11D-1721-05 0.8200000000000001\n"
     ]
    },
    {
     "name": "stderr",
     "output_type": "stream",
     "text": [
      "INFO  @ Thu, 14 Dec 2017 01:47:56: Input filename is: /home/a0121533/InfiniumPurify/purity_data/red_methy_TCGA-G4-6321-01A-11D-1721-05.txt \n",
      "INFO  @ Thu, 14 Dec 2017 01:47:56: Cancer Type is: COAD \n",
      "INFO  @ Thu, 14 Dec 2017 01:47:56: Loading hyper and hypo iDMCs for: COAD \n",
      "INFO  @ Thu, 14 Dec 2017 01:47:56: Computating peak mode of iDMCs ... \n"
     ]
    },
    {
     "name": "stdout",
     "output_type": "stream",
     "text": [
      "TCGA-G4-6321-01A-11D-1721-05 0.53\n"
     ]
    },
    {
     "name": "stderr",
     "output_type": "stream",
     "text": [
      "INFO  @ Thu, 14 Dec 2017 01:48:17: Input filename is: /home/a0121533/InfiniumPurify/purity_data/red_methy_TCGA-G4-6322-01A-11D-1721-05.txt \n",
      "INFO  @ Thu, 14 Dec 2017 01:48:17: Cancer Type is: COAD \n",
      "INFO  @ Thu, 14 Dec 2017 01:48:17: Loading hyper and hypo iDMCs for: COAD \n",
      "INFO  @ Thu, 14 Dec 2017 01:48:17: Computating peak mode of iDMCs ... \n"
     ]
    },
    {
     "name": "stdout",
     "output_type": "stream",
     "text": [
      "TCGA-G4-6322-01A-11D-1721-05 0.87\n"
     ]
    },
    {
     "name": "stderr",
     "output_type": "stream",
     "text": [
      "INFO  @ Thu, 14 Dec 2017 01:48:38: Input filename is: /home/a0121533/InfiniumPurify/purity_data/red_methy_TCGA-G4-6323-01A-11D-1721-05.txt \n",
      "INFO  @ Thu, 14 Dec 2017 01:48:38: Cancer Type is: COAD \n",
      "INFO  @ Thu, 14 Dec 2017 01:48:38: Loading hyper and hypo iDMCs for: COAD \n",
      "INFO  @ Thu, 14 Dec 2017 01:48:38: Computating peak mode of iDMCs ... \n"
     ]
    },
    {
     "name": "stdout",
     "output_type": "stream",
     "text": [
      "TCGA-G4-6323-01A-11D-1721-05 0.6\n"
     ]
    },
    {
     "name": "stderr",
     "output_type": "stream",
     "text": [
      "INFO  @ Thu, 14 Dec 2017 01:48:59: Input filename is: /home/a0121533/InfiniumPurify/purity_data/red_methy_TCGA-G4-6586-01A-11D-1772-05.txt \n",
      "INFO  @ Thu, 14 Dec 2017 01:48:59: Cancer Type is: COAD \n",
      "INFO  @ Thu, 14 Dec 2017 01:48:59: Loading hyper and hypo iDMCs for: COAD \n",
      "INFO  @ Thu, 14 Dec 2017 01:48:59: Computating peak mode of iDMCs ... \n"
     ]
    },
    {
     "name": "stdout",
     "output_type": "stream",
     "text": [
      "TCGA-G4-6586-01A-11D-1772-05 0.67\n"
     ]
    },
    {
     "name": "stderr",
     "output_type": "stream",
     "text": [
      "INFO  @ Thu, 14 Dec 2017 01:49:21: Input filename is: /home/a0121533/InfiniumPurify/purity_data/red_methy_TCGA-G4-6588-01A-11D-1772-05.txt \n",
      "INFO  @ Thu, 14 Dec 2017 01:49:21: Cancer Type is: COAD \n",
      "INFO  @ Thu, 14 Dec 2017 01:49:21: Loading hyper and hypo iDMCs for: COAD \n",
      "INFO  @ Thu, 14 Dec 2017 01:49:21: Computating peak mode of iDMCs ... \n"
     ]
    },
    {
     "name": "stdout",
     "output_type": "stream",
     "text": [
      "TCGA-G4-6588-01A-11D-1772-05 0.62\n"
     ]
    },
    {
     "name": "stderr",
     "output_type": "stream",
     "text": [
      "INFO  @ Thu, 14 Dec 2017 01:49:42: Input filename is: /home/a0121533/InfiniumPurify/purity_data/red_methy_TCGA-G4-6625-01A-21D-1772-05.txt \n",
      "INFO  @ Thu, 14 Dec 2017 01:49:42: Cancer Type is: COAD \n",
      "INFO  @ Thu, 14 Dec 2017 01:49:42: Loading hyper and hypo iDMCs for: COAD \n",
      "INFO  @ Thu, 14 Dec 2017 01:49:42: Computating peak mode of iDMCs ... \n"
     ]
    },
    {
     "name": "stdout",
     "output_type": "stream",
     "text": [
      "TCGA-G4-6625-01A-21D-1772-05 0.55\n"
     ]
    },
    {
     "name": "stderr",
     "output_type": "stream",
     "text": [
      "INFO  @ Thu, 14 Dec 2017 01:50:03: Input filename is: /home/a0121533/InfiniumPurify/purity_data/red_methy_TCGA-G4-6626-01A-11D-1772-05.txt \n",
      "INFO  @ Thu, 14 Dec 2017 01:50:03: Cancer Type is: COAD \n",
      "INFO  @ Thu, 14 Dec 2017 01:50:03: Loading hyper and hypo iDMCs for: COAD \n",
      "INFO  @ Thu, 14 Dec 2017 01:50:03: Computating peak mode of iDMCs ... \n"
     ]
    },
    {
     "name": "stdout",
     "output_type": "stream",
     "text": [
      "TCGA-G4-6626-01A-11D-1772-05 0.6900000000000001\n"
     ]
    },
    {
     "name": "stderr",
     "output_type": "stream",
     "text": [
      "INFO  @ Thu, 14 Dec 2017 01:50:24: Input filename is: /home/a0121533/InfiniumPurify/purity_data/red_methy_TCGA-G4-6627-01A-11D-1772-05.txt \n",
      "INFO  @ Thu, 14 Dec 2017 01:50:24: Cancer Type is: COAD \n",
      "INFO  @ Thu, 14 Dec 2017 01:50:24: Loading hyper and hypo iDMCs for: COAD \n",
      "INFO  @ Thu, 14 Dec 2017 01:50:24: Computating peak mode of iDMCs ... \n"
     ]
    },
    {
     "name": "stdout",
     "output_type": "stream",
     "text": [
      "TCGA-G4-6627-01A-11D-1772-05 0.41000000000000003\n"
     ]
    },
    {
     "name": "stderr",
     "output_type": "stream",
     "text": [
      "INFO  @ Thu, 14 Dec 2017 01:50:45: Input filename is: /home/a0121533/InfiniumPurify/purity_data/red_methy_TCGA-G4-6628-01A-11D-1837-05.txt \n",
      "INFO  @ Thu, 14 Dec 2017 01:50:45: Cancer Type is: COAD \n",
      "INFO  @ Thu, 14 Dec 2017 01:50:45: Loading hyper and hypo iDMCs for: COAD \n",
      "INFO  @ Thu, 14 Dec 2017 01:50:45: Computating peak mode of iDMCs ... \n"
     ]
    },
    {
     "name": "stdout",
     "output_type": "stream",
     "text": [
      "TCGA-G4-6628-01A-11D-1837-05 0.5700000000000001\n"
     ]
    },
    {
     "name": "stderr",
     "output_type": "stream",
     "text": [
      "INFO  @ Thu, 14 Dec 2017 01:51:07: Input filename is: /home/a0121533/InfiniumPurify/purity_data/red_methy_TCGA-NH-A50T-01A-11D-A28O-05.txt \n",
      "INFO  @ Thu, 14 Dec 2017 01:51:07: Cancer Type is: COAD \n",
      "INFO  @ Thu, 14 Dec 2017 01:51:07: Loading hyper and hypo iDMCs for: COAD \n",
      "INFO  @ Thu, 14 Dec 2017 01:51:07: Computating peak mode of iDMCs ... \n"
     ]
    },
    {
     "name": "stdout",
     "output_type": "stream",
     "text": [
      "TCGA-NH-A50T-01A-11D-A28O-05 0.85\n"
     ]
    },
    {
     "name": "stderr",
     "output_type": "stream",
     "text": [
      "INFO  @ Thu, 14 Dec 2017 01:51:28: Input filename is: /home/a0121533/InfiniumPurify/purity_data/red_methy_TCGA-NH-A50U-01A-33D-A36Y-05.txt \n",
      "INFO  @ Thu, 14 Dec 2017 01:51:28: Cancer Type is: COAD \n",
      "INFO  @ Thu, 14 Dec 2017 01:51:28: Loading hyper and hypo iDMCs for: COAD \n",
      "INFO  @ Thu, 14 Dec 2017 01:51:28: Computating peak mode of iDMCs ... \n"
     ]
    },
    {
     "name": "stdout",
     "output_type": "stream",
     "text": [
      "TCGA-NH-A50U-01A-33D-A36Y-05 0.85\n"
     ]
    },
    {
     "name": "stderr",
     "output_type": "stream",
     "text": [
      "INFO  @ Thu, 14 Dec 2017 01:51:49: Input filename is: /home/a0121533/InfiniumPurify/purity_data/red_methy_TCGA-NH-A50V-01A-11D-A28O-05.txt \n",
      "INFO  @ Thu, 14 Dec 2017 01:51:49: Cancer Type is: COAD \n",
      "INFO  @ Thu, 14 Dec 2017 01:51:49: Loading hyper and hypo iDMCs for: COAD \n",
      "INFO  @ Thu, 14 Dec 2017 01:51:49: Computating peak mode of iDMCs ... \n"
     ]
    },
    {
     "name": "stdout",
     "output_type": "stream",
     "text": [
      "TCGA-NH-A50V-01A-11D-A28O-05 0.64\n"
     ]
    },
    {
     "name": "stderr",
     "output_type": "stream",
     "text": [
      "INFO  @ Thu, 14 Dec 2017 01:52:10: Input filename is: /home/a0121533/InfiniumPurify/purity_data/red_methy_TCGA-NH-A5IV-01A-42D-A36Y-05.txt \n",
      "INFO  @ Thu, 14 Dec 2017 01:52:10: Cancer Type is: COAD \n",
      "INFO  @ Thu, 14 Dec 2017 01:52:10: Loading hyper and hypo iDMCs for: COAD \n",
      "INFO  @ Thu, 14 Dec 2017 01:52:10: Computating peak mode of iDMCs ... \n"
     ]
    },
    {
     "name": "stdout",
     "output_type": "stream",
     "text": [
      "TCGA-NH-A5IV-01A-42D-A36Y-05 0.8\n"
     ]
    },
    {
     "name": "stderr",
     "output_type": "stream",
     "text": [
      "INFO  @ Thu, 14 Dec 2017 01:52:31: Input filename is: /home/a0121533/InfiniumPurify/purity_data/red_methy_TCGA-NH-A6GA-01A-11D-A36Y-05.txt \n",
      "INFO  @ Thu, 14 Dec 2017 01:52:31: Cancer Type is: COAD \n",
      "INFO  @ Thu, 14 Dec 2017 01:52:31: Loading hyper and hypo iDMCs for: COAD \n",
      "INFO  @ Thu, 14 Dec 2017 01:52:31: Computating peak mode of iDMCs ... \n"
     ]
    },
    {
     "name": "stdout",
     "output_type": "stream",
     "text": [
      "TCGA-NH-A6GA-01A-11D-A36Y-05 0.76\n"
     ]
    },
    {
     "name": "stderr",
     "output_type": "stream",
     "text": [
      "INFO  @ Thu, 14 Dec 2017 01:52:53: Input filename is: /home/a0121533/InfiniumPurify/purity_data/red_methy_TCGA-NH-A6GB-01A-11D-A36Y-05.txt \n",
      "INFO  @ Thu, 14 Dec 2017 01:52:53: Cancer Type is: COAD \n",
      "INFO  @ Thu, 14 Dec 2017 01:52:53: Loading hyper and hypo iDMCs for: COAD \n",
      "INFO  @ Thu, 14 Dec 2017 01:52:53: Computating peak mode of iDMCs ... \n"
     ]
    },
    {
     "name": "stdout",
     "output_type": "stream",
     "text": [
      "TCGA-NH-A6GB-01A-11D-A36Y-05 0.6900000000000001\n"
     ]
    },
    {
     "name": "stderr",
     "output_type": "stream",
     "text": [
      "INFO  @ Thu, 14 Dec 2017 01:53:14: Input filename is: /home/a0121533/InfiniumPurify/purity_data/red_methy_TCGA-NH-A6GC-01A-12D-A40X-05.txt \n",
      "INFO  @ Thu, 14 Dec 2017 01:53:14: Cancer Type is: COAD \n",
      "INFO  @ Thu, 14 Dec 2017 01:53:14: Loading hyper and hypo iDMCs for: COAD \n",
      "INFO  @ Thu, 14 Dec 2017 01:53:14: Computating peak mode of iDMCs ... \n"
     ]
    },
    {
     "name": "stdout",
     "output_type": "stream",
     "text": [
      "TCGA-NH-A6GC-01A-12D-A40X-05 0.87\n"
     ]
    },
    {
     "name": "stderr",
     "output_type": "stream",
     "text": [
      "INFO  @ Thu, 14 Dec 2017 01:53:35: Input filename is: /home/a0121533/InfiniumPurify/purity_data/red_methy_TCGA-NH-A8F7-01A-11D-A40X-05.txt \n",
      "INFO  @ Thu, 14 Dec 2017 01:53:35: Cancer Type is: COAD \n",
      "INFO  @ Thu, 14 Dec 2017 01:53:35: Loading hyper and hypo iDMCs for: COAD \n",
      "INFO  @ Thu, 14 Dec 2017 01:53:35: Computating peak mode of iDMCs ... \n"
     ]
    },
    {
     "name": "stdout",
     "output_type": "stream",
     "text": [
      "TCGA-NH-A8F7-01A-11D-A40X-05 0.87\n"
     ]
    },
    {
     "name": "stderr",
     "output_type": "stream",
     "text": [
      "INFO  @ Thu, 14 Dec 2017 01:53:56: Input filename is: /home/a0121533/InfiniumPurify/purity_data/red_methy_TCGA-NH-A8F7-06A-31D-A40X-05.txt \n",
      "INFO  @ Thu, 14 Dec 2017 01:53:56: Cancer Type is: COAD \n",
      "INFO  @ Thu, 14 Dec 2017 01:53:56: Loading hyper and hypo iDMCs for: COAD \n",
      "INFO  @ Thu, 14 Dec 2017 01:53:56: Computating peak mode of iDMCs ... \n"
     ]
    },
    {
     "name": "stdout",
     "output_type": "stream",
     "text": [
      "TCGA-NH-A8F7-06A-31D-A40X-05 0.88\n"
     ]
    },
    {
     "name": "stderr",
     "output_type": "stream",
     "text": [
      "INFO  @ Thu, 14 Dec 2017 01:54:17: Input filename is: /home/a0121533/InfiniumPurify/purity_data/red_methy_TCGA-NH-A8F8-01A-72D-A40X-05.txt \n",
      "INFO  @ Thu, 14 Dec 2017 01:54:17: Cancer Type is: COAD \n",
      "INFO  @ Thu, 14 Dec 2017 01:54:17: Loading hyper and hypo iDMCs for: COAD \n",
      "INFO  @ Thu, 14 Dec 2017 01:54:17: Computating peak mode of iDMCs ... \n"
     ]
    },
    {
     "name": "stdout",
     "output_type": "stream",
     "text": [
      "TCGA-NH-A8F8-01A-72D-A40X-05 0.7000000000000001\n"
     ]
    },
    {
     "name": "stderr",
     "output_type": "stream",
     "text": [
      "INFO  @ Thu, 14 Dec 2017 01:54:38: Input filename is: /home/a0121533/InfiniumPurify/purity_data/red_methy_TCGA-QG-A5YV-01A-11D-A28O-05.txt \n",
      "INFO  @ Thu, 14 Dec 2017 01:54:38: Cancer Type is: COAD \n",
      "INFO  @ Thu, 14 Dec 2017 01:54:38: Loading hyper and hypo iDMCs for: COAD \n",
      "INFO  @ Thu, 14 Dec 2017 01:54:38: Computating peak mode of iDMCs ... \n"
     ]
    },
    {
     "name": "stdout",
     "output_type": "stream",
     "text": [
      "TCGA-QG-A5YV-01A-11D-A28O-05 0.86\n"
     ]
    },
    {
     "name": "stderr",
     "output_type": "stream",
     "text": [
      "INFO  @ Thu, 14 Dec 2017 01:55:00: Input filename is: /home/a0121533/InfiniumPurify/purity_data/red_methy_TCGA-QG-A5YW-01A-11D-A28O-05.txt \n",
      "INFO  @ Thu, 14 Dec 2017 01:55:00: Cancer Type is: COAD \n",
      "INFO  @ Thu, 14 Dec 2017 01:55:00: Loading hyper and hypo iDMCs for: COAD \n",
      "INFO  @ Thu, 14 Dec 2017 01:55:00: Computating peak mode of iDMCs ... \n"
     ]
    },
    {
     "name": "stdout",
     "output_type": "stream",
     "text": [
      "TCGA-QG-A5YW-01A-11D-A28O-05 0.75\n"
     ]
    },
    {
     "name": "stderr",
     "output_type": "stream",
     "text": [
      "INFO  @ Thu, 14 Dec 2017 01:55:21: Input filename is: /home/a0121533/InfiniumPurify/purity_data/red_methy_TCGA-QG-A5YX-01A-11D-A28O-05.txt \n",
      "INFO  @ Thu, 14 Dec 2017 01:55:21: Cancer Type is: COAD \n",
      "INFO  @ Thu, 14 Dec 2017 01:55:21: Loading hyper and hypo iDMCs for: COAD \n",
      "INFO  @ Thu, 14 Dec 2017 01:55:21: Computating peak mode of iDMCs ... \n"
     ]
    },
    {
     "name": "stdout",
     "output_type": "stream",
     "text": [
      "TCGA-QG-A5YX-01A-11D-A28O-05 0.84\n"
     ]
    },
    {
     "name": "stderr",
     "output_type": "stream",
     "text": [
      "INFO  @ Thu, 14 Dec 2017 01:55:42: Input filename is: /home/a0121533/InfiniumPurify/purity_data/red_methy_TCGA-QG-A5Z1-01A-11D-A28O-05.txt \n",
      "INFO  @ Thu, 14 Dec 2017 01:55:42: Cancer Type is: COAD \n",
      "INFO  @ Thu, 14 Dec 2017 01:55:42: Loading hyper and hypo iDMCs for: COAD \n",
      "INFO  @ Thu, 14 Dec 2017 01:55:42: Computating peak mode of iDMCs ... \n"
     ]
    },
    {
     "name": "stdout",
     "output_type": "stream",
     "text": [
      "TCGA-QG-A5Z1-01A-11D-A28O-05 0.75\n"
     ]
    },
    {
     "name": "stderr",
     "output_type": "stream",
     "text": [
      "INFO  @ Thu, 14 Dec 2017 01:56:03: Input filename is: /home/a0121533/InfiniumPurify/purity_data/red_methy_TCGA-QG-A5Z2-01A-11D-A28O-05.txt \n",
      "INFO  @ Thu, 14 Dec 2017 01:56:03: Cancer Type is: COAD \n",
      "INFO  @ Thu, 14 Dec 2017 01:56:03: Loading hyper and hypo iDMCs for: COAD \n",
      "INFO  @ Thu, 14 Dec 2017 01:56:03: Computating peak mode of iDMCs ... \n"
     ]
    },
    {
     "name": "stdout",
     "output_type": "stream",
     "text": [
      "TCGA-QG-A5Z2-01A-11D-A28O-05 0.62\n"
     ]
    },
    {
     "name": "stderr",
     "output_type": "stream",
     "text": [
      "INFO  @ Thu, 14 Dec 2017 01:56:24: Input filename is: /home/a0121533/InfiniumPurify/purity_data/red_methy_TCGA-QL-A97D-01A-12D-A40X-05.txt \n",
      "INFO  @ Thu, 14 Dec 2017 01:56:24: Cancer Type is: COAD \n",
      "INFO  @ Thu, 14 Dec 2017 01:56:24: Loading hyper and hypo iDMCs for: COAD \n",
      "INFO  @ Thu, 14 Dec 2017 01:56:24: Computating peak mode of iDMCs ... \n"
     ]
    },
    {
     "name": "stdout",
     "output_type": "stream",
     "text": [
      "TCGA-QL-A97D-01A-12D-A40X-05 0.74\n"
     ]
    },
    {
     "name": "stderr",
     "output_type": "stream",
     "text": [
      "INFO  @ Thu, 14 Dec 2017 01:56:46: Input filename is: /home/a0121533/InfiniumPurify/purity_data/red_methy_TCGA-RU-A8FL-01A-11D-A36Y-05.txt \n",
      "INFO  @ Thu, 14 Dec 2017 01:56:46: Cancer Type is: COAD \n",
      "INFO  @ Thu, 14 Dec 2017 01:56:46: Loading hyper and hypo iDMCs for: COAD \n",
      "INFO  @ Thu, 14 Dec 2017 01:56:46: Computating peak mode of iDMCs ... \n"
     ]
    },
    {
     "name": "stdout",
     "output_type": "stream",
     "text": [
      "TCGA-RU-A8FL-01A-11D-A36Y-05 0.78\n"
     ]
    },
    {
     "name": "stderr",
     "output_type": "stream",
     "text": [
      "INFO  @ Thu, 14 Dec 2017 01:57:07: Input filename is: /home/a0121533/InfiniumPurify/purity_data/red_methy_TCGA-SS-A7HO-01A-21D-A36Y-05.txt \n",
      "INFO  @ Thu, 14 Dec 2017 01:57:07: Cancer Type is: COAD \n",
      "INFO  @ Thu, 14 Dec 2017 01:57:07: Loading hyper and hypo iDMCs for: COAD \n",
      "INFO  @ Thu, 14 Dec 2017 01:57:07: Computating peak mode of iDMCs ... \n"
     ]
    },
    {
     "name": "stdout",
     "output_type": "stream",
     "text": [
      "TCGA-SS-A7HO-01A-21D-A36Y-05 0.86\n"
     ]
    },
    {
     "name": "stderr",
     "output_type": "stream",
     "text": [
      "INFO  @ Thu, 14 Dec 2017 01:57:28: Input filename is: /home/a0121533/InfiniumPurify/purity_data/red_methy_TCGA-T9-A92H-01A-11D-A36Y-05.txt \n",
      "INFO  @ Thu, 14 Dec 2017 01:57:28: Cancer Type is: COAD \n",
      "INFO  @ Thu, 14 Dec 2017 01:57:28: Loading hyper and hypo iDMCs for: COAD \n",
      "INFO  @ Thu, 14 Dec 2017 01:57:28: Computating peak mode of iDMCs ... \n"
     ]
    },
    {
     "name": "stdout",
     "output_type": "stream",
     "text": [
      "TCGA-T9-A92H-01A-11D-A36Y-05 0.8\n"
     ]
    },
    {
     "name": "stderr",
     "output_type": "stream",
     "text": [
      "INFO  @ Thu, 14 Dec 2017 01:57:49: Input filename is: /home/a0121533/InfiniumPurify/purity_data/red_methy_TCGA-WS-AB45-01A-11D-A40X-05.txt \n",
      "INFO  @ Thu, 14 Dec 2017 01:57:49: Cancer Type is: COAD \n",
      "INFO  @ Thu, 14 Dec 2017 01:57:49: Loading hyper and hypo iDMCs for: COAD \n",
      "INFO  @ Thu, 14 Dec 2017 01:57:49: Computating peak mode of iDMCs ... \n"
     ]
    },
    {
     "name": "stdout",
     "output_type": "stream",
     "text": [
      "TCGA-WS-AB45-01A-11D-A40X-05 0.39\n"
     ]
    }
   ],
   "source": [
    "purity_dict = {}\n",
    "\n",
    "for i in genes_id:\n",
    "    start_columns = ['CpG'] \n",
    "    end_columns = ['Gene_Symbol', 'Chromosome', 'Genomic_Coordinate']\n",
    "    \n",
    "    start_columns.append(i)\n",
    "    start_columns.extend(end_columns)\n",
    "    cols_to_keep = start_columns\n",
    "    \n",
    "    red_methy = methy[cols_to_keep]\n",
    "    \n",
    "    red_methy[i] = red_methy[i].apply(lambda x: np.nan_to_num(x))\n",
    "    \n",
    "    file_name = '/home/a0121533/InfiniumPurify/purity_data/red_methy_'+ i+'.txt'\n",
    "    \n",
    "    np.savetxt(file_name, \n",
    "           red_methy.values, \n",
    "           fmt='%s',\n",
    "           delimiter='\\t', \n",
    "           header=\"\\tComposite Element REF\\tBeta_value\\tGene_Symbol\\tChromosome\\tGenomic_Coordinate\")\n",
    "    \n",
    "    purity = InfiniumPurifyPurity.getPurity(file_name, 'COAD')\n",
    "    print(i, purity)\n",
    "    purity_dict[i] = purity"
   ]
  },
  {
   "cell_type": "code",
   "execution_count": 76,
   "metadata": {
    "collapsed": true
   },
   "outputs": [],
   "source": [
    "import json\n",
    "with open('purity_score.json', 'w') as fp:\n",
    "    json.dump(purity_dict, fp)"
   ]
  },
  {
   "cell_type": "code",
   "execution_count": null,
   "metadata": {
    "collapsed": true
   },
   "outputs": [],
   "source": []
  }
 ],
 "metadata": {
  "kernelspec": {
   "display_name": "Python [Root]",
   "language": "python",
   "name": "Python [Root]"
  },
  "language_info": {
   "codemirror_mode": {
    "name": "ipython",
    "version": 3
   },
   "file_extension": ".py",
   "mimetype": "text/x-python",
   "name": "python",
   "nbconvert_exporter": "python",
   "pygments_lexer": "ipython3",
   "version": "3.5.0"
  }
 },
 "nbformat": 4,
 "nbformat_minor": 2
}
