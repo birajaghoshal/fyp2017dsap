{
 "cells": [
  {
   "cell_type": "markdown",
   "metadata": {},
   "source": [
    "#### README:\n",
    "- Run the next 4 boxes in succession, each time increasing the page number and the batch number\n",
    "- Each page has 25 images, each batch can only download 6 images, thus amounting to 5 batches per page\n",
    "- To obtain 100 images, we need to repeat the process at least 4 times taking into account there may be \"Unacceptable\" images\n",
    "- I did not write a for loop to simply process and to prevent dependency issues"
   ]
  },
  {
   "cell_type": "code",
   "execution_count": 7,
   "metadata": {
    "collapsed": true
   },
   "outputs": [],
   "source": [
    "from selenium import webdriver\n",
    "from selenium.webdriver.common.keys import Keys\n",
    "from selenium.webdriver.common.by import By\n",
    "from selenium.webdriver.support.ui import WebDriverWait\n",
    "from selenium.webdriver.support import expected_conditions as EC\n",
    "from selenium.webdriver.common.desired_capabilities import DesiredCapabilities\n",
    "from selenium.common.exceptions import TimeoutException\n",
    "\n",
    "def go_to_main_page(tissue_type):\n",
    "    \n",
    "    # Launch Chrome\n",
    "    driver = webdriver.Remote(\n",
    "        command_executor='http://127.0.0.1:4444/wd/hub',\n",
    "        desired_capabilities=DesiredCapabilities.CHROME)\n",
    "    \n",
    "    # Navigate to Page\n",
    "    driver.get(\"https://brd.nci.nih.gov/brd/image-search/search_specimen/searchForm\")\n",
    "    \n",
    "    # Type in Search Field \n",
    "    search_box = driver.find_element_by_name(\"query\")\n",
    "    search_box.send_keys(\"tissue:\"+tissue_type)\n",
    "    search_box.send_keys(Keys.RETURN)\n",
    "    \n",
    "    print(\"Reached main page for tissue_type: \" + tissue_type)\n",
    "    \n",
    "    # Tell Chrome that which is the main window\n",
    "    main_window_handle = None\n",
    "    while not main_window_handle:\n",
    "        main_window_handle = driver.current_window_handle\n",
    "    \n",
    "    return driver, main_window_handle\n",
    "\n",
    "\n",
    "def navigate_to_page(driver, page_num):\n",
    "    delay = 5\n",
    "    for i in range(0,page_num):\n",
    "        print(\"Navigating to page: \"+ str(i+1))\n",
    "        next_button = driver.find_element_by_css_selector('a.nextLink')\n",
    "        next_button.click()\n",
    "        try:\n",
    "            wait = WebDriverWait(driver, delay)\n",
    "            next_button = wait.until(EC.presence_of_element_located((By.CSS_SELECTOR, 'a.nextLink')))\n",
    "        except TimeoutException:\n",
    "            print(\"Timeout, cannot find nextbutton\")\n",
    "    print(\"Navigated to page: \" + str(page_num))\n",
    "\n",
    "def run_batch(driver, main_window_handle, batch_num): \n",
    "    delay = 5 # seconds\n",
    "    if (batch_num != 5):\n",
    "        for j in range(6*batch_num-5,6*batch_num+1):\n",
    "            glass = driver.find_element_by_xpath('//*[@id=\"container\"]/div[3]/table/tbody/tr['+str(j)+']/td[10]/a')\n",
    "            driver.execute_script(\"arguments[0].click()\", glass)\n",
    "\n",
    "            image_window_handle = None\n",
    "            while not image_window_handle:\n",
    "                for handle in driver.window_handles:\n",
    "                    if handle != main_window_handle:\n",
    "                        image_window_handle = handle\n",
    "                        break\n",
    "\n",
    "            driver.switch_to_window(image_window_handle)\n",
    "\n",
    "            try:\n",
    "                wait = WebDriverWait(driver, delay)\n",
    "                download_button = wait.until(EC.presence_of_element_located((By.XPATH, '//*[@id=\"img\"]')))\n",
    "                driver.execute_script(\"arguments[0].click()\", download_button)\n",
    "            except TimeoutException:\n",
    "                print(\"Timeout, cannot find download button!\")\n",
    "\n",
    "            driver.close()\n",
    "            driver.switch_to_window(main_window_handle)\n",
    "    else:\n",
    "        for j in range(6*batch_num-5,6*batch_num-4):\n",
    "            glass = driver.find_element_by_xpath('//*[@id=\"container\"]/div[3]/table/tbody/tr['+str(j)+']/td[10]/a')\n",
    "            driver.execute_script(\"arguments[0].click()\", glass)\n",
    "\n",
    "            image_window_handle = None\n",
    "            while not image_window_handle:\n",
    "                for handle in driver.window_handles:\n",
    "                    if handle != main_window_handle:\n",
    "                        image_window_handle = handle\n",
    "                        break\n",
    "\n",
    "            driver.switch_to_window(image_window_handle)\n",
    "\n",
    "            try:\n",
    "                wait = WebDriverWait(driver, delay)\n",
    "                download_button = wait.until(EC.presence_of_element_located((By.XPATH, '//*[@id=\"img\"]')))\n",
    "                driver.execute_script(\"arguments[0].click()\", download_button)\n",
    "            except TimeoutException:\n",
    "                print(\"Timeout, cannot find download button!\")\n",
    "\n",
    "            driver.close()\n",
    "            driver.switch_to_window(main_window_handle)\n",
    "    print(\"Batch \" + str(batch_num) + \" completed!\")"
   ]
  },
  {
   "cell_type": "code",
   "execution_count": 8,
   "metadata": {},
   "outputs": [
    {
     "name": "stdout",
     "output_type": "stream",
     "text": [
      "Reached main page for tissue_type: liver\n"
     ]
    }
   ],
   "source": [
    "driver, main_window_handle = go_to_main_page(\"liver\")"
   ]
  },
  {
   "cell_type": "code",
   "execution_count": 9,
   "metadata": {},
   "outputs": [
    {
     "name": "stdout",
     "output_type": "stream",
     "text": [
      "Navigating to page: 1\n",
      "Navigating to page: 2\n",
      "Navigating to page: 3\n",
      "Navigating to page: 4\n",
      "Navigating to page: 5\n",
      "Navigating to page: 6\n",
      "Navigating to page: 7\n",
      "Navigating to page: 8\n",
      "Navigating to page: 9\n",
      "Navigated to page: 9\n"
     ]
    }
   ],
   "source": [
    "page_num = 9\n",
    "navigate_to_page(driver, page_num)"
   ]
  },
  {
   "cell_type": "code",
   "execution_count": 10,
   "metadata": {},
   "outputs": [
    {
     "name": "stdout",
     "output_type": "stream",
     "text": [
      "Batch 1 completed!\n"
     ]
    }
   ],
   "source": [
    "batch_num = 1 # Select from 1 to 5 ONLY\n",
    "run_batch(driver, main_window_handle, batch_num)"
   ]
  },
  {
   "cell_type": "code",
   "execution_count": 11,
   "metadata": {
    "collapsed": true
   },
   "outputs": [],
   "source": [
    "# When download is completed\n",
    "driver.close()"
   ]
  },
  {
   "cell_type": "code",
   "execution_count": null,
   "metadata": {
    "collapsed": true
   },
   "outputs": [],
   "source": []
  }
 ],
 "metadata": {
  "anaconda-cloud": {},
  "kernelspec": {
   "display_name": "Python3 Tensorflow Keras",
   "language": "python",
   "name": "keras"
  },
  "language_info": {
   "codemirror_mode": {
    "name": "ipython",
    "version": 3
   },
   "file_extension": ".py",
   "mimetype": "text/x-python",
   "name": "python",
   "nbconvert_exporter": "python",
   "pygments_lexer": "ipython3",
   "version": "3.5.2"
  }
 },
 "nbformat": 4,
 "nbformat_minor": 2
}
